{
 "cells": [
  {
   "cell_type": "code",
   "execution_count": 108,
   "metadata": {},
   "outputs": [],
   "source": [
    "import pandas as pd\n",
    "import requests\n",
    "import json\n",
    "import time\n",
    "import re\n",
    "import matplotlib.pyplot as plt\n",
    "\n",
    "%matplotlib inline"
   ]
  },
  {
   "cell_type": "code",
   "execution_count": 1,
   "metadata": {},
   "outputs": [
    {
     "name": "stdout",
     "output_type": "stream",
     "text": [
      "Collecting vaderSentiment\n",
      "\u001b[?25l  Downloading https://files.pythonhosted.org/packages/86/9e/c53e1fc61aac5ee490a6ac5e21b1ac04e55a7c2aba647bb8411c9aadf24e/vaderSentiment-3.2.1-py2.py3-none-any.whl (125kB)\n",
      "\u001b[K    100% |████████████████████████████████| 133kB 5.5MB/s \n",
      "\u001b[?25hInstalling collected packages: vaderSentiment\n",
      "Successfully installed vaderSentiment-3.2.1\n",
      "Note: you may need to restart the kernel to use updated packages.\n"
     ]
    }
   ],
   "source": [
    "pip install vaderSentiment"
   ]
  },
  {
   "cell_type": "code",
   "execution_count": 109,
   "metadata": {},
   "outputs": [],
   "source": [
    "from vaderSentiment.vaderSentiment import SentimentIntensityAnalyzer\n",
    "analyser = SentimentIntensityAnalyzer()"
   ]
  },
  {
   "cell_type": "code",
   "execution_count": 110,
   "metadata": {},
   "outputs": [
    {
     "data": {
      "text/plain": [
       "'/Users/adamburpee/Capstone/Capstone/code'"
      ]
     },
     "execution_count": 110,
     "metadata": {},
     "output_type": "execute_result"
    }
   ],
   "source": [
    "pwd"
   ]
  },
  {
   "cell_type": "code",
   "execution_count": 111,
   "metadata": {},
   "outputs": [],
   "source": [
    "df = pd.read_csv('../data/blackops_comments.csv')"
   ]
  },
  {
   "cell_type": "code",
   "execution_count": 113,
   "metadata": {},
   "outputs": [],
   "source": [
    "df.drop(['Unnamed: 0'], axis = 1, inplace = True)"
   ]
  },
  {
   "cell_type": "code",
   "execution_count": 114,
   "metadata": {},
   "outputs": [],
   "source": [
    "df.drop_duplicates(subset = 'body', inplace = True)"
   ]
  },
  {
   "cell_type": "code",
   "execution_count": 115,
   "metadata": {},
   "outputs": [
    {
     "data": {
      "text/plain": [
       "(1887120, 6)"
      ]
     },
     "execution_count": 115,
     "metadata": {},
     "output_type": "execute_result"
    }
   ],
   "source": [
    "df.shape"
   ]
  },
  {
   "cell_type": "code",
   "execution_count": 128,
   "metadata": {},
   "outputs": [],
   "source": [
    "def sentiment_analyzer_scores(sentence):\n",
    "    score = analyser.polarity_scores(sentence)\n",
    "    return score"
   ]
  },
  {
   "cell_type": "code",
   "execution_count": 129,
   "metadata": {},
   "outputs": [
    {
     "data": {
      "text/plain": [
       "{'neg': 0.263, 'neu': 0.737, 'pos': 0.0, 'compound': -0.3612}"
      ]
     },
     "execution_count": 129,
     "metadata": {},
     "output_type": "execute_result"
    }
   ],
   "source": [
    "(sentiment_analyzer_scores(df['body'].loc[0]))"
   ]
  },
  {
   "cell_type": "code",
   "execution_count": 126,
   "metadata": {},
   "outputs": [
    {
     "data": {
      "text/html": [
       "<div>\n",
       "<style scoped>\n",
       "    .dataframe tbody tr th:only-of-type {\n",
       "        vertical-align: middle;\n",
       "    }\n",
       "\n",
       "    .dataframe tbody tr th {\n",
       "        vertical-align: top;\n",
       "    }\n",
       "\n",
       "    .dataframe thead th {\n",
       "        text-align: right;\n",
       "    }\n",
       "</style>\n",
       "<table border=\"1\" class=\"dataframe\">\n",
       "  <thead>\n",
       "    <tr style=\"text-align: right;\">\n",
       "      <th></th>\n",
       "      <th>author</th>\n",
       "      <th>body</th>\n",
       "      <th>created_utc</th>\n",
       "      <th>score</th>\n",
       "      <th>permalink</th>\n",
       "      <th>date</th>\n",
       "    </tr>\n",
       "  </thead>\n",
       "  <tbody>\n",
       "    <tr>\n",
       "      <th>0</th>\n",
       "      <td>Pikachu-Faroo</td>\n",
       "      <td>So they're just gonna ignore the Sparrow bug?</td>\n",
       "      <td>1556754911</td>\n",
       "      <td>1</td>\n",
       "      <td>/r/Blackops4/comments/bjn8sm/may_1st_update_ga...</td>\n",
       "      <td>2019-05-01</td>\n",
       "    </tr>\n",
       "    <tr>\n",
       "      <th>1</th>\n",
       "      <td>Only-One-Gender</td>\n",
       "      <td>Yeah I'm getting them</td>\n",
       "      <td>1556754886</td>\n",
       "      <td>1</td>\n",
       "      <td>/r/Blackops4/comments/bjnzy5/this_is_so_damn_s...</td>\n",
       "      <td>2019-05-01</td>\n",
       "    </tr>\n",
       "    <tr>\n",
       "      <th>2</th>\n",
       "      <td>twopumpstump</td>\n",
       "      <td>So you are getting the new stuff? I heard the ...</td>\n",
       "      <td>1556754860</td>\n",
       "      <td>1</td>\n",
       "      <td>/r/Blackops4/comments/bjnzy5/this_is_so_damn_s...</td>\n",
       "      <td>2019-05-01</td>\n",
       "    </tr>\n",
       "    <tr>\n",
       "      <th>3</th>\n",
       "      <td>MoneyMajesty</td>\n",
       "      <td>Was just about to say this. The sad thing abou...</td>\n",
       "      <td>1556754825</td>\n",
       "      <td>1</td>\n",
       "      <td>/r/Blackops4/comments/bjnygs/if_only_treyarcha...</td>\n",
       "      <td>2019-05-01</td>\n",
       "    </tr>\n",
       "    <tr>\n",
       "      <th>4</th>\n",
       "      <td>Slaya420D</td>\n",
       "      <td>*claims the game is dead*\\n\\nI can find a lobb...</td>\n",
       "      <td>1556754821</td>\n",
       "      <td>1</td>\n",
       "      <td>/r/Blackops4/comments/bjo9k6/seriously_this_ga...</td>\n",
       "      <td>2019-05-01</td>\n",
       "    </tr>\n",
       "  </tbody>\n",
       "</table>\n",
       "</div>"
      ],
      "text/plain": [
       "            author                                               body  \\\n",
       "0    Pikachu-Faroo      So they're just gonna ignore the Sparrow bug?   \n",
       "1  Only-One-Gender                              Yeah I'm getting them   \n",
       "2     twopumpstump  So you are getting the new stuff? I heard the ...   \n",
       "3     MoneyMajesty  Was just about to say this. The sad thing abou...   \n",
       "4        Slaya420D  *claims the game is dead*\\n\\nI can find a lobb...   \n",
       "\n",
       "   created_utc  score                                          permalink  \\\n",
       "0   1556754911      1  /r/Blackops4/comments/bjn8sm/may_1st_update_ga...   \n",
       "1   1556754886      1  /r/Blackops4/comments/bjnzy5/this_is_so_damn_s...   \n",
       "2   1556754860      1  /r/Blackops4/comments/bjnzy5/this_is_so_damn_s...   \n",
       "3   1556754825      1  /r/Blackops4/comments/bjnygs/if_only_treyarcha...   \n",
       "4   1556754821      1  /r/Blackops4/comments/bjo9k6/seriously_this_ga...   \n",
       "\n",
       "         date  \n",
       "0  2019-05-01  \n",
       "1  2019-05-01  \n",
       "2  2019-05-01  \n",
       "3  2019-05-01  \n",
       "4  2019-05-01  "
      ]
     },
     "execution_count": 126,
     "metadata": {},
     "output_type": "execute_result"
    }
   ],
   "source": []
  },
  {
   "cell_type": "code",
   "execution_count": 118,
   "metadata": {},
   "outputs": [
    {
     "data": {
      "text/plain": [
       "({'neg': 0.0, 'neu': 0.393, 'pos': 0.607, 'compound': 0.474},\n",
       " 'i really like tea!')"
      ]
     },
     "execution_count": 118,
     "metadata": {},
     "output_type": "execute_result"
    }
   ],
   "source": [
    "sentiment_analyzer_scores('i really like tea!')"
   ]
  },
  {
   "cell_type": "code",
   "execution_count": 119,
   "metadata": {},
   "outputs": [
    {
     "data": {
      "text/plain": [
       "({'neg': 0.0, 'neu': 0.417, 'pos': 0.583, 'compound': 0.4201},\n",
       " 'i really like tea')"
      ]
     },
     "execution_count": 119,
     "metadata": {},
     "output_type": "execute_result"
    }
   ],
   "source": [
    "sentiment_analyzer_scores('i really like tea')"
   ]
  },
  {
   "cell_type": "code",
   "execution_count": 120,
   "metadata": {},
   "outputs": [
    {
     "data": {
      "text/plain": [
       "({'neg': 0.0, 'neu': 0.286, 'pos': 0.714, 'compound': 0.3612}, 'i like tea')"
      ]
     },
     "execution_count": 120,
     "metadata": {},
     "output_type": "execute_result"
    }
   ],
   "source": [
    "sentiment_analyzer_scores('i like tea')"
   ]
  },
  {
   "cell_type": "code",
   "execution_count": 121,
   "metadata": {},
   "outputs": [
    {
     "data": {
      "text/plain": [
       "({'neg': 0.0, 'neu': 1.0, 'pos': 0.0, 'compound': 0.0}, 'tea')"
      ]
     },
     "execution_count": 121,
     "metadata": {},
     "output_type": "execute_result"
    }
   ],
   "source": [
    "sentiment_analyzer_scores('tea')"
   ]
  },
  {
   "cell_type": "code",
   "execution_count": 122,
   "metadata": {},
   "outputs": [
    {
     "data": {
      "text/plain": [
       "({'neg': 0.0, 'neu': 0.0, 'pos': 1.0, 'compound': 0.4588}, ':)')"
      ]
     },
     "execution_count": 122,
     "metadata": {},
     "output_type": "execute_result"
    }
   ],
   "source": [
    "sentiment_analyzer_scores(':)')"
   ]
  },
  {
   "cell_type": "code",
   "execution_count": 123,
   "metadata": {},
   "outputs": [
    {
     "data": {
      "text/plain": [
       "({'neg': 0.0, 'neu': 0.193, 'pos': 0.807, 'compound': 0.6331}, ':)  !!!!!')"
      ]
     },
     "execution_count": 123,
     "metadata": {},
     "output_type": "execute_result"
    }
   ],
   "source": [
    "sentiment_analyzer_scores(':)  !!!!!')"
   ]
  },
  {
   "cell_type": "code",
   "execution_count": 12,
   "metadata": {},
   "outputs": [],
   "source": [
    "df['neg'] = 0"
   ]
  },
  {
   "cell_type": "code",
   "execution_count": 13,
   "metadata": {},
   "outputs": [],
   "source": [
    "df['neu'] = 0\n",
    "df['pos'] = 0\n",
    "df['compound'] = 0"
   ]
  },
  {
   "cell_type": "code",
   "execution_count": 132,
   "metadata": {},
   "outputs": [
    {
     "data": {
      "text/plain": [
       "0.263"
      ]
     },
     "execution_count": 132,
     "metadata": {},
     "output_type": "execute_result"
    }
   ],
   "source": [
    "sentiment_analyzer_scores(df['body'].iloc[0])['neg']"
   ]
  },
  {
   "cell_type": "code",
   "execution_count": 53,
   "metadata": {},
   "outputs": [],
   "source": [
    "# df['neg'] = df['body'].apply(lambda x: sentiment_analyzer_scores(str(x))['neg'])\n",
    "\n",
    "# df['neu'] = df['body'].apply(lambda x: sentiment_analyzer_scores(str(x))['neu'])\n",
    "\n",
    "# df['pos'] = df['body'].apply(lambda x: sentiment_analyzer_scores(str(x))['pos'])"
   ]
  },
  {
   "cell_type": "code",
   "execution_count": 130,
   "metadata": {},
   "outputs": [],
   "source": [
    "df['compound'] = df['body'].apply(lambda x: sentiment_analyzer_scores(str(x))['compound'])"
   ]
  },
  {
   "cell_type": "code",
   "execution_count": 131,
   "metadata": {},
   "outputs": [
    {
     "data": {
      "text/plain": [
       "1887120"
      ]
     },
     "execution_count": 131,
     "metadata": {},
     "output_type": "execute_result"
    }
   ],
   "source": [
    "len(df)"
   ]
  },
  {
   "cell_type": "code",
   "execution_count": 133,
   "metadata": {},
   "outputs": [
    {
     "data": {
      "text/html": [
       "<div>\n",
       "<style scoped>\n",
       "    .dataframe tbody tr th:only-of-type {\n",
       "        vertical-align: middle;\n",
       "    }\n",
       "\n",
       "    .dataframe tbody tr th {\n",
       "        vertical-align: top;\n",
       "    }\n",
       "\n",
       "    .dataframe thead th {\n",
       "        text-align: right;\n",
       "    }\n",
       "</style>\n",
       "<table border=\"1\" class=\"dataframe\">\n",
       "  <thead>\n",
       "    <tr style=\"text-align: right;\">\n",
       "      <th></th>\n",
       "      <th>author</th>\n",
       "      <th>body</th>\n",
       "      <th>created_utc</th>\n",
       "      <th>score</th>\n",
       "      <th>permalink</th>\n",
       "      <th>date</th>\n",
       "      <th>compound</th>\n",
       "    </tr>\n",
       "  </thead>\n",
       "  <tbody>\n",
       "    <tr>\n",
       "      <th>0</th>\n",
       "      <td>Pikachu-Faroo</td>\n",
       "      <td>So they're just gonna ignore the Sparrow bug?</td>\n",
       "      <td>1556754911</td>\n",
       "      <td>1</td>\n",
       "      <td>/r/Blackops4/comments/bjn8sm/may_1st_update_ga...</td>\n",
       "      <td>2019-05-01</td>\n",
       "      <td>-0.3612</td>\n",
       "    </tr>\n",
       "    <tr>\n",
       "      <th>1</th>\n",
       "      <td>Only-One-Gender</td>\n",
       "      <td>Yeah I'm getting them</td>\n",
       "      <td>1556754886</td>\n",
       "      <td>1</td>\n",
       "      <td>/r/Blackops4/comments/bjnzy5/this_is_so_damn_s...</td>\n",
       "      <td>2019-05-01</td>\n",
       "      <td>0.2960</td>\n",
       "    </tr>\n",
       "    <tr>\n",
       "      <th>2</th>\n",
       "      <td>twopumpstump</td>\n",
       "      <td>So you are getting the new stuff? I heard the ...</td>\n",
       "      <td>1556754860</td>\n",
       "      <td>1</td>\n",
       "      <td>/r/Blackops4/comments/bjnzy5/this_is_so_damn_s...</td>\n",
       "      <td>2019-05-01</td>\n",
       "      <td>0.4215</td>\n",
       "    </tr>\n",
       "    <tr>\n",
       "      <th>3</th>\n",
       "      <td>MoneyMajesty</td>\n",
       "      <td>Was just about to say this. The sad thing abou...</td>\n",
       "      <td>1556754825</td>\n",
       "      <td>1</td>\n",
       "      <td>/r/Blackops4/comments/bjnygs/if_only_treyarcha...</td>\n",
       "      <td>2019-05-01</td>\n",
       "      <td>-0.4767</td>\n",
       "    </tr>\n",
       "    <tr>\n",
       "      <th>4</th>\n",
       "      <td>Slaya420D</td>\n",
       "      <td>*claims the game is dead*\\n\\nI can find a lobb...</td>\n",
       "      <td>1556754821</td>\n",
       "      <td>1</td>\n",
       "      <td>/r/Blackops4/comments/bjo9k6/seriously_this_ga...</td>\n",
       "      <td>2019-05-01</td>\n",
       "      <td>0.0258</td>\n",
       "    </tr>\n",
       "  </tbody>\n",
       "</table>\n",
       "</div>"
      ],
      "text/plain": [
       "            author                                               body  \\\n",
       "0    Pikachu-Faroo      So they're just gonna ignore the Sparrow bug?   \n",
       "1  Only-One-Gender                              Yeah I'm getting them   \n",
       "2     twopumpstump  So you are getting the new stuff? I heard the ...   \n",
       "3     MoneyMajesty  Was just about to say this. The sad thing abou...   \n",
       "4        Slaya420D  *claims the game is dead*\\n\\nI can find a lobb...   \n",
       "\n",
       "   created_utc  score                                          permalink  \\\n",
       "0   1556754911      1  /r/Blackops4/comments/bjn8sm/may_1st_update_ga...   \n",
       "1   1556754886      1  /r/Blackops4/comments/bjnzy5/this_is_so_damn_s...   \n",
       "2   1556754860      1  /r/Blackops4/comments/bjnzy5/this_is_so_damn_s...   \n",
       "3   1556754825      1  /r/Blackops4/comments/bjnygs/if_only_treyarcha...   \n",
       "4   1556754821      1  /r/Blackops4/comments/bjo9k6/seriously_this_ga...   \n",
       "\n",
       "         date  compound  \n",
       "0  2019-05-01   -0.3612  \n",
       "1  2019-05-01    0.2960  \n",
       "2  2019-05-01    0.4215  \n",
       "3  2019-05-01   -0.4767  \n",
       "4  2019-05-01    0.0258  "
      ]
     },
     "execution_count": 133,
     "metadata": {},
     "output_type": "execute_result"
    }
   ],
   "source": [
    "df.head()"
   ]
  },
  {
   "cell_type": "code",
   "execution_count": 134,
   "metadata": {},
   "outputs": [
    {
     "data": {
      "text/plain": [
       "992504"
      ]
     },
     "execution_count": 134,
     "metadata": {},
     "output_type": "execute_result"
    }
   ],
   "source": [
    "df['compound'].idxmax()"
   ]
  },
  {
   "cell_type": "code",
   "execution_count": 135,
   "metadata": {},
   "outputs": [
    {
     "data": {
      "text/plain": [
       "'Play play play play play play play play play play play play play play play play play play play play play play play play play play play play play play play play play play play play play play play play play play play play play play play play play play play play play play play play play play play play play play play play play play play play play play play play play play play play play play play play play play play play play play play play play play play play play play play play play play play play play play play play play play play play play play play play play play play play play play play play play play play play play play play play play play play play play play play play play play play play play play play play play play play play play play play play play play play play play play play play play play play play play play play play play play play play play play play play play play play play play play play play play play play play play play play play play play play play play play play play play play play...\\n\\n\\nPlay.\\n'"
      ]
     },
     "execution_count": 135,
     "metadata": {},
     "output_type": "execute_result"
    }
   ],
   "source": [
    "df.loc[df['compound'].idxmax()]['body']"
   ]
  },
  {
   "cell_type": "code",
   "execution_count": 76,
   "metadata": {},
   "outputs": [
    {
     "data": {
      "text/plain": [
       "148053"
      ]
     },
     "execution_count": 76,
     "metadata": {},
     "output_type": "execute_result"
    }
   ],
   "source": [
    "df['author'].nunique()"
   ]
  },
  {
   "cell_type": "code",
   "execution_count": 101,
   "metadata": {},
   "outputs": [
    {
     "data": {
      "text/plain": [
       "'2019-05-06 01:22:39'"
      ]
     },
     "execution_count": 101,
     "metadata": {},
     "output_type": "execute_result"
    }
   ],
   "source": [
    "import datetime\n",
    "utc_datetime = datetime.datetime.utcnow()\n",
    "utc_datetime.strftime(\"%Y-%m-%d %H:%M:%S\")"
   ]
  },
  {
   "cell_type": "code",
   "execution_count": 104,
   "metadata": {},
   "outputs": [
    {
     "data": {
      "text/plain": [
       "'Wed May  1 23:55:11 2019'"
      ]
     },
     "execution_count": 104,
     "metadata": {},
     "output_type": "execute_result"
    }
   ],
   "source": [
    "utc_datetime.strftime(df['created_utc'].loc[0])"
   ]
  },
  {
   "cell_type": "code",
   "execution_count": 136,
   "metadata": {},
   "outputs": [
    {
     "data": {
      "text/plain": [
       "author          object\n",
       "body            object\n",
       "created_utc      int64\n",
       "score            int64\n",
       "permalink       object\n",
       "date            object\n",
       "compound       float64\n",
       "dtype: object"
      ]
     },
     "execution_count": 136,
     "metadata": {},
     "output_type": "execute_result"
    }
   ],
   "source": [
    "df.dtypes"
   ]
  },
  {
   "cell_type": "code",
   "execution_count": 137,
   "metadata": {},
   "outputs": [
    {
     "data": {
      "text/plain": [
       "10509"
      ]
     },
     "execution_count": 137,
     "metadata": {},
     "output_type": "execute_result"
    }
   ],
   "source": [
    "df.score.max()"
   ]
  },
  {
   "cell_type": "code",
   "execution_count": 138,
   "metadata": {},
   "outputs": [
    {
     "data": {
      "text/plain": [
       "-570"
      ]
     },
     "execution_count": 138,
     "metadata": {},
     "output_type": "execute_result"
    }
   ],
   "source": [
    "df.score.min()"
   ]
  },
  {
   "cell_type": "code",
   "execution_count": 140,
   "metadata": {},
   "outputs": [
    {
     "data": {
      "text/plain": [
       "'/r/Blackops4/comments/bjnzy5/this_is_so_damn_satisying/em9spes/'"
      ]
     },
     "execution_count": 140,
     "metadata": {},
     "output_type": "execute_result"
    }
   ],
   "source": [
    "df.permalink.loc[1]"
   ]
  },
  {
   "cell_type": "code",
   "execution_count": 141,
   "metadata": {},
   "outputs": [
    {
     "data": {
      "text/plain": [
       "29"
      ]
     },
     "execution_count": 141,
     "metadata": {},
     "output_type": "execute_result"
    }
   ],
   "source": [
    "len('/r/Blackops4/comments/bjnzy5/')#this_is_so_damn_satisying/em9spes/"
   ]
  },
  {
   "cell_type": "code",
   "execution_count": 142,
   "metadata": {},
   "outputs": [
    {
     "data": {
      "text/plain": [
       "9"
      ]
     },
     "execution_count": 142,
     "metadata": {},
     "output_type": "execute_result"
    }
   ],
   "source": [
    "len('/em9spes/')"
   ]
  },
  {
   "cell_type": "code",
   "execution_count": 143,
   "metadata": {},
   "outputs": [],
   "source": [
    "string = '/r/Blackops4/comments/bjnzy5/this_is_so_damn_satisying/em9spes/'"
   ]
  },
  {
   "cell_type": "code",
   "execution_count": 144,
   "metadata": {},
   "outputs": [],
   "source": [
    "df['title'] = df.permalink.apply(lambda x: x[29:-9])"
   ]
  },
  {
   "cell_type": "code",
   "execution_count": 145,
   "metadata": {},
   "outputs": [
    {
     "data": {
      "text/html": [
       "<div>\n",
       "<style scoped>\n",
       "    .dataframe tbody tr th:only-of-type {\n",
       "        vertical-align: middle;\n",
       "    }\n",
       "\n",
       "    .dataframe tbody tr th {\n",
       "        vertical-align: top;\n",
       "    }\n",
       "\n",
       "    .dataframe thead th {\n",
       "        text-align: right;\n",
       "    }\n",
       "</style>\n",
       "<table border=\"1\" class=\"dataframe\">\n",
       "  <thead>\n",
       "    <tr style=\"text-align: right;\">\n",
       "      <th></th>\n",
       "      <th>author</th>\n",
       "      <th>body</th>\n",
       "      <th>created_utc</th>\n",
       "      <th>score</th>\n",
       "      <th>permalink</th>\n",
       "      <th>date</th>\n",
       "      <th>compound</th>\n",
       "      <th>title</th>\n",
       "    </tr>\n",
       "  </thead>\n",
       "  <tbody>\n",
       "    <tr>\n",
       "      <th>0</th>\n",
       "      <td>Pikachu-Faroo</td>\n",
       "      <td>So they're just gonna ignore the Sparrow bug?</td>\n",
       "      <td>1556754911</td>\n",
       "      <td>1</td>\n",
       "      <td>/r/Blackops4/comments/bjn8sm/may_1st_update_ga...</td>\n",
       "      <td>2019-05-01</td>\n",
       "      <td>-0.3612</td>\n",
       "      <td>may_1st_update_gameplay_improvements_bug_fixes</td>\n",
       "    </tr>\n",
       "    <tr>\n",
       "      <th>1</th>\n",
       "      <td>Only-One-Gender</td>\n",
       "      <td>Yeah I'm getting them</td>\n",
       "      <td>1556754886</td>\n",
       "      <td>1</td>\n",
       "      <td>/r/Blackops4/comments/bjnzy5/this_is_so_damn_s...</td>\n",
       "      <td>2019-05-01</td>\n",
       "      <td>0.2960</td>\n",
       "      <td>this_is_so_damn_satisying</td>\n",
       "    </tr>\n",
       "    <tr>\n",
       "      <th>2</th>\n",
       "      <td>twopumpstump</td>\n",
       "      <td>So you are getting the new stuff? I heard the ...</td>\n",
       "      <td>1556754860</td>\n",
       "      <td>1</td>\n",
       "      <td>/r/Blackops4/comments/bjnzy5/this_is_so_damn_s...</td>\n",
       "      <td>2019-05-01</td>\n",
       "      <td>0.4215</td>\n",
       "      <td>this_is_so_damn_satisying</td>\n",
       "    </tr>\n",
       "    <tr>\n",
       "      <th>3</th>\n",
       "      <td>MoneyMajesty</td>\n",
       "      <td>Was just about to say this. The sad thing abou...</td>\n",
       "      <td>1556754825</td>\n",
       "      <td>1</td>\n",
       "      <td>/r/Blackops4/comments/bjnygs/if_only_treyarcha...</td>\n",
       "      <td>2019-05-01</td>\n",
       "      <td>-0.4767</td>\n",
       "      <td>if_only_treyarchacti_would_follow_suit_but_i</td>\n",
       "    </tr>\n",
       "    <tr>\n",
       "      <th>4</th>\n",
       "      <td>Slaya420D</td>\n",
       "      <td>*claims the game is dead*\\n\\nI can find a lobb...</td>\n",
       "      <td>1556754821</td>\n",
       "      <td>1</td>\n",
       "      <td>/r/Blackops4/comments/bjo9k6/seriously_this_ga...</td>\n",
       "      <td>2019-05-01</td>\n",
       "      <td>0.0258</td>\n",
       "      <td>seriously_this_game_is_dead</td>\n",
       "    </tr>\n",
       "  </tbody>\n",
       "</table>\n",
       "</div>"
      ],
      "text/plain": [
       "            author                                               body  \\\n",
       "0    Pikachu-Faroo      So they're just gonna ignore the Sparrow bug?   \n",
       "1  Only-One-Gender                              Yeah I'm getting them   \n",
       "2     twopumpstump  So you are getting the new stuff? I heard the ...   \n",
       "3     MoneyMajesty  Was just about to say this. The sad thing abou...   \n",
       "4        Slaya420D  *claims the game is dead*\\n\\nI can find a lobb...   \n",
       "\n",
       "   created_utc  score                                          permalink  \\\n",
       "0   1556754911      1  /r/Blackops4/comments/bjn8sm/may_1st_update_ga...   \n",
       "1   1556754886      1  /r/Blackops4/comments/bjnzy5/this_is_so_damn_s...   \n",
       "2   1556754860      1  /r/Blackops4/comments/bjnzy5/this_is_so_damn_s...   \n",
       "3   1556754825      1  /r/Blackops4/comments/bjnygs/if_only_treyarcha...   \n",
       "4   1556754821      1  /r/Blackops4/comments/bjo9k6/seriously_this_ga...   \n",
       "\n",
       "         date  compound                                           title  \n",
       "0  2019-05-01   -0.3612  may_1st_update_gameplay_improvements_bug_fixes  \n",
       "1  2019-05-01    0.2960                       this_is_so_damn_satisying  \n",
       "2  2019-05-01    0.4215                       this_is_so_damn_satisying  \n",
       "3  2019-05-01   -0.4767    if_only_treyarchacti_would_follow_suit_but_i  \n",
       "4  2019-05-01    0.0258                     seriously_this_game_is_dead  "
      ]
     },
     "execution_count": 145,
     "metadata": {},
     "output_type": "execute_result"
    }
   ],
   "source": [
    "df.head()"
   ]
  },
  {
   "cell_type": "code",
   "execution_count": 61,
   "metadata": {},
   "outputs": [
    {
     "data": {
      "text/plain": [
       "'/r/Blackops4/comments/bjnzy5/this_is_so_damn_satisying'"
      ]
     },
     "execution_count": 61,
     "metadata": {},
     "output_type": "execute_result"
    }
   ],
   "source": [
    "string[:-9]"
   ]
  },
  {
   "cell_type": "code",
   "execution_count": 62,
   "metadata": {},
   "outputs": [],
   "source": [
    "df['body'] = df['body'].apply(lambda x: re.sub('([^a-zA-Z ])', ' ', str(x)))"
   ]
  },
  {
   "cell_type": "code",
   "execution_count": 63,
   "metadata": {},
   "outputs": [
    {
     "data": {
      "text/html": [
       "<div>\n",
       "<style scoped>\n",
       "    .dataframe tbody tr th:only-of-type {\n",
       "        vertical-align: middle;\n",
       "    }\n",
       "\n",
       "    .dataframe tbody tr th {\n",
       "        vertical-align: top;\n",
       "    }\n",
       "\n",
       "    .dataframe thead th {\n",
       "        text-align: right;\n",
       "    }\n",
       "</style>\n",
       "<table border=\"1\" class=\"dataframe\">\n",
       "  <thead>\n",
       "    <tr style=\"text-align: right;\">\n",
       "      <th></th>\n",
       "      <th>author</th>\n",
       "      <th>body</th>\n",
       "      <th>created_utc</th>\n",
       "      <th>score</th>\n",
       "      <th>permalink</th>\n",
       "      <th>title</th>\n",
       "    </tr>\n",
       "  </thead>\n",
       "  <tbody>\n",
       "    <tr>\n",
       "      <th>0</th>\n",
       "      <td>Pikachu-Faroo</td>\n",
       "      <td>So they re just gonna ignore the Sparrow bug</td>\n",
       "      <td>Wed May  1 23:55:11 2019</td>\n",
       "      <td>1</td>\n",
       "      <td>/r/Blackops4/comments/bjn8sm/may_1st_update_ga...</td>\n",
       "      <td>may_1st_update_gameplay_improvements_bug_fixes</td>\n",
       "    </tr>\n",
       "    <tr>\n",
       "      <th>1</th>\n",
       "      <td>Only-One-Gender</td>\n",
       "      <td>Yeah I m getting them</td>\n",
       "      <td>Wed May  1 23:54:46 2019</td>\n",
       "      <td>1</td>\n",
       "      <td>/r/Blackops4/comments/bjnzy5/this_is_so_damn_s...</td>\n",
       "      <td>this_is_so_damn_satisying</td>\n",
       "    </tr>\n",
       "    <tr>\n",
       "      <th>2</th>\n",
       "      <td>twopumpstump</td>\n",
       "      <td>So you are getting the new stuff  I heard the ...</td>\n",
       "      <td>Wed May  1 23:54:20 2019</td>\n",
       "      <td>1</td>\n",
       "      <td>/r/Blackops4/comments/bjnzy5/this_is_so_damn_s...</td>\n",
       "      <td>this_is_so_damn_satisying</td>\n",
       "    </tr>\n",
       "    <tr>\n",
       "      <th>3</th>\n",
       "      <td>MoneyMajesty</td>\n",
       "      <td>Was just about to say this  The sad thing abou...</td>\n",
       "      <td>Wed May  1 23:53:45 2019</td>\n",
       "      <td>1</td>\n",
       "      <td>/r/Blackops4/comments/bjnygs/if_only_treyarcha...</td>\n",
       "      <td>if_only_treyarchacti_would_follow_suit_but_i</td>\n",
       "    </tr>\n",
       "    <tr>\n",
       "      <th>4</th>\n",
       "      <td>Slaya420D</td>\n",
       "      <td>claims the game is dead   I can find a lobby ...</td>\n",
       "      <td>Wed May  1 23:53:41 2019</td>\n",
       "      <td>1</td>\n",
       "      <td>/r/Blackops4/comments/bjo9k6/seriously_this_ga...</td>\n",
       "      <td>seriously_this_game_is_dead</td>\n",
       "    </tr>\n",
       "  </tbody>\n",
       "</table>\n",
       "</div>"
      ],
      "text/plain": [
       "            author                                               body  \\\n",
       "0    Pikachu-Faroo      So they re just gonna ignore the Sparrow bug    \n",
       "1  Only-One-Gender                              Yeah I m getting them   \n",
       "2     twopumpstump  So you are getting the new stuff  I heard the ...   \n",
       "3     MoneyMajesty  Was just about to say this  The sad thing abou...   \n",
       "4        Slaya420D   claims the game is dead   I can find a lobby ...   \n",
       "\n",
       "                created_utc  score  \\\n",
       "0  Wed May  1 23:55:11 2019      1   \n",
       "1  Wed May  1 23:54:46 2019      1   \n",
       "2  Wed May  1 23:54:20 2019      1   \n",
       "3  Wed May  1 23:53:45 2019      1   \n",
       "4  Wed May  1 23:53:41 2019      1   \n",
       "\n",
       "                                           permalink  \\\n",
       "0  /r/Blackops4/comments/bjn8sm/may_1st_update_ga...   \n",
       "1  /r/Blackops4/comments/bjnzy5/this_is_so_damn_s...   \n",
       "2  /r/Blackops4/comments/bjnzy5/this_is_so_damn_s...   \n",
       "3  /r/Blackops4/comments/bjnygs/if_only_treyarcha...   \n",
       "4  /r/Blackops4/comments/bjo9k6/seriously_this_ga...   \n",
       "\n",
       "                                            title  \n",
       "0  may_1st_update_gameplay_improvements_bug_fixes  \n",
       "1                       this_is_so_damn_satisying  \n",
       "2                       this_is_so_damn_satisying  \n",
       "3    if_only_treyarchacti_would_follow_suit_but_i  \n",
       "4                     seriously_this_game_is_dead  "
      ]
     },
     "execution_count": 63,
     "metadata": {},
     "output_type": "execute_result"
    }
   ],
   "source": [
    "df.head()"
   ]
  },
  {
   "cell_type": "code",
   "execution_count": 146,
   "metadata": {},
   "outputs": [],
   "source": [
    "df.index = range(len(df.index))"
   ]
  },
  {
   "cell_type": "code",
   "execution_count": 147,
   "metadata": {},
   "outputs": [
    {
     "data": {
      "text/plain": [
       "\"I've no idea about that but me and my buddy keep getting into a party and I get kicked from the game for lacking the maps.\""
      ]
     },
     "execution_count": 147,
     "metadata": {},
     "output_type": "execute_result"
    }
   ],
   "source": [
    "df['body'].loc[5]"
   ]
  },
  {
   "cell_type": "code",
   "execution_count": 148,
   "metadata": {},
   "outputs": [],
   "source": [
    "df['character_count'] = df['body'].str.len()"
   ]
  },
  {
   "cell_type": "code",
   "execution_count": 149,
   "metadata": {},
   "outputs": [
    {
     "data": {
      "text/html": [
       "<div>\n",
       "<style scoped>\n",
       "    .dataframe tbody tr th:only-of-type {\n",
       "        vertical-align: middle;\n",
       "    }\n",
       "\n",
       "    .dataframe tbody tr th {\n",
       "        vertical-align: top;\n",
       "    }\n",
       "\n",
       "    .dataframe thead th {\n",
       "        text-align: right;\n",
       "    }\n",
       "</style>\n",
       "<table border=\"1\" class=\"dataframe\">\n",
       "  <thead>\n",
       "    <tr style=\"text-align: right;\">\n",
       "      <th></th>\n",
       "      <th>author</th>\n",
       "      <th>body</th>\n",
       "      <th>created_utc</th>\n",
       "      <th>score</th>\n",
       "      <th>permalink</th>\n",
       "      <th>date</th>\n",
       "      <th>compound</th>\n",
       "      <th>title</th>\n",
       "      <th>character_count</th>\n",
       "    </tr>\n",
       "  </thead>\n",
       "  <tbody>\n",
       "    <tr>\n",
       "      <th>0</th>\n",
       "      <td>Pikachu-Faroo</td>\n",
       "      <td>So they're just gonna ignore the Sparrow bug?</td>\n",
       "      <td>1556754911</td>\n",
       "      <td>1</td>\n",
       "      <td>/r/Blackops4/comments/bjn8sm/may_1st_update_ga...</td>\n",
       "      <td>2019-05-01</td>\n",
       "      <td>-0.3612</td>\n",
       "      <td>may_1st_update_gameplay_improvements_bug_fixes</td>\n",
       "      <td>45.0</td>\n",
       "    </tr>\n",
       "    <tr>\n",
       "      <th>1</th>\n",
       "      <td>Only-One-Gender</td>\n",
       "      <td>Yeah I'm getting them</td>\n",
       "      <td>1556754886</td>\n",
       "      <td>1</td>\n",
       "      <td>/r/Blackops4/comments/bjnzy5/this_is_so_damn_s...</td>\n",
       "      <td>2019-05-01</td>\n",
       "      <td>0.2960</td>\n",
       "      <td>this_is_so_damn_satisying</td>\n",
       "      <td>21.0</td>\n",
       "    </tr>\n",
       "    <tr>\n",
       "      <th>2</th>\n",
       "      <td>twopumpstump</td>\n",
       "      <td>So you are getting the new stuff? I heard the ...</td>\n",
       "      <td>1556754860</td>\n",
       "      <td>1</td>\n",
       "      <td>/r/Blackops4/comments/bjnzy5/this_is_so_damn_s...</td>\n",
       "      <td>2019-05-01</td>\n",
       "      <td>0.4215</td>\n",
       "      <td>this_is_so_damn_satisying</td>\n",
       "      <td>106.0</td>\n",
       "    </tr>\n",
       "    <tr>\n",
       "      <th>3</th>\n",
       "      <td>MoneyMajesty</td>\n",
       "      <td>Was just about to say this. The sad thing abou...</td>\n",
       "      <td>1556754825</td>\n",
       "      <td>1</td>\n",
       "      <td>/r/Blackops4/comments/bjnygs/if_only_treyarcha...</td>\n",
       "      <td>2019-05-01</td>\n",
       "      <td>-0.4767</td>\n",
       "      <td>if_only_treyarchacti_would_follow_suit_but_i</td>\n",
       "      <td>82.0</td>\n",
       "    </tr>\n",
       "    <tr>\n",
       "      <th>4</th>\n",
       "      <td>Slaya420D</td>\n",
       "      <td>*claims the game is dead*\\n\\nI can find a lobb...</td>\n",
       "      <td>1556754821</td>\n",
       "      <td>1</td>\n",
       "      <td>/r/Blackops4/comments/bjo9k6/seriously_this_ga...</td>\n",
       "      <td>2019-05-01</td>\n",
       "      <td>0.0258</td>\n",
       "      <td>seriously_this_game_is_dead</td>\n",
       "      <td>69.0</td>\n",
       "    </tr>\n",
       "  </tbody>\n",
       "</table>\n",
       "</div>"
      ],
      "text/plain": [
       "            author                                               body  \\\n",
       "0    Pikachu-Faroo      So they're just gonna ignore the Sparrow bug?   \n",
       "1  Only-One-Gender                              Yeah I'm getting them   \n",
       "2     twopumpstump  So you are getting the new stuff? I heard the ...   \n",
       "3     MoneyMajesty  Was just about to say this. The sad thing abou...   \n",
       "4        Slaya420D  *claims the game is dead*\\n\\nI can find a lobb...   \n",
       "\n",
       "   created_utc  score                                          permalink  \\\n",
       "0   1556754911      1  /r/Blackops4/comments/bjn8sm/may_1st_update_ga...   \n",
       "1   1556754886      1  /r/Blackops4/comments/bjnzy5/this_is_so_damn_s...   \n",
       "2   1556754860      1  /r/Blackops4/comments/bjnzy5/this_is_so_damn_s...   \n",
       "3   1556754825      1  /r/Blackops4/comments/bjnygs/if_only_treyarcha...   \n",
       "4   1556754821      1  /r/Blackops4/comments/bjo9k6/seriously_this_ga...   \n",
       "\n",
       "         date  compound                                           title  \\\n",
       "0  2019-05-01   -0.3612  may_1st_update_gameplay_improvements_bug_fixes   \n",
       "1  2019-05-01    0.2960                       this_is_so_damn_satisying   \n",
       "2  2019-05-01    0.4215                       this_is_so_damn_satisying   \n",
       "3  2019-05-01   -0.4767    if_only_treyarchacti_would_follow_suit_but_i   \n",
       "4  2019-05-01    0.0258                     seriously_this_game_is_dead   \n",
       "\n",
       "   character_count  \n",
       "0             45.0  \n",
       "1             21.0  \n",
       "2            106.0  \n",
       "3             82.0  \n",
       "4             69.0  "
      ]
     },
     "execution_count": 149,
     "metadata": {},
     "output_type": "execute_result"
    }
   ],
   "source": [
    "df.head()"
   ]
  },
  {
   "cell_type": "code",
   "execution_count": 150,
   "metadata": {},
   "outputs": [],
   "source": [
    "df['word_count'] = df['body'].map(lambda x: len(str(x).split()))"
   ]
  },
  {
   "cell_type": "code",
   "execution_count": 151,
   "metadata": {},
   "outputs": [
    {
     "data": {
      "text/html": [
       "<div>\n",
       "<style scoped>\n",
       "    .dataframe tbody tr th:only-of-type {\n",
       "        vertical-align: middle;\n",
       "    }\n",
       "\n",
       "    .dataframe tbody tr th {\n",
       "        vertical-align: top;\n",
       "    }\n",
       "\n",
       "    .dataframe thead th {\n",
       "        text-align: right;\n",
       "    }\n",
       "</style>\n",
       "<table border=\"1\" class=\"dataframe\">\n",
       "  <thead>\n",
       "    <tr style=\"text-align: right;\">\n",
       "      <th></th>\n",
       "      <th>author</th>\n",
       "      <th>body</th>\n",
       "      <th>created_utc</th>\n",
       "      <th>score</th>\n",
       "      <th>permalink</th>\n",
       "      <th>date</th>\n",
       "      <th>compound</th>\n",
       "      <th>title</th>\n",
       "      <th>character_count</th>\n",
       "      <th>word_count</th>\n",
       "    </tr>\n",
       "  </thead>\n",
       "  <tbody>\n",
       "    <tr>\n",
       "      <th>0</th>\n",
       "      <td>Pikachu-Faroo</td>\n",
       "      <td>So they're just gonna ignore the Sparrow bug?</td>\n",
       "      <td>1556754911</td>\n",
       "      <td>1</td>\n",
       "      <td>/r/Blackops4/comments/bjn8sm/may_1st_update_ga...</td>\n",
       "      <td>2019-05-01</td>\n",
       "      <td>-0.3612</td>\n",
       "      <td>may_1st_update_gameplay_improvements_bug_fixes</td>\n",
       "      <td>45.0</td>\n",
       "      <td>8</td>\n",
       "    </tr>\n",
       "    <tr>\n",
       "      <th>1</th>\n",
       "      <td>Only-One-Gender</td>\n",
       "      <td>Yeah I'm getting them</td>\n",
       "      <td>1556754886</td>\n",
       "      <td>1</td>\n",
       "      <td>/r/Blackops4/comments/bjnzy5/this_is_so_damn_s...</td>\n",
       "      <td>2019-05-01</td>\n",
       "      <td>0.2960</td>\n",
       "      <td>this_is_so_damn_satisying</td>\n",
       "      <td>21.0</td>\n",
       "      <td>4</td>\n",
       "    </tr>\n",
       "    <tr>\n",
       "      <th>2</th>\n",
       "      <td>twopumpstump</td>\n",
       "      <td>So you are getting the new stuff? I heard the ...</td>\n",
       "      <td>1556754860</td>\n",
       "      <td>1</td>\n",
       "      <td>/r/Blackops4/comments/bjnzy5/this_is_so_damn_s...</td>\n",
       "      <td>2019-05-01</td>\n",
       "      <td>0.4215</td>\n",
       "      <td>this_is_so_damn_satisying</td>\n",
       "      <td>106.0</td>\n",
       "      <td>22</td>\n",
       "    </tr>\n",
       "    <tr>\n",
       "      <th>3</th>\n",
       "      <td>MoneyMajesty</td>\n",
       "      <td>Was just about to say this. The sad thing abou...</td>\n",
       "      <td>1556754825</td>\n",
       "      <td>1</td>\n",
       "      <td>/r/Blackops4/comments/bjnygs/if_only_treyarcha...</td>\n",
       "      <td>2019-05-01</td>\n",
       "      <td>-0.4767</td>\n",
       "      <td>if_only_treyarchacti_would_follow_suit_but_i</td>\n",
       "      <td>82.0</td>\n",
       "      <td>18</td>\n",
       "    </tr>\n",
       "    <tr>\n",
       "      <th>4</th>\n",
       "      <td>Slaya420D</td>\n",
       "      <td>*claims the game is dead*\\n\\nI can find a lobb...</td>\n",
       "      <td>1556754821</td>\n",
       "      <td>1</td>\n",
       "      <td>/r/Blackops4/comments/bjo9k6/seriously_this_ga...</td>\n",
       "      <td>2019-05-01</td>\n",
       "      <td>0.0258</td>\n",
       "      <td>seriously_this_game_is_dead</td>\n",
       "      <td>69.0</td>\n",
       "      <td>15</td>\n",
       "    </tr>\n",
       "  </tbody>\n",
       "</table>\n",
       "</div>"
      ],
      "text/plain": [
       "            author                                               body  \\\n",
       "0    Pikachu-Faroo      So they're just gonna ignore the Sparrow bug?   \n",
       "1  Only-One-Gender                              Yeah I'm getting them   \n",
       "2     twopumpstump  So you are getting the new stuff? I heard the ...   \n",
       "3     MoneyMajesty  Was just about to say this. The sad thing abou...   \n",
       "4        Slaya420D  *claims the game is dead*\\n\\nI can find a lobb...   \n",
       "\n",
       "   created_utc  score                                          permalink  \\\n",
       "0   1556754911      1  /r/Blackops4/comments/bjn8sm/may_1st_update_ga...   \n",
       "1   1556754886      1  /r/Blackops4/comments/bjnzy5/this_is_so_damn_s...   \n",
       "2   1556754860      1  /r/Blackops4/comments/bjnzy5/this_is_so_damn_s...   \n",
       "3   1556754825      1  /r/Blackops4/comments/bjnygs/if_only_treyarcha...   \n",
       "4   1556754821      1  /r/Blackops4/comments/bjo9k6/seriously_this_ga...   \n",
       "\n",
       "         date  compound                                           title  \\\n",
       "0  2019-05-01   -0.3612  may_1st_update_gameplay_improvements_bug_fixes   \n",
       "1  2019-05-01    0.2960                       this_is_so_damn_satisying   \n",
       "2  2019-05-01    0.4215                       this_is_so_damn_satisying   \n",
       "3  2019-05-01   -0.4767    if_only_treyarchacti_would_follow_suit_but_i   \n",
       "4  2019-05-01    0.0258                     seriously_this_game_is_dead   \n",
       "\n",
       "   character_count  word_count  \n",
       "0             45.0           8  \n",
       "1             21.0           4  \n",
       "2            106.0          22  \n",
       "3             82.0          18  \n",
       "4             69.0          15  "
      ]
     },
     "execution_count": 151,
     "metadata": {},
     "output_type": "execute_result"
    }
   ],
   "source": [
    "df.head()"
   ]
  },
  {
   "cell_type": "code",
   "execution_count": 152,
   "metadata": {},
   "outputs": [
    {
     "data": {
      "text/plain": [
       "137.51235083744055"
      ]
     },
     "execution_count": 152,
     "metadata": {},
     "output_type": "execute_result"
    }
   ],
   "source": [
    "df.character_count.mean()"
   ]
  },
  {
   "cell_type": "code",
   "execution_count": 153,
   "metadata": {},
   "outputs": [
    {
     "data": {
      "text/plain": [
       "26782.0"
      ]
     },
     "execution_count": 153,
     "metadata": {},
     "output_type": "execute_result"
    }
   ],
   "source": [
    "df.character_count.max()"
   ]
  },
  {
   "cell_type": "code",
   "execution_count": 154,
   "metadata": {},
   "outputs": [
    {
     "data": {
      "text/plain": [
       "1067694"
      ]
     },
     "execution_count": 154,
     "metadata": {},
     "output_type": "execute_result"
    }
   ],
   "source": [
    "df.character_count.idxmax()"
   ]
  },
  {
   "cell_type": "code",
   "execution_count": 155,
   "metadata": {},
   "outputs": [
    {
     "data": {
      "text/plain": [
       "'Infinite Warfare &gt; Treyarch &gt;&gt;&gt;&gt;&gt;&gt;&gt;&gt;&gt;&gt;&gt;&gt;&gt;&gt;&gt;&gt;&gt;&gt;&gt;&gt;&gt;&gt;&gt;&gt;&gt;&gt;&gt;&gt;&gt;&gt;&gt;&gt;&gt;&gt;&gt;&gt;&gt;&gt;&gt;&gt;&gt;&gt;&gt;&gt;&gt;&gt;&gt;&gt;&gt;&gt;&gt;&gt;&gt;&gt;&gt;&gt;&gt;&gt;&gt;&gt;&gt;&gt;&gt;&gt;&gt;&gt;&gt;&gt;&gt;&gt;&gt;&gt;&gt;&gt;&gt;&gt;&gt;&gt;&gt;&gt;&gt;&gt;&gt;&gt;&gt;&gt;&gt;&gt;&gt;&gt;&gt;&gt;&gt;&gt;&gt;&gt;&gt;&gt;&gt;&gt;&gt;&gt;&gt;&gt;&gt;&gt;&gt;&gt;&gt;&gt;&gt;&gt;&gt;&gt;&gt;&gt;&gt;&gt;&gt;&gt;&gt;&gt;&gt;&gt;&gt;&gt;&gt;&gt;&gt;&gt;&gt;&gt;&gt;&gt;&gt;&gt;&gt;&gt;&gt;&gt;&gt;&gt;&gt;&gt;&gt;&gt;&gt;&gt;&gt;&gt;&gt;&gt;&gt;&gt;&gt;&gt;&gt;&gt;&gt;&gt;&gt;&gt;&gt;&gt;&gt;&gt;&gt;&gt;&gt;&gt;&gt;&gt;&gt;&gt;&gt;&gt;&gt;&gt;&gt;&gt;&gt;&gt;&gt;&gt;&gt;&gt;&gt;&gt;&gt;&gt;&gt;&gt;&gt;&gt;&gt;&gt;&gt;&gt;&gt;&gt;&gt;&gt;&gt;&gt;&gt;&gt;&gt;&gt;&gt;&gt;&gt;&gt;&gt;&gt;&gt;&gt;&gt;&gt;&gt;&gt;&gt;&gt;&gt;&gt;&gt;&gt;&gt;&gt;&gt;&gt;&gt;&gt;&gt;&gt;&gt;&gt;&gt;&gt;&gt;&gt;&gt;&gt;&gt;&gt;&gt;&gt;&gt;&gt;&gt;&gt;&gt;&gt;&gt;&gt;&gt;&gt;&gt;&gt;&gt;&gt;&gt;&gt;&gt;&gt;&gt;&gt;&gt;&gt;&gt;&gt;&gt;&gt;&gt;&gt;&gt;&gt;&gt;&gt;&gt;&gt;&gt;&gt;&gt;&gt;&gt;&gt;&gt;&gt;&gt;&gt;&gt;&gt;&gt;&gt;&gt;&gt;&gt;&gt;&gt;&gt;&gt;&gt;&gt;&gt;&gt;&gt;&gt;&gt;&gt;&gt;&gt;&gt;&gt;&gt;&gt;&gt;&gt;&gt;&gt;&gt;&gt;&gt;&gt;&gt;&gt;&gt;&gt;&gt;&gt;&gt;&gt;&gt;&gt;&gt;&gt;&gt;&gt;&gt;&gt;&gt;&gt;&gt;&gt;&gt;&gt;&gt;&gt;&gt;&gt;&gt;&gt;&gt;&gt;&gt;&gt;&gt;&gt;&gt;&gt;&gt;&gt;&gt;&gt;&gt;&gt;&gt;&gt;&gt;&gt;&gt;&gt;&gt;&gt;&gt;&gt;&gt;&gt;&gt;&gt;&gt;&gt;&gt;&gt;&gt;&gt;&gt;&gt;&gt;&gt;&gt;&gt;&gt;&gt;&gt;&gt;&gt;&gt;&gt;&gt;&gt;&gt;&gt;&gt;&gt;&gt;&gt;&gt;&gt;&gt;&gt;&gt;&gt;&gt;&gt;&gt;&gt;&gt;&gt;&gt;&gt;&gt;&gt;&gt;&gt;&gt;&gt;&gt;&gt;&gt;&gt;&gt;&gt;&gt;&gt;&gt;&gt;&gt;&gt;&gt;&gt;&gt;&gt;&gt;&gt;&gt;&gt;&gt;&gt;&gt;&gt;&gt;&gt;&gt;&gt;&gt;&gt;&gt;&gt;&gt;&gt;&gt;&gt;&gt;&gt;&gt;&gt;&gt;&gt;&gt;&gt;&gt;&gt;&gt;&gt;&gt;&gt;&gt;&gt;&gt;&gt;&gt;&gt;&gt;&gt;&gt;&gt;&gt;&gt;&gt;&gt;&gt;&gt;&gt;&gt;&gt;&gt;&gt;&gt;&gt;&gt;&gt;&gt;&gt;&gt;&gt;&gt;&gt;&gt;&gt;&gt;&gt;&gt;&gt;&gt;&gt;&gt;&gt;&gt;&gt;&gt;&gt;&gt;&gt;&gt;&gt;&gt;&gt;&gt;&gt;&gt;&gt;&gt;&gt;&gt;&gt;&gt;&gt;&gt;&gt;&gt;&gt;&gt;&gt;&gt;&gt;&gt;&gt;&gt;&gt;&gt;&gt;&gt;&gt;&gt;&gt;&gt;&gt;&gt;&gt;&gt;&gt;&gt;&gt;&gt;&gt;&gt;&gt;&gt;&gt;&gt;&gt;&gt;&gt;&gt;&gt;&gt;&gt;&gt;&gt;&gt;&gt;&gt;&gt;&gt;&gt;&gt;&gt;&gt;&gt;&gt;&gt;&gt;&gt;&gt;&gt;&gt;&gt;&gt;&gt;&gt;&gt;&gt;&gt;&gt;&gt;&gt;&gt;&gt;&gt;&gt;&gt;&gt;&gt;&gt;&gt;&gt;&gt;&gt;&gt;&gt;&gt;&gt;&gt;&gt;&gt;&gt;&gt;&gt;&gt;&gt;&gt;&gt;&gt;&gt;&gt;&gt;&gt;&gt;&gt;&gt;&gt;&gt;&gt;&gt;&gt;&gt;&gt;&gt;&gt;&gt;&gt;&gt;&gt;&gt;&gt;&gt;&gt;&gt;&gt;&gt;&gt;&gt;&gt;&gt;&gt;&gt;&gt;&gt;&gt;&gt;&gt;&gt;&gt;&gt;&gt;&gt;&gt;&gt;&gt;&gt;&gt;&gt;&gt;&gt;&gt;&gt;&gt;&gt;&gt;&gt;&gt;&gt;&gt;&gt;&gt;&gt;&gt;&gt;&gt;&gt;&gt;&gt;&gt;&gt;&gt;&gt;&gt;&gt;&gt;&gt;&gt;&gt;&gt;&gt;&gt;&gt;&gt;&gt;&gt;&gt;&gt;&gt;&gt;&gt;&gt;&gt;&gt;&gt;&gt;&gt;&gt;&gt;&gt;&gt;&gt;&gt;&gt;&gt;&gt;&gt;&gt;&gt;&gt;&gt;&gt;&gt;&gt;&gt;&gt;&gt;&gt;&gt;&gt;&gt;&gt;&gt;&gt;&gt;&gt;&gt;&gt;&gt;&gt;&gt;&gt;&gt;&gt;&gt;&gt;&gt;&gt;&gt;&gt;&gt;&gt;&gt;&gt;&gt;&gt;&gt;&gt;&gt;&gt;&gt;&gt;&gt;&gt;&gt;&gt;&gt;&gt;&gt;&gt;&gt;&gt;&gt;&gt;&gt;&gt;&gt;&gt;&gt;&gt;&gt;&gt;&gt;&gt;&gt;&gt;&gt;&gt;&gt;&gt;&gt;&gt;&gt;&gt;&gt;&gt;&gt;&gt;&gt;&gt;&gt;&gt;&gt;&gt;&gt;&gt;&gt;&gt;&gt;&gt;&gt;&gt;&gt;&gt;&gt;&gt;&gt;&gt;&gt;&gt;&gt;&gt;&gt;&gt;&gt;&gt;&gt;&gt;&gt;&gt;&gt;&gt;&gt;&gt;&gt;&gt;&gt;&gt;&gt;&gt;&gt;&gt;&gt;&gt;&gt;&gt;&gt;&gt;&gt;&gt;&gt;&gt;&gt;&gt;&gt;&gt;&gt;&gt;&gt;&gt;&gt;&gt;&gt;&gt;&gt;&gt;&gt;&gt;&gt;&gt;&gt;&gt;&gt;&gt;&gt;&gt;&gt;&gt;&gt;&gt;&gt;&gt;&gt;&gt;&gt;&gt;&gt;&gt;&gt;&gt;&gt;&gt;&gt;&gt;&gt;&gt;&gt;&gt;&gt;&gt;&gt;&gt;&gt;&gt;&gt;&gt;&gt;&gt;&gt;&gt;&gt;&gt;&gt;&gt;&gt;&gt;&gt;&gt;&gt;&gt;&gt;&gt;&gt;&gt;&gt;&gt;&gt;&gt;&gt;&gt;&gt;&gt;&gt;&gt;&gt;&gt;&gt;&gt;&gt;&gt;&gt;&gt;&gt;&gt;&gt;&gt;&gt;&gt;&gt;&gt;&gt;&gt;&gt;&gt;&gt;&gt;&gt;&gt;&gt;&gt;&gt;&gt;&gt;&gt;&gt;&gt;&gt;&gt;&gt;&gt;&gt;&gt;&gt;&gt;&gt;&gt;&gt;&gt;&gt;&gt;&gt;&gt;&gt;&gt;&gt;&gt;&gt;&gt;&gt;&gt;&gt;&gt;&gt;&gt;&gt;&gt;&gt;&gt;&gt;&gt;&gt;&gt;&gt;&gt;&gt;&gt;&gt;&gt;&gt;&gt;&gt;&gt;&gt;&gt;&gt;&gt;&gt;&gt;&gt;&gt;&gt;&gt;&gt;&gt;&gt;&gt;&gt;&gt;&gt;&gt;&gt;&gt;&gt;&gt;&gt;&gt;&gt;&gt;&gt;&gt;&gt;&gt;&gt;&gt;&gt;&gt;&gt;&gt;&gt;&gt;&gt;&gt;&gt;&gt;&gt;&gt;&gt;&gt;&gt;&gt;&gt;&gt;&gt;&gt;&gt;&gt;&gt;&gt;&gt;&gt;&gt;&gt;&gt;&gt;&gt;&gt;&gt;&gt;&gt;&gt;&gt;&gt;&gt;&gt;&gt;&gt;&gt;&gt;&gt;&gt;&gt;&gt;&gt;&gt;&gt;&gt;&gt;&gt;&gt;&gt;&gt;&gt;&gt;&gt;&gt;&gt;&gt;&gt;&gt;&gt;&gt;&gt;&gt;&gt;&gt;&gt;&gt;&gt;&gt;&gt;&gt;&gt;&gt;&gt;&gt;&gt;&gt;&gt;&gt;&gt;&gt;&gt;&gt;&gt;&gt;&gt;&gt;&gt;&gt;&gt;&gt;&gt;&gt;&gt;&gt;&gt;&gt;&gt;&gt;&gt;&gt;&gt;&gt;&gt;&gt;&gt;&gt;&gt;&gt;&gt;&gt;&gt;&gt;&gt;&gt;&gt;&gt;&gt;&gt;&gt;&gt;&gt;&gt;&gt;&gt;&gt;&gt;&gt;&gt;&gt;&gt;&gt;&gt;&gt;&gt;&gt;&gt;&gt;&gt;&gt;&gt;&gt;&gt;&gt;&gt;&gt;&gt;&gt;&gt;&gt;&gt;&gt;&gt;&gt;&gt;&gt;&gt;&gt;&gt;&gt;&gt;&gt;&gt;&gt;&gt;&gt;&gt;&gt;&gt;&gt;&gt;&gt;&gt;&gt;&gt;&gt;&gt;&gt;&gt;&gt;&gt;&gt;&gt;&gt;&gt;&gt;&gt;&gt;&gt;&gt;&gt;&gt;&gt;&gt;&gt;&gt;&gt;&gt;&gt;&gt;&gt;&gt;&gt;&gt;&gt;&gt;&gt;&gt;&gt;&gt;&gt;&gt;&gt;&gt;&gt;&gt;&gt;&gt;&gt;&gt;&gt;&gt;&gt;&gt;&gt;&gt;&gt;&gt;&gt;&gt;&gt;&gt;&gt;&gt;&gt;&gt;&gt;&gt;&gt;&gt;&gt;&gt;&gt;&gt;&gt;&gt;&gt;&gt;&gt;&gt;&gt;&gt;&gt;&gt;&gt;&gt;&gt;&gt;&gt;&gt;&gt;&gt;&gt;&gt;&gt;&gt;&gt;&gt;&gt;&gt;&gt;&gt;&gt;&gt;&gt;&gt;&gt;&gt;&gt;&gt;&gt;&gt;&gt;&gt;&gt;&gt;&gt;&gt;&gt;&gt;&gt;&gt;&gt;&gt;&gt;&gt;&gt;&gt;&gt;&gt;&gt;&gt;&gt;&gt;&gt;&gt;&gt;&gt;&gt;&gt;&gt;&gt;&gt;&gt;&gt;&gt;&gt;&gt;&gt;&gt;&gt;&gt;&gt;&gt;&gt;&gt;&gt;&gt;&gt;&gt;&gt;&gt;&gt;&gt;&gt;&gt;&gt;&gt;&gt;&gt;&gt;&gt;&gt;&gt;&gt;&gt;&gt;&gt;&gt;&gt;&gt;&gt;&gt;&gt;&gt;&gt;&gt;&gt;&gt;&gt;&gt;&gt;&gt;&gt;&gt;&gt;&gt;&gt;&gt;&gt;&gt;&gt;&gt;&gt;&gt;&gt;&gt;&gt;&gt;&gt;&gt;&gt;&gt;&gt;&gt;&gt;&gt;&gt;&gt;&gt;&gt;&gt;&gt;&gt;&gt;&gt;&gt;&gt;&gt;&gt;&gt;&gt;&gt;&gt;&gt;&gt;&gt;&gt;&gt;&gt;&gt;&gt;&gt;&gt;&gt;&gt;&gt;&gt;&gt;&gt;&gt;&gt;&gt;&gt;&gt;&gt;&gt;&gt;&gt;&gt;&gt;&gt;&gt;&gt;&gt;&gt;&gt;&gt;&gt;&gt;&gt;&gt;&gt;&gt;&gt;&gt;&gt;&gt;&gt;&gt;&gt;&gt;&gt;&gt;&gt;&gt;&gt;&gt;&gt;&gt;&gt;&gt;&gt;&gt;&gt;&gt;&gt;&gt;&gt;&gt;&gt;&gt;&gt;&gt;&gt;&gt;&gt;&gt;&gt;&gt;&gt;&gt;&gt;&gt;&gt;&gt;&gt;&gt;&gt;&gt;&gt;&gt;&gt;&gt;&gt;&gt;&gt;&gt;&gt;&gt;&gt;&gt;&gt;&gt;&gt;&gt;&gt;&gt;&gt;&gt;&gt;&gt;&gt;&gt;&gt;&gt;&gt;&gt;&gt;&gt;&gt;&gt;&gt;&gt;&gt;&gt;&gt;&gt;&gt;&gt;&gt;&gt;&gt;&gt;&gt;&gt;&gt;&gt;&gt;&gt;&gt;&gt;&gt;&gt;&gt;&gt;&gt;&gt;&gt;&gt;&gt;&gt;&gt;&gt;&gt;&gt;&gt;&gt;&gt;&gt;&gt;&gt;&gt;&gt;&gt;&gt;&gt;&gt;&gt;&gt;&gt;&gt;&gt;&gt;&gt;&gt;&gt;&gt;&gt;&gt;&gt;&gt;&gt;&gt;&gt;&gt;&gt;&gt;&gt;&gt;&gt;&gt;&gt;&gt;&gt;&gt;&gt;&gt;&gt;&gt;&gt;&gt;&gt;&gt;&gt;&gt;&gt;&gt;&gt;&gt;&gt;&gt;&gt;&gt;&gt;&gt;&gt;&gt;&gt;&gt;&gt;&gt;&gt;&gt;&gt;&gt;&gt;&gt;&gt;&gt;&gt;&gt;&gt;&gt;&gt;&gt;&gt;&gt;&gt;&gt;&gt;&gt;&gt;&gt;&gt;&gt;&gt;&gt;&gt;&gt;&gt;&gt;&gt;&gt;&gt;&gt;&gt;&gt;&gt;&gt;&gt;&gt;&gt;&gt;&gt;&gt;&gt;&gt;&gt;&gt;&gt;&gt;&gt;&gt;&gt;&gt;&gt;&gt;&gt;&gt;&gt;&gt;&gt;&gt;&gt;&gt;&gt;&gt;&gt;&gt;&gt;&gt;&gt;&gt;&gt;&gt;&gt;&gt;&gt;&gt;&gt;&gt;&gt;&gt;&gt;&gt;&gt;&gt;&gt;&gt;&gt;&gt;&gt;&gt;&gt;&gt;&gt;&gt;&gt;&gt;&gt;&gt;&gt;&gt;&gt;&gt;&gt;&gt;&gt;&gt;&gt;&gt;&gt;&gt;&gt;&gt;&gt;&gt;&gt;&gt;&gt;&gt;&gt;&gt;&gt;&gt;&gt;&gt;&gt;&gt;&gt;&gt;&gt;&gt;&gt;&gt;&gt;&gt;&gt;&gt;&gt;&gt;&gt;&gt;&gt;&gt;&gt;&gt;&gt;&gt;&gt;&gt;&gt;&gt;&gt;&gt;&gt;&gt;&gt;&gt;&gt;&gt;&gt;&gt;&gt;&gt;&gt;&gt;&gt;&gt;&gt;&gt;&gt;&gt;&gt;&gt;&gt;&gt;&gt;&gt;&gt;&gt;&gt;&gt;&gt;&gt;&gt;&gt;&gt;&gt;&gt;&gt;&gt;&gt;&gt;&gt;&gt;&gt;&gt;&gt;&gt;&gt;&gt;&gt;&gt;&gt;&gt;&gt;&gt;&gt;&gt;&gt;&gt;&gt;&gt;&gt;&gt;&gt;&gt;&gt;&gt;&gt;&gt;&gt;&gt;&gt;&gt;&gt;&gt;&gt;&gt;&gt;&gt;&gt;&gt;&gt;&gt;&gt;&gt;&gt;&gt;&gt;&gt;&gt;&gt;&gt;&gt;&gt;&gt;&gt;&gt;&gt;&gt;&gt;&gt;&gt;&gt;&gt;&gt;&gt;&gt;&gt;&gt;&gt;&gt;&gt;&gt;&gt;&gt;&gt;&gt;&gt;&gt;&gt;&gt;&gt;&gt;&gt;&gt;&gt;&gt;&gt;&gt;&gt;&gt;&gt;&gt;&gt;&gt;&gt;&gt;&gt;&gt;&gt;&gt;&gt;&gt;&gt;&gt;&gt;&gt;&gt;&gt;&gt;&gt;&gt;&gt;&gt;&gt;&gt;&gt;&gt;&gt;&gt;&gt;&gt;&gt;&gt;&gt;&gt;&gt;&gt;&gt;&gt;&gt;&gt;&gt;&gt;&gt;&gt;&gt;&gt;&gt;&gt;&gt;&gt;&gt;&gt;&gt;&gt;&gt;&gt;&gt;&gt;&gt;&gt;&gt;&gt;&gt;&gt;&gt;&gt;&gt;&gt;&gt;&gt;&gt;&gt;&gt;&gt;&gt;&gt;&gt;&gt;&gt;&gt;&gt;&gt;&gt;&gt;&gt;&gt;&gt;&gt;&gt;&gt;&gt;&gt;&gt;&gt;&gt;&gt;&gt;&gt;&gt;&gt;&gt;&gt;&gt;&gt;&gt;&gt;&gt;&gt;&gt;&gt;&gt;&gt;&gt;&gt;&gt;&gt;&gt;&gt;&gt;&gt;&gt;&gt;&gt;&gt;&gt;&gt;&gt;&gt;&gt;&gt;&gt;&gt;&gt;&gt;&gt;&gt;&gt;&gt;&gt;&gt;&gt;&gt;&gt;&gt;&gt;&gt;&gt;&gt;&gt;&gt;&gt;&gt;&gt;&gt;&gt;&gt;&gt;&gt;&gt;&gt;&gt;&gt;&gt;&gt;&gt;&gt;&gt;&gt;&gt;&gt;&gt;&gt;&gt;&gt;&gt;&gt;&gt;&gt;&gt;&gt;&gt;&gt;&gt;&gt;&gt;&gt;&gt;&gt;&gt;&gt;&gt;&gt;&gt;&gt;&gt;&gt;&gt;&gt;&gt;&gt;&gt;&gt;&gt;&gt;&gt;&gt;&gt;&gt;&gt;&gt;&gt;&gt;&gt;&gt;&gt;&gt;&gt;&gt;&gt;&gt;&gt;&gt;&gt;&gt;&gt;&gt;&gt;&gt;&gt;&gt;&gt;&gt;&gt;&gt;&gt;&gt;&gt;&gt;&gt;&gt;&gt;&gt;&gt;&gt;&gt;&gt;&gt;&gt;&gt;&gt;&gt;&gt;&gt;&gt;&gt;&gt;&gt;&gt;&gt;&gt;&gt;&gt;&gt;&gt;&gt;&gt;&gt;&gt;&gt;&gt;&gt;&gt;&gt;&gt;&gt;&gt;&gt;&gt;&gt;&gt;&gt;&gt;&gt;&gt;&gt;&gt;&gt;&gt;&gt;&gt;&gt;&gt;&gt;&gt;&gt;&gt;&gt;&gt;&gt;&gt;&gt;&gt;&gt;&gt;&gt;&gt;&gt;&gt;&gt;&gt;&gt;&gt;&gt;&gt;&gt;&gt;&gt;&gt;&gt;&gt;&gt;&gt;&gt;&gt;&gt;&gt;&gt;&gt;&gt;&gt;&gt;&gt;&gt;&gt;&gt;&gt;&gt;&gt;&gt;&gt;&gt;&gt;&gt;&gt;&gt;&gt;&gt;&gt;&gt;&gt;&gt;&gt;&gt;&gt;&gt;&gt;&gt;&gt;&gt;&gt;&gt;&gt;&gt;&gt;&gt;&gt;&gt;&gt;&gt;&gt;&gt;&gt;&gt;&gt;&gt;&gt;&gt;&gt;&gt;&gt;&gt;&gt;&gt;&gt;&gt;&gt;&gt;&gt;&gt;&gt;&gt;&gt;&gt;&gt;&gt;&gt;&gt;&gt;&gt;&gt;&gt;&gt;&gt;&gt;&gt;&gt;&gt;&gt;&gt;&gt;&gt;&gt;&gt;&gt;&gt;&gt;&gt;&gt;&gt;&gt;&gt;&gt;&gt;&gt;&gt;&gt;&gt;&gt;&gt;&gt;&gt;&gt;&gt;&gt;&gt;&gt;&gt;&gt;&gt;&gt;&gt;&gt;&gt;&gt;&gt;&gt;&gt;&gt;&gt;&gt;&gt;&gt;&gt;&gt;&gt;&gt;&gt;&gt;&gt;&gt;&gt;&gt;&gt;&gt;&gt;&gt;&gt;&gt;&gt;&gt;&gt;&gt;&gt;&gt;&gt;&gt;&gt;&gt;&gt;&gt;&gt;&gt;&gt;&gt;&gt;&gt;&gt;&gt;&gt;&gt;&gt;&gt;&gt;&gt;&gt;&gt;&gt;&gt;&gt;&gt;&gt;&gt;&gt;&gt;&gt;&gt;&gt;&gt;&gt;&gt;&gt;&gt;&gt;&gt;&gt;&gt;&gt;&gt;&gt;&gt;&gt;&gt;&gt;&gt;&gt;&gt;&gt;&gt;&gt;&gt;&gt;&gt;&gt;&gt;&gt;&gt;&gt;&gt;&gt;&gt;&gt;&gt;&gt;&gt;&gt;&gt;&gt;&gt;&gt;&gt;&gt;&gt;&gt;&gt;&gt;&gt;&gt;&gt;&gt;&gt;&gt;&gt;&gt;&gt;&gt;&gt;&gt;&gt;&gt;&gt;&gt;&gt;&gt;&gt;&gt;&gt;&gt;&gt;&gt;&gt;&gt;&gt;&gt;&gt;&gt;&gt;&gt;&gt;&gt;&gt;&gt;&gt;&gt;&gt;&gt;&gt;&gt;&gt;&gt;&gt;&gt;&gt;&gt;&gt;&gt;&gt;&gt;&gt;&gt;&gt;&gt;&gt;&gt;&gt;&gt;&gt;&gt;&gt;&gt;&gt;&gt;&gt;&gt;&gt;&gt;&gt;&gt;&gt;&gt;&gt;&gt;&gt;&gt;&gt;&gt;&gt;&gt;&gt;&gt;&gt;&gt;&gt;&gt;&gt;&gt;&gt;&gt;&gt;&gt;&gt;&gt;&gt;&gt;&gt;&gt;&gt;&gt;&gt;&gt;&gt;&gt;&gt;&gt;&gt;&gt;&gt;&gt;&gt;&gt;&gt;&gt;&gt;&gt;&gt;&gt;&gt;&gt;&gt;&gt;&gt;&gt;&gt;&gt;&gt;&gt;&gt;&gt;&gt;&gt;&gt;&gt;&gt;&gt;&gt;&gt;&gt;&gt;&gt;&gt;&gt;&gt;&gt;&gt;&gt;&gt;&gt;&gt;&gt;&gt;&gt;&gt;&gt;&gt;&gt;&gt;&gt;&gt;&gt;&gt;&gt;&gt;&gt;&gt;&gt;&gt;&gt;&gt;&gt;&gt;&gt;&gt;&gt;&gt;&gt;&gt;&gt;&gt;&gt;&gt;&gt;&gt;&gt;&gt;&gt;&gt;&gt;&gt;&gt;&gt;&gt;&gt;&gt;&gt;&gt;&gt;&gt;&gt;&gt;&gt;&gt;&gt;&gt;&gt;&gt;&gt;&gt;&gt;&gt;&gt;&gt;&gt;&gt;&gt;&gt;&gt;&gt;&gt;&gt;&gt;&gt;&gt;&gt;&gt;&gt;&gt;&gt;&gt;&gt;&gt;&gt;&gt;&gt;&gt;&gt;&gt;&gt;&gt;&gt;&gt;&gt;&gt;&gt;&gt;&gt;&gt;&gt;&gt;&gt;&gt;&gt;&gt;&gt;&gt;&gt;&gt;&gt;&gt;&gt;&gt;&gt;&gt;&gt;&gt;&gt;&gt;&gt;&gt;&gt;&gt;&gt;&gt;&gt;&gt;&gt;&gt;&gt;&gt;&gt;&gt;&gt;&gt;&gt;&gt;&gt;&gt;&gt;&gt;&gt;&gt;&gt;&gt;&gt;&gt;&gt;&gt;&gt;&gt;&gt;&gt;&gt;&gt;&gt;&gt;&gt;&gt;&gt;&gt;&gt;&gt;&gt;&gt;&gt;&gt;&gt;&gt;&gt;&gt;&gt;&gt;&gt;&gt;&gt;&gt;&gt;&gt;&gt;&gt;&gt;&gt;&gt;&gt;&gt;&gt;&gt;&gt;&gt;&gt;&gt;&gt;&gt;&gt;&gt;&gt;&gt;&gt;&gt;&gt;&gt;&gt;&gt;&gt;&gt;&gt;&gt;&gt;&gt;&gt;&gt;&gt;&gt;&gt;&gt;&gt;&gt;&gt;&gt;&gt;&gt;&gt;&gt;&gt;&gt;&gt;&gt;&gt;&gt;&gt;&gt;&gt;&gt;&gt;&gt;&gt;&gt;&gt;&gt;&gt;&gt;&gt;&gt;&gt;&gt;&gt;&gt;&gt;&gt;&gt;&gt;&gt;&gt;&gt;&gt;&gt;&gt;&gt;&gt;&gt;&gt;&gt;&gt;&gt;&gt;&gt;&gt;&gt;&gt;&gt;&gt;&gt;&gt;&gt;&gt;&gt;&gt;&gt;&gt;&gt;&gt;&gt;&gt;&gt;&gt;&gt;&gt;&gt;&gt;&gt;&gt;&gt;&gt;&gt;&gt;&gt;&gt;&gt;&gt;&gt;&gt;&gt;&gt;&gt;&gt;&gt;&gt;&gt;&gt;&gt;&gt;&gt;&gt;&gt;&gt;&gt;&gt;&gt;&gt;&gt;&gt;&gt;&gt;&gt;&gt;&gt;&gt;&gt;&gt;&gt;&gt;&gt;&gt;&gt;&gt;&gt;&gt;&gt;&gt;&gt;&gt;&gt;&gt;&gt;&gt;&gt;&gt;&gt;&gt;&gt;&gt;&gt;&gt;&gt;&gt;&gt;&gt;&gt;&gt;&gt;&gt;&gt;&gt;&gt;&gt;&gt;&gt;&gt;&gt;&gt;&gt;&gt;&gt;&gt;&gt;&gt;&gt;&gt;&gt;&gt;&gt;&gt;&gt;&gt;&gt;&gt;&gt;&gt;&gt;&gt;&gt;&gt;&gt;&gt;&gt;&gt;&gt;&gt;&gt;&gt;&gt;&gt;&gt;&gt;&gt;&gt;&gt;&gt;&gt;&gt;&gt;&gt;&gt;&gt;&gt;&gt;&gt;&gt;&gt;&gt;&gt;&gt;&gt;&gt;&gt;&gt;&gt;&gt;&gt;&gt;&gt;&gt;&gt;&gt;&gt;&gt;&gt;&gt;&gt;&gt;&gt;&gt;&gt;&gt;&gt;&gt;&gt;&gt;&gt;&gt;&gt;&gt;&gt;&gt;&gt;&gt;&gt;&gt;&gt;&gt;&gt;&gt;&gt;&gt;&gt;&gt;&gt;&gt;&gt;&gt;&gt;&gt;&gt;&gt;&gt;&gt;&gt;&gt;&gt;&gt;&gt;&gt;&gt;&gt;&gt;&gt;&gt;&gt;&gt;&gt;&gt;&gt;&gt;&gt;&gt;&gt;&gt;&gt;&gt;&gt;&gt;&gt;&gt;&gt;&gt;&gt;&gt;&gt;&gt;&gt;&gt;&gt;&gt;&gt;&gt;&gt;&gt;&gt;&gt;&gt;&gt;&gt;&gt;&gt;&gt;&gt;&gt;&gt;&gt;&gt;&gt;&gt;&gt;&gt;&gt;&gt;&gt;&gt;&gt;&gt;&gt;&gt;&gt;&gt;&gt;&gt;&gt;&gt;&gt;&gt;&gt;&gt;&gt;&gt;&gt;&gt;&gt;&gt;&gt;&gt;&gt;&gt;&gt;&gt;&gt;&gt;&gt;&gt;&gt;&gt;&gt;&gt;&gt;&gt;&gt;&gt;&gt;&gt;&gt;&gt;&gt;&gt;&gt;&gt;&gt;&gt;&gt;&gt;&gt;&gt;&gt;&gt;&gt;&gt;&gt;&gt;&gt;&gt;&gt;&gt;&gt;&gt;&gt;&gt;&gt;&gt;&gt;&gt;&gt;&gt;&gt;&gt;&gt;&gt;&gt;&gt;&gt;&gt;&gt;&gt;&gt;&gt;&gt;&gt;&gt;&gt;&gt;&gt;&gt;&gt;&gt;&gt;&gt;&gt;&gt;&gt;&gt;&gt;&gt;&gt;&gt;&gt;&gt;&gt;&gt;&gt;&gt;&gt;&gt;&gt;&gt;&gt;&gt;&gt;&gt;&gt;&gt;&gt;&gt;&gt;&gt;&gt;&gt;&gt;&gt;&gt;&gt;&gt;&gt;&gt;&gt;&gt;&gt;&gt;&gt;&gt;&gt;&gt;&gt;&gt;&gt;&gt;&gt;&gt;&gt;&gt;&gt;&gt;&gt;&gt;&gt;&gt;&gt;&gt;&gt;&gt;&gt;&gt;&gt;&gt;&gt;&gt;&gt;&gt;&gt;&gt;&gt;&gt;&gt;&gt;&gt;&gt;&gt;&gt;&gt;&gt;&gt;&gt;&gt;&gt;&gt;&gt;&gt;&gt;&gt;&gt;&gt;&gt;&gt;&gt;&gt;&gt;&gt;&gt;&gt;&gt;&gt;&gt;&gt;&gt;&gt;&gt;&gt;&gt;&gt;&gt;&gt;&gt;&gt;&gt;&gt;&gt;&gt;&gt;&gt;&gt;&gt;&gt;&gt;&gt;&gt;&gt;&gt;&gt;&gt;&gt;&gt;&gt;&gt;&gt;&gt;&gt;&gt;&gt;&gt;&gt;&gt;&gt;&gt;&gt;&gt;&gt;&gt;&gt;&gt;&gt;&gt;&gt;&gt;&gt;&gt;&gt;&gt;&gt;&gt;&gt;&gt;&gt;&gt;&gt;&gt;&gt;&gt;&gt;&gt;&gt;&gt;&gt;&gt;&gt;&gt;&gt;&gt;&gt;&gt;&gt;&gt;&gt;&gt;&gt;&gt;&gt;&gt;&gt;&gt;&gt;&gt;&gt;&gt;&gt;&gt;&gt;&gt;&gt;&gt;&gt;&gt;&gt;&gt;&gt;&gt;&gt;&gt;&gt;&gt;&gt;&gt;&gt;&gt;&gt;&gt;&gt;&gt;&gt;&gt;&gt;&gt;&gt;&gt;&gt;&gt;&gt;&gt;&gt;&gt;&gt;&gt;&gt;&gt;&gt;&gt;&gt;&gt;&gt;&gt;&gt;&gt;&gt;&gt;&gt;&gt;&gt;&gt;&gt;&gt;&gt;&gt;&gt;&gt;&gt;&gt;&gt;&gt;&gt;&gt;&gt;&gt;&gt;&gt;&gt;&gt;&gt;&gt;&gt;&gt;&gt;&gt;&gt;&gt;&gt;&gt;&gt;&gt;&gt;&gt;&gt;&gt;&gt;&gt;&gt;&gt;&gt;&gt;&gt;&gt;&gt;&gt;&gt;&gt;&gt;&gt;&gt;&gt;&gt;&gt;&gt;&gt;&gt;&gt;&gt;&gt;&gt;&gt;&gt;&gt;&gt;&gt;&gt;&gt;&gt;&gt;&gt;&gt;&gt;&gt;&gt;&gt;&gt;&gt;&gt;&gt;&gt;&gt;&gt;&gt;&gt;&gt;&gt;&gt;&gt;&gt;&gt;&gt;&gt;&gt;&gt;&gt;&gt;&gt;&gt;&gt;&gt;&gt;&gt;&gt;&gt;&gt;&gt;&gt;&gt;&gt;&gt;&gt;&gt;&gt;&gt;&gt;&gt;&gt;&gt;&gt;&gt;&gt;&gt;&gt;&gt;&gt;&gt;&gt;&gt;&gt;&gt;&gt;&gt;&gt;&gt;&gt;&gt;&gt;&gt;&gt;&gt;&gt;&gt;&gt;&gt;&gt;&gt;&gt;&gt;&gt;&gt;&gt;&gt;&gt;&gt;&gt;&gt;&gt;&gt;&gt;&gt;&gt;&gt;&gt;&gt;&gt;&gt;&gt;&gt;&gt;&gt;&gt;&gt;&gt;&gt;&gt;&gt;&gt;&gt;&gt;&gt;&gt;&gt;&gt;&gt;&gt;&gt;&gt;&gt;&gt;&gt;&gt;&gt;&gt;&gt;&gt;&gt;&gt;&gt;&gt;&gt;&gt;&gt;&gt;&gt;&gt;&gt;&gt;&gt;&gt;&gt;&gt;&gt;&gt;&gt;&gt;&gt;&gt;&gt;&gt;&gt;&gt;&gt;&gt;&gt;&gt;&gt;&gt;&gt;&gt;&gt;&gt;&gt;&gt;&gt;&gt;&gt;&gt;&gt;&gt;&gt;&gt;&gt;&gt;&gt;&gt;&gt;&gt;&gt;&gt;&gt;&gt;&gt;&gt;&gt;&gt;&gt;&gt;&gt;&gt;&gt;&gt;&gt;&gt;&gt;&gt;&gt;&gt;&gt;&gt;&gt;&gt;&gt;&gt;&gt;&gt;&gt;&gt;&gt;&gt;&gt;&gt;&gt;&gt;&gt;&gt;&gt;&gt;&gt;&gt;&gt;&gt;&gt;&gt;&gt;&gt;&gt;&gt;&gt;&gt;&gt;&gt;&gt;&gt;&gt;&gt;&gt;&gt;&gt;&gt;&gt;&gt;&gt;&gt;&gt;&gt;&gt;&gt;&gt;&gt;&gt;&gt;&gt;&gt;&gt;&gt;&gt;&gt;&gt;&gt;&gt;&gt;&gt;&gt;&gt;&gt;&gt;&gt;&gt;&gt;&gt;&gt;&gt;&gt;&gt;&gt;&gt;&gt;&gt;&gt;&gt;&gt;&gt;&gt;&gt;&gt;&gt;&gt;&gt;&gt;&gt;&gt;&gt;&gt;&gt;&gt;&gt;&gt;&gt;&gt;&gt;&gt;&gt;&gt;&gt;&gt;&gt;&gt;&gt;&gt;&gt;&gt;&gt;&gt;&gt;&gt;&gt;&gt;&gt;&gt;&gt;&gt;&gt;&gt;&gt;&gt;&gt;&gt;&gt;&gt;&gt;&gt;&gt;&gt;&gt;&gt;&gt;&gt;&gt;&gt;&gt;&gt;&gt;&gt;&gt;&gt;&gt;&gt;&gt;&gt;&gt;&gt;&gt;&gt;&gt;&gt;&gt;&gt;&gt;&gt;&gt;&gt;&gt;&gt;&gt;&gt;&gt;&gt;&gt;&gt;&gt;&gt;&gt;&gt;&gt;&gt;&gt;&gt;&gt;&gt;&gt;&gt;&gt;&gt;&gt;&gt;&gt;&gt;&gt;&gt;&gt;&gt;&gt;&gt;&gt;&gt;&gt;&gt;&gt;&gt;&gt;&gt;&gt;&gt;&gt;&gt;&gt;&gt;&gt;&gt;&gt;&gt;&gt;&gt;&gt;&gt;&gt;&gt;&gt;&gt;&gt;&gt;&gt;&gt;&gt;&gt;&gt;&gt;&gt;&gt;&gt;&gt;&gt;&gt;&gt;&gt;&gt;&gt;&gt;&gt;&gt;&gt;&gt;&gt;&gt;&gt;&gt;&gt;&gt;&gt;&gt;&gt;&gt;&gt;&gt;&gt;&gt;&gt;&gt;&gt;&gt;&gt;&gt;&gt;&gt;&gt;&gt;&gt;&gt;&gt;&gt;&gt;&gt;&gt;&gt;&gt;&gt;&gt;&gt;&gt;&gt;&gt;&gt;&gt;&gt;&gt;&gt;&gt;&gt;&gt;&gt;&gt;&gt;&gt;&gt;&gt;&gt;&gt;&gt;&gt;&gt;&gt;&gt;&gt;&gt;&gt;&gt;&gt;&gt;&gt;&gt;&gt;&gt;&gt;&gt;&gt;&gt;&gt;&gt;&gt;&gt;&gt;&gt;&gt;&gt;&gt;&gt;&gt;&gt;&gt;&gt;&gt;&gt;&gt;&gt;&gt;&gt;&gt;&gt;&gt;&gt;&gt;&gt;&gt;&gt;&gt;&gt;&gt;&gt;&gt;&gt;&gt;&gt;&gt;&gt;&gt;&gt;&gt;&gt;&gt;&gt;&gt;&gt;&gt;&gt;&gt;&gt;&gt;&gt;&gt;&gt;&gt;&gt;&gt;&gt;&gt;&gt;&gt;&gt;&gt;&gt;&gt;&gt;&gt;&gt;&gt;&gt;&gt;&gt;&gt;&gt;&gt;&gt;&gt;&gt;&gt;&gt;&gt;&gt;&gt;&gt;&gt;&gt;&gt;&gt;&gt;&gt;&gt;&gt;&gt;&gt;&gt;&gt;&gt;&gt;&gt;&gt;&gt;&gt;&gt;&gt;&gt;&gt;&gt;&gt;&gt;&gt;&gt;&gt;&gt;&gt;&gt;&gt;&gt;&gt;&gt;&gt;&gt;&gt;&gt;&gt;&gt;&gt;&gt;&gt;&gt;&gt;&gt;&gt;&gt;&gt;&gt;&gt;&gt;&gt;&gt;&gt;&gt;&gt;&gt;&gt;&gt;&gt;&gt;&gt;&gt;&gt;&gt;&gt;&gt;&gt;&gt;&gt;&gt;&gt;&gt;&gt;&gt;&gt;&gt;&gt;&gt;&gt;&gt;&gt;&gt;&gt;&gt;&gt;&gt;&gt;&gt;&gt;&gt;&gt;&gt;&gt;&gt;&gt;&gt;&gt;&gt;&gt;&gt;&gt;&gt;&gt;&gt;&gt;&gt;&gt;&gt;&gt;&gt;&gt;&gt;&gt;&gt;&gt;&gt;&gt;&gt;&gt;&gt;&gt;&gt;&gt;&gt;&gt;&gt;&gt;&gt;&gt;&gt;&gt;&gt;&gt;&gt;&gt;&gt;&gt;&gt;&gt;&gt;&gt;&gt;&gt;&gt;&gt;&gt;&gt;&gt;&gt;&gt;&gt;&gt;&gt;&gt;&gt;&gt;&gt;&gt;&gt;&gt;&gt;&gt;&gt;&gt;&gt;&gt;&gt;&gt;&gt;&gt;&gt;&gt;&gt;&gt;&gt;&gt;&gt;&gt;&gt;&gt;&gt;&gt;&gt;&gt;&gt;&gt;&gt;&gt;&gt;&gt;&gt;&gt;&gt;&gt;&gt;&gt;&gt;&gt;&gt;&gt;&gt;&gt;&gt;&gt;&gt;&gt;&gt;&gt;&gt;&gt;&gt;&gt;&gt;&gt;&gt;&gt;&gt;&gt;&gt;&gt;&gt;&gt;&gt;&gt;&gt;&gt;&gt;&gt;&gt;&gt;&gt;&gt;&gt;&gt;&gt;&gt;&gt;&gt;&gt;&gt;&gt;&gt;&gt;&gt;&gt;&gt;&gt;&gt;&gt;&gt;&gt;&gt;&gt;&gt;&gt;&gt;&gt;&gt;&gt;&gt;&gt;&gt;&gt;&gt;&gt;&gt;&gt;&gt;&gt;&gt;&gt;&gt;&gt;&gt;&gt;&gt;&gt;&gt;&gt;&gt;&gt;&gt;&gt;&gt;&gt;&gt;&gt;&gt;&gt;&gt;&gt;&gt;&gt;&gt;&gt;&gt;&gt;&gt;&gt;&gt;&gt;&gt;&gt;&gt;&gt;&gt;&gt;&gt;&gt;&gt;&gt;&gt;&gt;&gt;&gt;&gt;&gt;&gt;&gt;&gt;&gt;&gt;&gt;&gt;&gt;&gt;&gt;&gt;&gt;&gt;&gt;&gt;&gt;&gt;&gt;&gt;&gt;&gt;&gt;&gt;&gt;&gt;&gt;&gt;&gt;&gt;&gt;&gt;&gt;&gt;&gt;&gt;&gt;&gt;&gt;&gt;&gt;&gt;&gt;&gt;&gt;&gt;&gt;&gt;&gt;&gt;&gt;&gt;&gt;&gt;&gt;&gt;&gt;&gt;&gt;&gt;&gt;&gt;&gt;&gt;&gt;&gt;&gt;&gt;&gt;&gt;&gt;&gt;&gt;&gt;&gt;&gt;&gt;&gt;&gt;&gt;&gt;&gt;&gt;&gt;&gt;&gt;&gt;&gt;&gt;&gt;&gt;&gt;&gt;&gt;&gt;&gt;&gt;&gt;&gt;&gt;&gt;&gt;&gt;&gt;&gt;&gt;&gt;&gt;&gt;&gt;&gt;&gt;&gt;&gt;&gt;&gt;&gt;&gt;&gt;&gt;&gt;&gt;&gt;&gt;&gt;&gt;&gt;&gt;&gt;&gt;&gt;&gt;&gt;&gt;&gt;&gt;&gt;&gt;&gt;&gt;&gt;&gt;&gt;&gt;&gt;&gt;&gt;&gt;&gt;&gt;&gt;&gt;&gt;&gt;&gt;&gt;&gt;&gt;&gt;&gt;&gt;&gt;&gt;&gt;&gt;&gt;&gt;&gt;&gt;&gt;&gt;&gt;&gt;&gt;&gt;&gt;&gt;&gt;&gt;&gt;&gt;&gt;&gt;&gt;&gt;&gt;&gt;&gt;&gt;&gt;&gt;&gt;&gt;&gt;&gt;&gt;&gt;&gt;&gt;&gt;&gt;&gt;&gt;&gt;&gt;&gt;&gt;&gt;&gt;&gt;&gt;&gt;&gt;&gt;&gt;&gt;&gt;&gt;&gt;&gt;&gt;&gt;&gt;&gt;&gt;&gt;&gt;&gt;&gt;&gt;&gt;&gt;&gt;&gt;&gt;&gt;&gt;&gt;&gt;&gt;&gt;&gt;&gt;&gt;&gt;&gt;&gt;&gt;&gt;&gt;&gt;&gt;&gt;&gt;&gt;&gt;&gt;&gt;&gt;&gt;&gt;&gt;&gt;&gt;&gt;&gt;&gt;&gt;&gt;&gt;&gt;&gt;&gt;&gt;&gt;&gt;&gt;&gt;&gt;&gt;&gt;&gt;&gt;&gt;&gt;&gt;&gt;&gt;&gt;&gt;&gt;&gt;&gt;&gt;&gt;&gt;&gt;&gt;&gt;&gt;&gt;&gt;&gt;&gt;&gt;&gt;&gt;&gt;&gt;&gt;&gt;&gt;&gt;&gt;&gt;&gt;&gt;&gt;&gt;&gt;&gt;&gt;&gt;&gt;&gt;&gt;&gt;&gt;&gt;&gt;&gt;&gt;&gt;&gt;&gt;&gt;&gt;&gt;&gt;&gt;&gt;&gt;&gt;&gt;&gt;&gt;&gt;&gt;&gt;&gt;&gt;&gt;&gt;&gt;&gt;&gt;&gt;&gt;&gt;&gt;&gt;&gt;&gt;&gt;&gt;&gt;&gt;&gt;&gt;&gt;&gt;&gt;&gt;&gt;&gt;&gt;&gt;&gt;&gt;&gt;&gt;&gt;&gt;&gt;&gt;&gt;&gt;&gt;&gt;&gt;&gt;&gt;&gt;&gt;&gt;&gt;&gt;&gt;&gt;&gt;&gt;&gt;&gt;&gt;&gt;&gt;&gt;&gt;&gt;&gt;&gt;&gt;&gt;&gt;&gt;&gt;&gt;&gt;&gt;&gt;&gt;&gt;&gt;&gt;&gt;&gt;&gt;&gt;&gt;&gt;&gt;&gt;&gt;&gt;&gt;&gt;&gt;&gt;&gt;&gt;&gt;&gt;&gt;&gt;&gt;&gt;&gt;&gt;&gt;&gt;&gt;&gt;&gt;&gt;&gt;&gt;&gt;&gt;&gt;&gt;&gt;&gt;&gt;&gt;&gt;&gt;&gt;&gt;&gt;&gt;&gt;&gt;&gt;&gt;&gt;&gt;&gt;&gt;&gt;&gt;&gt;&gt;&gt;&gt;&gt;&gt;&gt;&gt;&gt;&gt;&gt;&gt;&gt;&gt;&gt;&gt;&gt;&gt;&gt;&gt;&gt;&gt;&gt;&gt;&gt;&gt;&gt;&gt;&gt;&gt;&gt;&gt;&gt;&gt;&gt;&gt;&gt;&gt;&gt;&gt;&gt;&gt;&gt;&gt;&gt;&gt;&gt;&gt;&gt;&gt;&gt;&gt;&gt;&gt;&gt;&gt;&gt;&gt;&gt;&gt;&gt;&gt;&gt;&gt;&gt;&gt;&gt;&gt;&gt;&gt;&gt;&gt;&gt;&gt;&gt;&gt;&gt;&gt;&gt;&gt;&gt;&gt;&gt;&gt;&gt;&gt;&gt;&gt;&gt;&gt;&gt;&gt;&gt;&gt;&gt;&gt;&gt;&gt;&gt;&gt;&gt;&gt;&gt;&gt;&gt;&gt;&gt;&gt;&gt;&gt;&gt;&gt;&gt;&gt;&gt;&gt;&gt;&gt;&gt;&gt;&gt;&gt;&gt;&gt;&gt;&gt;&gt;&gt;&gt;&gt;&gt;&gt;&gt;&gt;&gt;&gt;&gt;&gt;&gt;&gt;&gt;&gt;&gt;&gt;&gt;&gt;&gt;&gt;&gt;&gt;&gt;&gt;&gt;&gt;&gt;&gt;&gt;&gt;&gt;&gt;&gt;&gt;&gt;&gt;&gt;&gt;&gt;&gt;&gt;&gt;&gt;&gt;&gt;&gt;&gt;&gt;&gt;&gt;&gt;&gt;&gt;&gt;&gt;&gt;&gt;&gt;&gt;&gt;&gt;&gt;&gt;&gt;&gt;&gt;&gt;&gt;&gt;&gt;&gt;&gt;&gt;&gt;&gt;&gt;&gt;&gt;&gt;&gt;&gt;&gt;&gt;&gt;&gt;&gt;&gt;&gt;&gt;&gt;&gt;&gt;&gt;&gt;&gt;&gt;&gt;&gt;&gt;&gt;&gt;&gt;&gt;&gt;&gt;&gt;&gt;&gt;&gt;&gt;&gt;&gt;&gt;&gt;&gt;&gt;&gt;&gt;&gt;&gt;&gt;&gt;&gt;&gt;&gt;&gt;&gt;&gt;&gt;&gt;&gt;&gt;&gt;&gt;&gt;&gt;&gt;&gt;&gt;&gt;&gt;&gt;&gt;&gt;&gt;&gt;&gt;&gt;&gt;&gt;&gt;&gt;&gt;&gt;&gt;&gt;&gt;&gt;&gt;&gt;&gt;&gt;&gt;&gt;&gt;&gt;&gt;&gt;&gt;&gt;&gt;&gt;&gt;&gt;&gt;&gt;&gt;&gt;&gt;&gt;&gt;&gt;&gt;&gt;&gt;&gt;&gt;&gt;&gt;&gt;&gt;&gt;&gt;&gt;&gt;&gt;&gt;&gt;&gt;&gt;&gt;&gt;&gt;&gt;&gt;&gt;&gt;&gt;&gt;&gt;&gt;&gt;&gt;&gt;&gt;&gt;&gt;&gt;&gt;&gt;&gt;&gt;&gt;&gt;&gt;&gt;&gt;&gt;&gt;&gt;&gt;&gt;&gt;&gt;&gt;&gt;&gt;&gt;&gt;&gt;&gt;&gt;&gt;&gt;&gt;&gt;&gt;&gt;&gt;&gt;&gt;&gt;&gt;&gt;&gt;&gt;&gt;&gt;&gt;&gt;&gt;&gt;&gt;&gt;&gt;&gt;&gt;&gt;&gt;&gt;&gt;&gt;&gt;&gt;&gt;&gt;&gt;&gt;&gt;&gt;&gt;&gt;&gt;&gt;&gt;&gt;&gt;&gt;&gt;&gt;&gt;&gt;&gt;&gt;&gt;&gt;&gt;&gt;&gt;&gt;&gt;&gt;&gt;&gt;&gt;&gt;&gt;&gt;&gt;&gt;&gt;&gt;&gt;&gt;&gt;&gt;&gt;&gt;&gt;&gt;&gt;&gt;&gt;&gt;&gt;&gt;&gt;&gt;&gt;&gt;&gt;&gt;&gt;&gt;&gt;&gt;&gt;&gt;&gt;&gt;&gt;&gt;&gt;&gt;&gt;&gt;&gt;&gt;&gt;&gt;&gt;&gt;&gt;&gt;&gt;&gt;&gt;&gt;&gt;&gt;&gt;&gt;&gt;&gt;&gt;&gt;&gt;&gt;&gt;&gt;&gt;&gt;&gt;&gt;&gt;&gt;&gt;&gt;&gt;&gt;&gt;&gt;&gt;&gt;&gt;&gt;&gt;&gt;&gt;&gt;&gt;&gt;&gt;&gt;&gt;&gt;&gt;&gt;&gt;&gt;&gt;&gt;&gt;&gt;&gt;&gt;&gt;&gt;&gt;&gt;&gt;&gt;&gt;&gt;&gt;&gt;&gt;&gt;&gt;&gt;&gt;&gt;&gt;&gt;&gt;&gt;&gt;&gt;&gt;&gt;&gt;&gt;&gt;&gt;&gt;&gt;&gt;&gt;&gt;&gt;&gt;&gt;&gt;&gt;&gt;&gt;&gt;&gt;&gt;&gt;&gt;&gt;&gt;&gt;&gt;&gt;&gt;&gt;&gt;&gt;&gt;&gt;&gt;&gt;&gt;&gt;&gt;&gt;&gt;&gt;&gt;&gt;&gt;&gt;&gt;&gt;&gt;&gt;&gt;&gt;&gt;&gt;&gt;&gt;&gt;&gt;&gt;&gt;&gt;&gt;&gt;&gt;&gt;&gt;&gt;&gt;&gt;&gt;&gt;&gt;&gt;&gt;&gt;&gt;&gt;&gt;&gt;&gt;&gt;&gt;&gt;&gt;&gt;&gt;&gt;&gt;&gt;&gt;&gt;&gt;&gt;&gt;&gt;&gt;&gt;&gt;&gt;&gt;&gt;&gt;&gt;&gt;&gt;&gt;&gt;&gt;&gt;&gt;&gt;&gt;&gt;&gt;&gt;&gt;&gt;&gt;&gt;&gt;&gt;&gt;&gt;&gt;&gt;&gt;&gt;&gt;&gt;&gt;&gt;&gt;&gt;&gt;&gt;&gt;&gt;&gt;&gt;&gt;&gt;&gt;&gt;&gt;&gt;&gt;&gt;&gt;&gt;&gt;&gt;&gt;&gt;&gt;&gt;&gt;&gt;&gt;&gt;&gt;&gt;&gt;&gt;&gt;&gt;&gt;&gt;&gt;&gt;&gt;&gt;&gt;&gt;&gt;&gt;&gt;&gt;&gt;&gt;&gt;&gt;&gt;&gt;&gt;&gt;&gt;&gt;&gt;&gt;&gt;&gt;&gt;&gt;&gt;&gt;&gt;&gt;&gt;&gt;&gt;&gt;&gt;&gt;&gt;&gt;&gt;&gt;&gt;&gt;&gt;&gt;&gt;&gt;&gt;&gt;&gt;&gt;&gt;&gt;&gt;&gt;&gt;&gt;&gt;&gt;&gt;&gt;&gt;&gt;&gt;&gt;&gt;&gt;&gt;&gt;&gt;&gt;&gt;&gt;&gt;&gt;&gt;&gt;&gt;&gt;&gt;&gt;&gt;&gt;&gt;&gt;&gt;&gt;&gt;&gt;&gt;&gt;&gt;&gt;&gt;&gt;&gt;&gt;&gt;&gt;&gt;&gt;&gt;&gt;&gt;&gt;&gt;&gt;&gt;&gt;&gt;&gt;&gt;&gt;&gt;&gt;&gt;&gt;&gt;&gt;&gt;&gt;&gt;&gt;&gt;&gt;&gt;&gt;&gt;&gt;&gt;&gt;&gt;&gt;&gt;&gt;&gt;&gt;&gt;&gt;&gt;&gt;&gt;&gt;&gt;&gt;&gt;&gt;&gt;&gt;&gt;&gt;&gt;&gt;&gt;&gt;&gt;&gt;&gt;&gt;&gt;&gt;&gt;&gt;&gt;&gt;&gt;&gt;&gt;&gt;&gt;&gt;&gt;&gt;&gt;&gt;&gt;&gt;&gt;&gt;&gt;&gt;&gt;&gt;&gt;&gt;&gt;&gt;&gt;&gt;&gt;&gt;&gt;&gt;&gt;&gt;&gt;&gt;&gt;&gt;&gt;&gt;&gt;&gt;&gt;&gt;&gt;&gt;&gt;&gt;&gt;&gt;&gt;&gt;&gt;&gt;&gt;&gt;&gt;&gt;&gt;&gt;&gt;&gt;&gt;&gt;&gt;&gt;&gt;&gt;&gt;&gt;&gt;&gt;&gt;&gt;&gt;&gt;&gt;&gt;&gt;&gt;&gt;&gt;&gt;&gt;&gt;&gt;&gt;&gt;&gt;&gt;&gt;&gt;&gt;&gt;&gt;&gt;&gt;&gt;&gt;&gt;&gt;&gt;&gt;&gt;&gt;&gt;&gt;&gt;&gt;&gt;&gt;&gt;&gt;&gt;&gt;&gt;&gt;&gt;&gt;&gt;&gt;&gt;&gt;&gt;&gt;&gt;&gt;&gt;&gt;&gt;&gt;&gt;&gt;&gt;&gt;&gt;&gt;&gt;&gt;&gt;&gt;&gt;&gt;&gt;&gt;&gt;&gt;&gt;&gt;&gt;&gt;&gt;&gt;&gt;&gt;&gt;&gt;&gt;&gt;&gt;&gt;&gt;&gt;&gt;&gt;&gt;&gt;&gt;&gt;&gt;&gt;&gt;&gt;&gt;&gt;&gt;&gt;&gt;&gt;&gt;&gt;&gt;&gt;&gt;&gt;&gt;&gt;&gt;&gt;&gt;&gt;&gt;&gt;&gt;&gt;&gt;&gt;&gt;&gt;&gt;&gt;&gt;&gt;&gt;&gt;&gt;&gt;&gt;&gt;&gt;&gt;&gt;&gt;&gt;&gt;&gt;&gt;&gt;&gt;&gt;&gt;&gt;&gt;&gt;&gt;&gt;&gt;&gt;&gt;&gt;&gt;&gt;&gt;&gt;&gt;&gt;&gt;&gt;&gt;&gt;&gt;&gt;&gt;&gt;&gt;&gt;&gt;&gt;&gt;&gt;&gt;&gt;&gt;&gt;&gt;&gt;&gt;&gt;&gt;&gt;&gt;&gt;&gt;&gt;&gt;&gt;&gt;&gt;&gt;&gt;&gt;&gt;&gt;&gt;&gt;&gt;&gt;&gt;&gt;&gt;&gt;&gt;&gt;&gt;&gt;&gt;&gt;&gt;&gt;&gt;&gt;&gt;&gt;&gt;&gt;&gt;&gt;&gt;&gt;&gt;&gt;&gt;&gt;&gt;&gt;&gt;&gt;&gt;&gt;&gt;&gt;&gt;&gt;&gt;&gt;&gt;&gt;&gt;&gt;&gt;&gt;&gt;&gt;&gt;&gt;&gt;&gt;&gt;&gt;&gt;&gt;&gt;&gt;&gt;&gt;&gt;&gt;&gt;&gt;&gt;&gt;&gt;&gt;&gt;&gt;&gt;&gt;&gt;&gt;&gt;&gt;&gt;&gt;&gt;&gt;&gt;&gt;&gt;&gt;&gt;&gt;&gt;&gt;&gt;&gt;&gt;&gt;&gt;&gt;&gt;&gt;&gt;&gt;&gt;&gt;&gt;&gt;&gt;&gt;&gt;&gt;&gt;&gt;&gt;&gt;&gt;&gt;&gt;&gt;&gt;&gt;&gt;&gt;&gt;&gt;&gt;&gt;&gt;&gt;&gt;&gt;&gt;&gt;&gt;&gt;&gt;&gt;&gt;&gt;&gt;&gt;&gt;&gt;&gt;&gt;&gt;&gt;&gt;&gt;&gt;&gt;&gt;&gt;&gt;&gt;&gt;&gt;&gt;&gt;&gt;&gt;&gt;&gt;&gt;&gt;&gt;&gt;&gt;&gt;&gt;&gt;&gt;&gt;&gt;&gt;&gt;&gt;&gt;&gt;&gt;&gt;&gt;&gt;&gt;&gt;&gt;&gt;&gt;&gt;&gt;&gt;&gt;&gt;&gt;&gt;&gt;&gt;&gt;&gt;&gt;&gt;&gt;&gt;&gt;&gt;&gt;&gt;&gt;&gt;&gt;&gt;&gt;&gt;&gt;&gt;&gt;&gt;&gt;&gt;&gt;&gt;&gt;&gt;&gt;&gt;&gt;&gt;&gt;&gt;&gt;&gt;&gt;&gt;&gt;&gt;&gt;&gt;&gt;&gt;&gt;&gt;&gt;&gt;&gt;&gt;&gt;&gt;&gt;&gt;&gt;&gt;&gt;&gt;&gt;&gt;&gt;&gt;&gt;&gt;&gt;&gt;&gt;&gt;&gt;&gt;&gt;&gt;&gt;&gt;&gt;&gt;&gt;&gt;&gt;&gt;&gt;&gt;&gt;&gt;&gt;&gt;&gt;&gt;&gt;&gt;&gt;&gt;&gt;&gt;&gt;&gt;&gt;&gt;&gt;&gt;&gt;&gt;&gt;&gt;&gt;&gt;&gt;&gt;&gt;&gt;&gt;&gt;&gt;&gt;&gt;&gt;&gt;&gt;&gt;&gt;&gt;&gt;&gt;&gt;&gt;&gt;&gt;&gt;&gt;&gt;&gt;&gt;&gt;&gt;&gt;&gt;&gt;&gt;&gt;&gt;&gt;&gt;&gt;&gt;&gt;&gt;&gt;&gt;&gt;&gt;&gt;&gt;&gt;&gt;&gt;&gt;&gt;&gt;&gt;&gt;&gt;&gt;&gt;&gt;&gt;&gt;&gt;&gt;&gt;&gt;&gt;&gt;&gt;&gt;&gt;&gt;&gt;&gt;&gt;&gt;&gt;&gt;&gt;&gt;&gt;&gt;&gt;&gt;&gt;&gt;&gt;&gt;&gt;&gt;&gt;&gt;&gt;&gt;&gt;&gt;&gt;&gt;&gt;&gt;&gt;&gt;&gt;&gt;&gt;&gt;&gt;&gt;&gt;&gt;&gt;&gt;&gt;&gt;&gt;&gt;&gt;&gt;&gt;&gt;&gt;&gt;&gt;&gt;&gt;&gt;&gt;&gt;&gt;&gt;&gt;&gt;&gt;&gt;&gt;&gt;&gt;&gt;&gt;&gt;&gt;&gt;&gt;&gt;&gt;&gt;&gt;&gt;&gt;&gt;&gt;&gt;&gt;&gt;&gt;&gt;&gt;&gt;&gt;&gt;&gt;&gt;&gt;&gt;&gt;&gt;&gt;&gt;&gt;&gt;&gt;&gt;&gt;&gt;&gt;&gt;&gt;&gt;&gt;&gt;&gt;&gt;&gt;&gt;&gt;&gt;&gt;&gt;&gt;&gt;&gt;&gt;&gt;&gt; Sledgehammer Games'"
      ]
     },
     "execution_count": 155,
     "metadata": {},
     "output_type": "execute_result"
    }
   ],
   "source": [
    "df.body.loc[1067694]"
   ]
  },
  {
   "cell_type": "code",
   "execution_count": 156,
   "metadata": {},
   "outputs": [],
   "source": [
    "df.drop(1067694, axis = 0, inplace = True)"
   ]
  },
  {
   "cell_type": "code",
   "execution_count": 157,
   "metadata": {},
   "outputs": [
    {
     "data": {
      "text/plain": [
       "1392351"
      ]
     },
     "execution_count": 157,
     "metadata": {},
     "output_type": "execute_result"
    }
   ],
   "source": [
    "df.character_count.idxmax()"
   ]
  },
  {
   "cell_type": "code",
   "execution_count": 158,
   "metadata": {},
   "outputs": [
    {
     "data": {
      "text/plain": [
       "\"I'll try to give /u/TreyarchPC some helpful feedback here from my POV as someone who plays this game on PC everyday.\\n\\nThe first issue alot of people have here is the reposting of the console patch notes instead of issuing a specific PC related set of notes. If the reason for this is that the patch itself is identical then this makes sense, however it does not fix the core issue. \\n\\nAs you guys know the PC and Console meta games are widly different when it comes to the positioning of each gun in players personal rankings in terms of balance, knowing this and assuming that this PC patch is identical to the console patch excluding some PC bug fixes, wouldn't it be better to simply wait until you had a PC specific balance patch to roll out before doing any balancing on PC instead of forcing a patch onto the platform which works somewhat in opposite to the meta on that platform? As it stands alot of PC players myself to a lesser extent included are furstrated that this patch was pushed through to PC because of the vastly different state this game is on PC. I understand that changes specific to PC will be comming but to me this approach seems like a strange course of actions given that you could simply have just waited until you the changes ready. Im sure that the majority of players would have been more than welcome to wait longer to have more focused changes implmented instead of this, which we perceive as a rushed fix.\\n\\n\\nAs for the specifics of this patch and what it changes on PC here is a rough statement as to what does and doesn't work here:\\n\\nWhen it comes to ARs on PC alot of us feel that they are roughly where they should be in terms of balance, in that they are strong and fun to use but still fair for the most part, alot of us here on PC would like to see the ARs left mostly alone and instead have the weaker weapons such as some of the SMGs brought up to their level whilst some of the *other* guns which are considered stronger such as the SAUG-9mm be brought down to a similar level so that all of the weapons in this game can compete.\\n\\n- While the ICR-7 is a strong gun on PC as a result of its non-existant recoil on, it does not quite stand out as much as some of the other ARs, personally I would just have increased the reload time and left it at that, although I can see that the gun might be too rewarding for getting headshots given how easy they are to achieve with this weapon, so i'll for the most part if this is what you are going for it looks like a good change to me.\\n\\n\\n- The VAPR. This gun in addition to the Maddox are what many would consider to be on the stronger spectrum of the AR scale. This is as a result of the myriad of strong attatchments that this gun has access to, with the highcal/rapid fire combo being something that works well with this gun. Personally I don't percieve this weapon as over utilised and for the most part it seems fairly balanced. The range nerf seems reasonable as this gun seems to fit the nieche of close-mid range AR, however nerfing its headshot damage doesn't seem like the most player friendly change as I personally believe that you should heavily reward players with good aim instead of peanalising them, however if the reward here is percieved as too much I can understand you toning it down.\\n\\nSMGS:\\nThese guns are in a wierd limbo of either too strong or too weak. With the GKS being perceived as the weakest by many, whilst the SAUG is deemed too strong. I personally would consider the Spitfire to be a solid example of what the SMGs shoud aim to be in terms of balance as for the most part (aside from its operator mod which I personally would like to see be slightly tuned down) it is a solid gun that gives itself to the rush playstyle well.\\n\\n- The MX9 recieved both a buff and a nerf here. The range improvement is a nice change however this gun still struggles to compete with ARs a mid range and It is still dominated at close range by other SMGs AND AR's. I think SMGs like this should be brought to have the advantage at close range with a lower TTK at close range than the ARs yet with a slightly higher TTK at range vs ARs. This is becuase I percieve this gun and the GKS (which I will get to) as a middle of the road SMG that should be able to perform well in close but still hold a candle to the ARs at mid range. \\nBy nerfing Highcal (which I will get to) which I personally saw as a crutch for this weapon that allowed it to somewhat compete with the stronger weapons doesn't help improve this SMG and instead I feel it really works against it. This gun still needs some work before I feel it is where it needs to be.\\n\\n- The coridite change for the most part seems fine, im glad the overheat was increased as that gun fufills a strong nieche in this game. While I feel that it isn't the strongest, it at the same time is in a mostly happy medium for SMGs, im not too sure how I would change this gun futher.\\n\\n- The GKS. This gun needs some love, not nerfs. I was really frustrated when I saw that the Operator mod got slighly nerfed on this gun when the only thing this gun needs (in my view) is a buff. It is worse than the MX9 which itself struggled to compete, because this SMG is modeled to be a strong mid range choice whilst being and SMG which should by name alone mean it can hold its own in CQC. Yet this gun drastically fails in both areas. I see this gun and the MX9 as brothers. They both seem to be middle of the road close-mid range SMGs and I would say that the MX9 should hold the advantage more so in close range due to its fire rate whilst the GKS should be stronger in mid-range fights, potentially going 1-1 with some ARs. Im not saying that these two guns should be copies of ARs as SMG's, however I feel like they really need to compete and making the MX9 a stronger close range gun with the ability to do well mid range, whislt the GKS being a gun that is strong mid range and can work decently close range is the way these two should go. The operator mod on the GKS assuming these sorts of buffs go through should be left alone, not nerfed. Please show this gun some love as I really want to like it but I just can't at this stange.\\n\\n\\n- And now for the problem child. The SAUG-9mm is arguably the strongest gun in the game on PC, up there with the Paladin and the MOG-12. This gun has a reputation of being a no skill gun among the people I play with, and I have had many players get veeeeery frustrated with this weapon. Its not a uncommon thing given the circumstances of a match that if one player is dominating with thse guns that several other players will also switch to use them, creating a SAUG only game that isn't fun for anyone. The accuracy nerf is welcomed, but I think this gun needs alot more tuning especially when it comes to the operator mod. The TTK on the akimbo version is insane and honestly unfair, given that multiplayer is mostly CQC focused, these guns are too strong at what they do, even at some longer ranges. They need to be brough down significantly for them to even start thinking about being balanced. But please note that I don't want to see these/this gun nuked to be useless, just brought down to a fiar level.\\n\\nTac rifles:\\nThese guns are some of my personal favorites yet I think they still need some work to be on the level of ARs.\\n\\n- The ABR-223 or the AUG, is personaly a very wierd gun. Im currently about to hit gold on it and I have a love hate relationship with it, the same goes for the Swordfish. This gun is simply too inconsistant. The spread on the burst is what i'd like to see buffed personally, but lets talk about how it was changed. The range buff and the operator mod change are both welcome personally, as I feel the gun needed it. Im not too sure what to say about the stock nerf because I don't think the attatchment was too strong or too weak personally but i'll roll with the change. The laser sight buff is welcome but the main issue I see with this gun is that im not sure what it is meant to be honestly. I feel like this gun just needs some more consistancy buffs and it should be in an OK spot but we'll see. I welcome the changes here.\\n\\n- The Swordfish. The penta burst change is welcome as I can see that it can potentially be too strong, however once again with the Highcal change... I feel like this gun can struggle sometimes without the Highcal attacthment and by nerfing that attatchment I feel like you are nerfing a gun that only really needs a few minor buffs to be a strong contender in the meta game. I look forward to seeing how you change this gun in the future as it along with the rampart is one of my personaly favorite guns.\\n\\n\\nSnipers:\\n\\nSince im running out of space here as you can see i'll be breif. The changes for the most part are welcome.\\n\\n- The paladin. When the game first came out alot of my friends hated this gun and while I personally think playing against it is workable, I feel it still needs to be dialed back. The change here is a good step.\\n\\n- As for the rest of the snipers I welcome the buffs all around personalyl as I feel these weapons should highly reward skill and by increasing their damage to help compensate for some of these guns short comings or inconsistancy  issues is a change that I welcome with open arms.\\n\\nShotguns:\\n\\n- Im glad the MOG-12s range is being adjusted, because for the most part that is this guns main balance issue. It is out of my 3 strongest weapons, the weakest, so by changin the range a bit (and hopefully dialing the burn dmage on the OPmod down a bit) this gun should be in a nice spot.\\n\\n- The SG12 is a decent gun with an annoying OPmod so I can't say much here.\\n\\nLMGs:\\n\\n- In general these changes are welcome as coming against these guns can somewhat be painful depending on the user. I feel like they will still need some changes (I need to use them more to have a stronger opinion), so I welcome these changes as well.\\n\\nTLDR; Balance still needs some work, ready the specifics here for details.\\n\""
      ]
     },
     "execution_count": 158,
     "metadata": {},
     "output_type": "execute_result"
    }
   ],
   "source": [
    "df.body.loc[1392351]"
   ]
  },
  {
   "cell_type": "code",
   "execution_count": 159,
   "metadata": {},
   "outputs": [
    {
     "data": {
      "text/plain": [
       "952"
      ]
     },
     "execution_count": 159,
     "metadata": {},
     "output_type": "execute_result"
    }
   ],
   "source": [
    "df.character_count.idxmin()"
   ]
  },
  {
   "cell_type": "code",
   "execution_count": 160,
   "metadata": {},
   "outputs": [
    {
     "data": {
      "text/plain": [
       "'W'"
      ]
     },
     "execution_count": 160,
     "metadata": {},
     "output_type": "execute_result"
    }
   ],
   "source": [
    "df['body'].loc[952]"
   ]
  },
  {
   "cell_type": "code",
   "execution_count": 161,
   "metadata": {},
   "outputs": [],
   "source": [
    "df = df[df['character_count'] > 10]"
   ]
  },
  {
   "cell_type": "code",
   "execution_count": 162,
   "metadata": {},
   "outputs": [
    {
     "data": {
      "text/plain": [
       "(1848889, 10)"
      ]
     },
     "execution_count": 162,
     "metadata": {},
     "output_type": "execute_result"
    }
   ],
   "source": [
    "df.shape"
   ]
  },
  {
   "cell_type": "code",
   "execution_count": 163,
   "metadata": {},
   "outputs": [
    {
     "data": {
      "text/plain": [
       "<matplotlib.legend.Legend at 0x180cac320>"
      ]
     },
     "execution_count": 163,
     "metadata": {},
     "output_type": "execute_result"
    },
    {
     "data": {
      "image/png": "[encoded data removed]",
      "text/plain": [
       "<Figure size 1440x720 with 1 Axes>"
      ]
     },
     "metadata": {
      "needs_background": "light"
     },
     "output_type": "display_data"
    }
   ],
   "source": [
    "plt.figure(figsize=(20,10))\n",
    "plt.hist(df['character_count'], \n",
    "#                df[df['subreddit']==1]['title_length']],\n",
    "         bins=100, \n",
    "         color=['#E983BD'], \n",
    "         ec='k')\n",
    "# plt.hist([df[df['subreddit']==0]['title_length'], \n",
    "#                df[df['subreddit']==1]['title_length']],\n",
    "#                bins=15, \n",
    "#                color=['#23E9E3', '#EF9E35'], \n",
    "#                ec='#23E9E3')\n",
    "plt.ylabel('Frequency', fontsize = 30)\n",
    "plt.xlabel('Character Count', fontsize = 30)\n",
    "plt.axvline(df['character_count'].mean(), color = 'lightblue')\n",
    "# plt.axvline(df[df['subreddit']==1]['title_length'].mean(), color = 'blue')\n",
    "plt.title('Character Count Per Comment', fontsize=30)\n",
    "plt.legend(['Mean'], fontsize = 15)\n",
    "# plt.xticks([20,40,60,80,100,120,140,160,180,200,220,240,260,280]);"
   ]
  },
  {
   "cell_type": "code",
   "execution_count": 164,
   "metadata": {},
   "outputs": [
    {
     "data": {
      "text/plain": [
       "<matplotlib.legend.Legend at 0x194f121d0>"
      ]
     },
     "execution_count": 164,
     "metadata": {},
     "output_type": "execute_result"
    },
    {
     "data": {
      "image/png": "[encoded data removed]",
      "text/plain": [
       "<Figure size 1440x720 with 1 Axes>"
      ]
     },
     "metadata": {
      "needs_background": "light"
     },
     "output_type": "display_data"
    }
   ],
   "source": [
    "plt.figure(figsize=(20,10))\n",
    "plt.hist(df['word_count'], \n",
    "#                df[df['subreddit']==1]['title_length']],\n",
    "         bins=100, \n",
    "         color=['#E983BD'], \n",
    "         ec='k')\n",
    "# plt.hist([df[df['subreddit']==0]['title_length'], \n",
    "#                df[df['subreddit']==1]['title_length']],\n",
    "#                bins=15, \n",
    "#                color=['#23E9E3', '#EF9E35'], \n",
    "#                ec='#23E9E3')\n",
    "plt.ylabel('Frequency', fontsize = 30)\n",
    "plt.xlabel('Word Count', fontsize = 30)\n",
    "plt.axvline(df['word_count'].mean(), color = 'lightblue')\n",
    "# plt.axvline(df[df['subreddit']==1]['title_length'].mean(), color = 'blue')\n",
    "plt.title('Word Count Per Comment', fontsize=30)\n",
    "plt.legend(['Mean'], fontsize = 15)\n",
    "# plt.xticks([20,40,60,80,100,120,140,160,180,200,220,240,260,280]);"
   ]
  },
  {
   "cell_type": "code",
   "execution_count": 83,
   "metadata": {},
   "outputs": [],
   "source": [
    "df.body = df.body.str.lower()"
   ]
  },
  {
   "cell_type": "code",
   "execution_count": 171,
   "metadata": {},
   "outputs": [],
   "source": [
    "df['body'] = str(df['body'])"
   ]
  },
  {
   "cell_type": "code",
   "execution_count": 174,
   "metadata": {},
   "outputs": [
    {
     "data": {
      "text/html": [
       "<div>\n",
       "<style scoped>\n",
       "    .dataframe tbody tr th:only-of-type {\n",
       "        vertical-align: middle;\n",
       "    }\n",
       "\n",
       "    .dataframe tbody tr th {\n",
       "        vertical-align: top;\n",
       "    }\n",
       "\n",
       "    .dataframe thead th {\n",
       "        text-align: right;\n",
       "    }\n",
       "</style>\n",
       "<table border=\"1\" class=\"dataframe\">\n",
       "  <thead>\n",
       "    <tr style=\"text-align: right;\">\n",
       "      <th></th>\n",
       "      <th>author</th>\n",
       "      <th>body</th>\n",
       "      <th>created_utc</th>\n",
       "      <th>score</th>\n",
       "      <th>permalink</th>\n",
       "      <th>date</th>\n",
       "      <th>compound</th>\n",
       "      <th>title</th>\n",
       "      <th>character_count</th>\n",
       "      <th>word_count</th>\n",
       "    </tr>\n",
       "  </thead>\n",
       "  <tbody>\n",
       "    <tr>\n",
       "      <th>0</th>\n",
       "      <td>Pikachu-Faroo</td>\n",
       "      <td>0              So they're just gonna ignore th...</td>\n",
       "      <td>1556754911</td>\n",
       "      <td>1</td>\n",
       "      <td>/r/Blackops4/comments/bjn8sm/may_1st_update_ga...</td>\n",
       "      <td>2019-05-01</td>\n",
       "      <td>-0.3612</td>\n",
       "      <td>may_1st_update_gameplay_improvements_bug_fixes</td>\n",
       "      <td>45.0</td>\n",
       "      <td>8</td>\n",
       "    </tr>\n",
       "    <tr>\n",
       "      <th>1</th>\n",
       "      <td>Only-One-Gender</td>\n",
       "      <td>0              So they're just gonna ignore th...</td>\n",
       "      <td>1556754886</td>\n",
       "      <td>1</td>\n",
       "      <td>/r/Blackops4/comments/bjnzy5/this_is_so_damn_s...</td>\n",
       "      <td>2019-05-01</td>\n",
       "      <td>0.2960</td>\n",
       "      <td>this_is_so_damn_satisying</td>\n",
       "      <td>21.0</td>\n",
       "      <td>4</td>\n",
       "    </tr>\n",
       "    <tr>\n",
       "      <th>2</th>\n",
       "      <td>twopumpstump</td>\n",
       "      <td>0              So they're just gonna ignore th...</td>\n",
       "      <td>1556754860</td>\n",
       "      <td>1</td>\n",
       "      <td>/r/Blackops4/comments/bjnzy5/this_is_so_damn_s...</td>\n",
       "      <td>2019-05-01</td>\n",
       "      <td>0.4215</td>\n",
       "      <td>this_is_so_damn_satisying</td>\n",
       "      <td>106.0</td>\n",
       "      <td>22</td>\n",
       "    </tr>\n",
       "    <tr>\n",
       "      <th>3</th>\n",
       "      <td>MoneyMajesty</td>\n",
       "      <td>0              So they're just gonna ignore th...</td>\n",
       "      <td>1556754825</td>\n",
       "      <td>1</td>\n",
       "      <td>/r/Blackops4/comments/bjnygs/if_only_treyarcha...</td>\n",
       "      <td>2019-05-01</td>\n",
       "      <td>-0.4767</td>\n",
       "      <td>if_only_treyarchacti_would_follow_suit_but_i</td>\n",
       "      <td>82.0</td>\n",
       "      <td>18</td>\n",
       "    </tr>\n",
       "    <tr>\n",
       "      <th>4</th>\n",
       "      <td>Slaya420D</td>\n",
       "      <td>0              So they're just gonna ignore th...</td>\n",
       "      <td>1556754821</td>\n",
       "      <td>1</td>\n",
       "      <td>/r/Blackops4/comments/bjo9k6/seriously_this_ga...</td>\n",
       "      <td>2019-05-01</td>\n",
       "      <td>0.0258</td>\n",
       "      <td>seriously_this_game_is_dead</td>\n",
       "      <td>69.0</td>\n",
       "      <td>15</td>\n",
       "    </tr>\n",
       "  </tbody>\n",
       "</table>\n",
       "</div>"
      ],
      "text/plain": [
       "            author                                               body  \\\n",
       "0    Pikachu-Faroo  0              So they're just gonna ignore th...   \n",
       "1  Only-One-Gender  0              So they're just gonna ignore th...   \n",
       "2     twopumpstump  0              So they're just gonna ignore th...   \n",
       "3     MoneyMajesty  0              So they're just gonna ignore th...   \n",
       "4        Slaya420D  0              So they're just gonna ignore th...   \n",
       "\n",
       "   created_utc  score                                          permalink  \\\n",
       "0   1556754911      1  /r/Blackops4/comments/bjn8sm/may_1st_update_ga...   \n",
       "1   1556754886      1  /r/Blackops4/comments/bjnzy5/this_is_so_damn_s...   \n",
       "2   1556754860      1  /r/Blackops4/comments/bjnzy5/this_is_so_damn_s...   \n",
       "3   1556754825      1  /r/Blackops4/comments/bjnygs/if_only_treyarcha...   \n",
       "4   1556754821      1  /r/Blackops4/comments/bjo9k6/seriously_this_ga...   \n",
       "\n",
       "         date  compound                                           title  \\\n",
       "0  2019-05-01   -0.3612  may_1st_update_gameplay_improvements_bug_fixes   \n",
       "1  2019-05-01    0.2960                       this_is_so_damn_satisying   \n",
       "2  2019-05-01    0.4215                       this_is_so_damn_satisying   \n",
       "3  2019-05-01   -0.4767    if_only_treyarchacti_would_follow_suit_but_i   \n",
       "4  2019-05-01    0.0258                     seriously_this_game_is_dead   \n",
       "\n",
       "   character_count  word_count  \n",
       "0             45.0           8  \n",
       "1             21.0           4  \n",
       "2            106.0          22  \n",
       "3             82.0          18  \n",
       "4             69.0          15  "
      ]
     },
     "execution_count": 174,
     "metadata": {},
     "output_type": "execute_result"
    }
   ],
   "source": [
    "df.head()"
   ]
  },
  {
   "cell_type": "code",
   "execution_count": 178,
   "metadata": {},
   "outputs": [
    {
     "data": {
      "text/plain": [
       "'WW2 had 12 dlc maps too\\n\\nI enjoy WMD, and don’t mind “too much” that’s it’s bopass exclusive, other than the fact I need people who have it if I want to party up and play'"
      ]
     },
     "execution_count": 178,
     "metadata": {},
     "output_type": "execute_result"
    }
   ],
   "source": [
    "df['body'].loc[10]"
   ]
  },
  {
   "cell_type": "code",
   "execution_count": 179,
   "metadata": {},
   "outputs": [],
   "source": [
    "df['body'] = df['body'].apply(lambda x: re.sub(r\"(http\\S+)|(\\/u\\/\\S+)|(r\\/\\S+)|(\\\\n\\S+)|(\\^\\S+)|(\\&amp\\S+)|(nbsp\\S+)\", \n",
    "                                               \" \", \n",
    "                                               x))"
   ]
  },
  {
   "cell_type": "code",
   "execution_count": 165,
   "metadata": {},
   "outputs": [],
   "source": [
    "df.to_csv('../data/bo_four_wc_cc_sentiment.csv')"
   ]
  },
  {
   "cell_type": "code",
   "execution_count": 175,
   "metadata": {},
   "outputs": [],
   "source": [
    "df = pd.read_csv('../data/bo_four_wc_cc_sentiment.csv')"
   ]
  },
  {
   "cell_type": "code",
   "execution_count": 176,
   "metadata": {},
   "outputs": [
    {
     "data": {
      "text/html": [
       "<div>\n",
       "<style scoped>\n",
       "    .dataframe tbody tr th:only-of-type {\n",
       "        vertical-align: middle;\n",
       "    }\n",
       "\n",
       "    .dataframe tbody tr th {\n",
       "        vertical-align: top;\n",
       "    }\n",
       "\n",
       "    .dataframe thead th {\n",
       "        text-align: right;\n",
       "    }\n",
       "</style>\n",
       "<table border=\"1\" class=\"dataframe\">\n",
       "  <thead>\n",
       "    <tr style=\"text-align: right;\">\n",
       "      <th></th>\n",
       "      <th>Unnamed: 0</th>\n",
       "      <th>author</th>\n",
       "      <th>body</th>\n",
       "      <th>created_utc</th>\n",
       "      <th>score</th>\n",
       "      <th>permalink</th>\n",
       "      <th>date</th>\n",
       "      <th>compound</th>\n",
       "      <th>title</th>\n",
       "      <th>character_count</th>\n",
       "      <th>word_count</th>\n",
       "    </tr>\n",
       "  </thead>\n",
       "  <tbody>\n",
       "    <tr>\n",
       "      <th>0</th>\n",
       "      <td>0</td>\n",
       "      <td>Pikachu-Faroo</td>\n",
       "      <td>So they're just gonna ignore the Sparrow bug?</td>\n",
       "      <td>1556754911</td>\n",
       "      <td>1</td>\n",
       "      <td>/r/Blackops4/comments/bjn8sm/may_1st_update_ga...</td>\n",
       "      <td>2019-05-01</td>\n",
       "      <td>-0.3612</td>\n",
       "      <td>may_1st_update_gameplay_improvements_bug_fixes</td>\n",
       "      <td>45.0</td>\n",
       "      <td>8</td>\n",
       "    </tr>\n",
       "    <tr>\n",
       "      <th>1</th>\n",
       "      <td>1</td>\n",
       "      <td>Only-One-Gender</td>\n",
       "      <td>Yeah I'm getting them</td>\n",
       "      <td>1556754886</td>\n",
       "      <td>1</td>\n",
       "      <td>/r/Blackops4/comments/bjnzy5/this_is_so_damn_s...</td>\n",
       "      <td>2019-05-01</td>\n",
       "      <td>0.2960</td>\n",
       "      <td>this_is_so_damn_satisying</td>\n",
       "      <td>21.0</td>\n",
       "      <td>4</td>\n",
       "    </tr>\n",
       "    <tr>\n",
       "      <th>2</th>\n",
       "      <td>2</td>\n",
       "      <td>twopumpstump</td>\n",
       "      <td>So you are getting the new stuff? I heard the ...</td>\n",
       "      <td>1556754860</td>\n",
       "      <td>1</td>\n",
       "      <td>/r/Blackops4/comments/bjnzy5/this_is_so_damn_s...</td>\n",
       "      <td>2019-05-01</td>\n",
       "      <td>0.4215</td>\n",
       "      <td>this_is_so_damn_satisying</td>\n",
       "      <td>106.0</td>\n",
       "      <td>22</td>\n",
       "    </tr>\n",
       "    <tr>\n",
       "      <th>3</th>\n",
       "      <td>3</td>\n",
       "      <td>MoneyMajesty</td>\n",
       "      <td>Was just about to say this. The sad thing abou...</td>\n",
       "      <td>1556754825</td>\n",
       "      <td>1</td>\n",
       "      <td>/r/Blackops4/comments/bjnygs/if_only_treyarcha...</td>\n",
       "      <td>2019-05-01</td>\n",
       "      <td>-0.4767</td>\n",
       "      <td>if_only_treyarchacti_would_follow_suit_but_i</td>\n",
       "      <td>82.0</td>\n",
       "      <td>18</td>\n",
       "    </tr>\n",
       "    <tr>\n",
       "      <th>4</th>\n",
       "      <td>4</td>\n",
       "      <td>Slaya420D</td>\n",
       "      <td>*claims the game is dead*\\n\\nI can find a lobb...</td>\n",
       "      <td>1556754821</td>\n",
       "      <td>1</td>\n",
       "      <td>/r/Blackops4/comments/bjo9k6/seriously_this_ga...</td>\n",
       "      <td>2019-05-01</td>\n",
       "      <td>0.0258</td>\n",
       "      <td>seriously_this_game_is_dead</td>\n",
       "      <td>69.0</td>\n",
       "      <td>15</td>\n",
       "    </tr>\n",
       "  </tbody>\n",
       "</table>\n",
       "</div>"
      ],
      "text/plain": [
       "   Unnamed: 0           author  \\\n",
       "0           0    Pikachu-Faroo   \n",
       "1           1  Only-One-Gender   \n",
       "2           2     twopumpstump   \n",
       "3           3     MoneyMajesty   \n",
       "4           4        Slaya420D   \n",
       "\n",
       "                                                body  created_utc  score  \\\n",
       "0      So they're just gonna ignore the Sparrow bug?   1556754911      1   \n",
       "1                              Yeah I'm getting them   1556754886      1   \n",
       "2  So you are getting the new stuff? I heard the ...   1556754860      1   \n",
       "3  Was just about to say this. The sad thing abou...   1556754825      1   \n",
       "4  *claims the game is dead*\\n\\nI can find a lobb...   1556754821      1   \n",
       "\n",
       "                                           permalink        date  compound  \\\n",
       "0  /r/Blackops4/comments/bjn8sm/may_1st_update_ga...  2019-05-01   -0.3612   \n",
       "1  /r/Blackops4/comments/bjnzy5/this_is_so_damn_s...  2019-05-01    0.2960   \n",
       "2  /r/Blackops4/comments/bjnzy5/this_is_so_damn_s...  2019-05-01    0.4215   \n",
       "3  /r/Blackops4/comments/bjnygs/if_only_treyarcha...  2019-05-01   -0.4767   \n",
       "4  /r/Blackops4/comments/bjo9k6/seriously_this_ga...  2019-05-01    0.0258   \n",
       "\n",
       "                                            title  character_count  word_count  \n",
       "0  may_1st_update_gameplay_improvements_bug_fixes             45.0           8  \n",
       "1                       this_is_so_damn_satisying             21.0           4  \n",
       "2                       this_is_so_damn_satisying            106.0          22  \n",
       "3    if_only_treyarchacti_would_follow_suit_but_i             82.0          18  \n",
       "4                     seriously_this_game_is_dead             69.0          15  "
      ]
     },
     "execution_count": 176,
     "metadata": {},
     "output_type": "execute_result"
    }
   ],
   "source": [
    "df.head()"
   ]
  },
  {
   "cell_type": "code",
   "execution_count": 235,
   "metadata": {},
   "outputs": [],
   "source": [
    "from sklearn.feature_extraction.text import CountVectorizer\n",
    "from sklearn.model_selection import train_test_split"
   ]
  },
  {
   "cell_type": "code",
   "execution_count": 236,
   "metadata": {},
   "outputs": [],
   "source": [
    "cvec = CountVectorizer(ngram_range = (1,1), stop_words = 'english')"
   ]
  },
  {
   "cell_type": "code",
   "execution_count": 237,
   "metadata": {},
   "outputs": [],
   "source": [
    "X = bo_four['body']"
   ]
  },
  {
   "cell_type": "code",
   "execution_count": 238,
   "metadata": {},
   "outputs": [
    {
     "data": {
      "text/plain": [
       "CountVectorizer(analyzer='word', binary=False, decode_error='strict',\n",
       "        dtype=<class 'numpy.int64'>, encoding='utf-8', input='content',\n",
       "        lowercase=True, max_df=1.0, max_features=None, min_df=1,\n",
       "        ngram_range=(1, 1), preprocessor=None, stop_words='english',\n",
       "        strip_accents=None, token_pattern='(?u)\\\\b\\\\w\\\\w+\\\\b',\n",
       "        tokenizer=None, vocabulary=None)"
      ]
     },
     "execution_count": 238,
     "metadata": {},
     "output_type": "execute_result"
    }
   ],
   "source": [
    "cvec.fit(X)"
   ]
  },
  {
   "cell_type": "code",
   "execution_count": 239,
   "metadata": {},
   "outputs": [],
   "source": [
    "X_cvec = cvec.transform(X)"
   ]
  },
  {
   "cell_type": "code",
   "execution_count": 247,
   "metadata": {},
   "outputs": [
    {
     "data": {
      "text/plain": [
       "['abilitiesid',\n",
       " 'abilitiesif',\n",
       " 'abilitiesim',\n",
       " 'abilitiesimagine',\n",
       " 'abilitiesin',\n",
       " 'abilitiesit',\n",
       " 'abilitiesitems',\n",
       " 'abilitiesitemsddowndup',\n",
       " 'abilitiesjust',\n",
       " 'abilitieskilling',\n",
       " 'abilitieslike',\n",
       " 'abilitiesmaybe',\n",
       " 'abilitiesmeanwhile',\n",
       " 'abilitiesmm',\n",
       " 'abilitiesmoreso',\n",
       " 'abilitiesmost',\n",
       " 'abilitiesobviously',\n",
       " 'abilitiesof',\n",
       " 'abilitiesoh',\n",
       " 'abilitiesoverrated',\n",
       " 'abilitiespeople',\n",
       " 'abilitiesperks',\n",
       " 'abilitiesperksvehicles',\n",
       " 'abilitiesplaystyle',\n",
       " 'abilitiespointless',\n",
       " 'abilitiespowers',\n",
       " 'abilitiesps',\n",
       " 'abilitiespsi',\n",
       " 'abilitiespulling',\n",
       " 'abilitiesregardless',\n",
       " 'abilitiesreproduction',\n",
       " 'abilitiesruin',\n",
       " 'abilitiesscorestreaks',\n",
       " 'abilitiesscroestreaks',\n",
       " 'abilitiesshrugs',\n",
       " 'abilitiessiege',\n",
       " 'abilitiesskills',\n",
       " 'abilitiesspecialist',\n",
       " 'abilitiesspoken',\n",
       " 'abilitiesstanding',\n",
       " 'abilitiesstick',\n",
       " 'abilitiesstill',\n",
       " 'abilitiesstim',\n",
       " 'abilitiesstreaks',\n",
       " 'abilitiesstrong',\n",
       " 'abilitiessure',\n",
       " 'abilitiesthat',\n",
       " 'abilitiesthats',\n",
       " 'abilitiesthe',\n",
       " 'abilitiesthen']"
      ]
     },
     "execution_count": 247,
     "metadata": {},
     "output_type": "execute_result"
    }
   ],
   "source": [
    "cvec.get_feature_names()[500:550]"
   ]
  },
  {
   "cell_type": "code",
   "execution_count": null,
   "metadata": {},
   "outputs": [],
   "source": [
    "most_common_words = pd.DataFrame(X_cvec.toarray(), \n",
    "                                 columns = X_cvec.get_feature_names()).sum().sort_values(ascending = False)"
   ]
  }
 ],
 "metadata": {
  "kernelspec": {
   "display_name": "Python 3",
   "language": "python",
   "name": "python3"
  },
  "language_info": {
   "codemirror_mode": {
    "name": "ipython",
    "version": 3
   },
   "file_extension": ".py",
   "mimetype": "text/x-python",
   "name": "python",
   "nbconvert_exporter": "python",
   "pygments_lexer": "ipython3",
   "version": "3.7.2"
  }
 },
 "nbformat": 4,
 "nbformat_minor": 2
}
