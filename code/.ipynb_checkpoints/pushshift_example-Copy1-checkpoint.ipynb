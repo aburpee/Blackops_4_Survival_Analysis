{
 "cells": [
  {
   "cell_type": "markdown",
   "metadata": {},
   "source": [
    "# Using the Pushshift API\n",
    "\n",
    "Pushshift is a service that archives and indexes Reddit at regular intervals. It allows for higher-level search functionality and querying for Reddit comments and submissions, facilitating data collection for analysis and modeling. It leverages the requests library to return a json response that can then be parsed for the data of interest.\n",
    "\n",
    "Resources: \n",
    "- Pushshift Endpoints: https://pushshift.io/\n",
    "- Pushshift Documentation: https://github.com/pushshift/api\n",
    "- Pushshift Subreddit: https://www.reddit.com/r/pushshift/comments/89pxra/pushshift_api_with_large_amounts_of_data/\n"
   ]
  },
  {
   "cell_type": "code",
   "execution_count": 4,
   "metadata": {},
   "outputs": [],
   "source": [
    "import requests, time, csv, json, re\n",
    "import pandas as pd"
   ]
  },
  {
   "cell_type": "markdown",
   "metadata": {},
   "source": [
    "## Setting the base query syntax:"
   ]
  },
  {
   "cell_type": "markdown",
   "metadata": {},
   "source": [
    "Setting the query url to the pushshift api"
   ]
  },
  {
   "cell_type": "code",
   "execution_count": 5,
   "metadata": {},
   "outputs": [],
   "source": [
    "url = 'https://api.pushshift.io/reddit/search/'"
   ]
  },
  {
   "cell_type": "markdown",
   "metadata": {},
   "source": [
    "Setting the parameters for the query. A full list of parameters can be found on: https://pushshift.io/api-parameters/"
   ]
  },
  {
   "cell_type": "code",
   "execution_count": 6,
   "metadata": {},
   "outputs": [],
   "source": [
    "params = {'searchType':'submission',\n",
    "          'subreddit':'blackops4',\n",
    "          'sort':'desc',\n",
    "          'size':10,\n",
    "          'before': '10d',\n",
    "          'after': '168d'\n",
    "         }"
   ]
  },
  {
   "cell_type": "markdown",
   "metadata": {},
   "source": [
    "Making the request."
   ]
  },
  {
   "cell_type": "code",
   "execution_count": 7,
   "metadata": {},
   "outputs": [],
   "source": [
    "response = requests.get(url, params=params)"
   ]
  },
  {
   "cell_type": "markdown",
   "metadata": {},
   "source": [
    "Checking the url to make sure the query terms are correct and the server is responsive"
   ]
  },
  {
   "cell_type": "code",
   "execution_count": 8,
   "metadata": {},
   "outputs": [
    {
     "data": {
      "text/plain": [
       "200"
      ]
     },
     "execution_count": 8,
     "metadata": {},
     "output_type": "execute_result"
    }
   ],
   "source": [
    "response.status_code"
   ]
  },
  {
   "cell_type": "markdown",
   "metadata": {},
   "source": [
    "The status code returned from the server is 200, meaning the query was accepted and there aren't any connection issues. Checking length of the json file."
   ]
  },
  {
   "cell_type": "code",
   "execution_count": 9,
   "metadata": {},
   "outputs": [
    {
     "data": {
      "text/plain": [
       "10"
      ]
     },
     "execution_count": 9,
     "metadata": {},
     "output_type": "execute_result"
    }
   ],
   "source": [
    "len(response.json()['data'])"
   ]
  },
  {
   "cell_type": "markdown",
   "metadata": {},
   "source": [
    "Length is 10, as expected. Assessing the file structure for keys of interest."
   ]
  },
  {
   "cell_type": "code",
   "execution_count": 11,
   "metadata": {},
   "outputs": [
    {
     "data": {
      "text/plain": [
       "'Wed Mar 20 01:29:21 2019'"
      ]
     },
     "execution_count": 11,
     "metadata": {},
     "output_type": "execute_result"
    }
   ],
   "source": [
    "\n",
    "time.asctime(time.gmtime(1553045361))"
   ]
  },
  {
   "cell_type": "code",
   "execution_count": 10,
   "metadata": {},
   "outputs": [
    {
     "data": {
      "text/plain": [
       "[{'author': 'CallMeBanjo',\n",
       "  'author_flair_background_color': None,\n",
       "  'author_flair_css_class': None,\n",
       "  'author_flair_richtext': [],\n",
       "  'author_flair_template_id': None,\n",
       "  'author_flair_text': None,\n",
       "  'author_flair_text_color': None,\n",
       "  'author_flair_type': 'text',\n",
       "  'author_fullname': 't2_7kmxj',\n",
       "  'author_patreon_flair': False,\n",
       "  'body': \"Must be one from the Black Market I forgot about, I have all the reserve skins and it's not in there \",\n",
       "  'created_utc': 1553045492,\n",
       "  'gildings': {'gid_1': 0, 'gid_2': 0, 'gid_3': 0},\n",
       "  'id': 'eixdabt',\n",
       "  'link_id': 't3_b34gic',\n",
       "  'no_follow': True,\n",
       "  'parent_id': 't1_eixd6k1',\n",
       "  'permalink': '/r/Blackops4/comments/b34gic/whats_up_with_the_lack_of_unique_outfits_in_this/eixdabt/',\n",
       "  'retrieved_on': 1553045493,\n",
       "  'score': 1,\n",
       "  'send_replies': True,\n",
       "  'stickied': False,\n",
       "  'subreddit': 'Blackops4',\n",
       "  'subreddit_id': 't5_2untl'},\n",
       " {'author': 'nik1_for',\n",
       "  'author_flair_background_color': None,\n",
       "  'author_flair_css_class': None,\n",
       "  'author_flair_richtext': [],\n",
       "  'author_flair_template_id': None,\n",
       "  'author_flair_text': None,\n",
       "  'author_flair_text_color': None,\n",
       "  'author_flair_type': 'text',\n",
       "  'author_fullname': 't2_n1r106n',\n",
       "  'author_patreon_flair': False,\n",
       "  'body': 'My heartbeat the first time when a horde of zombies jumped me in the mansion.',\n",
       "  'created_utc': 1553045444,\n",
       "  'gildings': {'gid_1': 0, 'gid_2': 0, 'gid_3': 0},\n",
       "  'id': 'eixd7zz',\n",
       "  'link_id': 't3_b2w4s0',\n",
       "  'no_follow': True,\n",
       "  'parent_id': 't3_b2w4s0',\n",
       "  'permalink': '/r/Blackops4/comments/b2w4s0/visible_fear/eixd7zz/',\n",
       "  'retrieved_on': 1553045445,\n",
       "  'score': 1,\n",
       "  'send_replies': True,\n",
       "  'stickied': False,\n",
       "  'subreddit': 'Blackops4',\n",
       "  'subreddit_id': 't5_2untl'},\n",
       " {'author': 'FilthyCasualGG',\n",
       "  'author_flair_background_color': None,\n",
       "  'author_flair_css_class': None,\n",
       "  'author_flair_richtext': [],\n",
       "  'author_flair_template_id': None,\n",
       "  'author_flair_text': None,\n",
       "  'author_flair_text_color': None,\n",
       "  'author_flair_type': 'text',\n",
       "  'author_fullname': 't2_kmiow',\n",
       "  'author_patreon_flair': False,\n",
       "  'body': 'I expected this to cost way more and am pleasantly surprised.',\n",
       "  'created_utc': 1553045439,\n",
       "  'gildings': {'gid_1': 0, 'gid_2': 0, 'gid_3': 0},\n",
       "  'id': 'eixd7r4',\n",
       "  'link_id': 't3_b2zwfh',\n",
       "  'no_follow': True,\n",
       "  'parent_id': 't3_b2zwfh',\n",
       "  'permalink': '/r/Blackops4/comments/b2zwfh/the_replacer_is_here_to_win_play_as_the_replacer/eixd7r4/',\n",
       "  'retrieved_on': 1553045440,\n",
       "  'score': 1,\n",
       "  'send_replies': True,\n",
       "  'stickied': False,\n",
       "  'subreddit': 'Blackops4',\n",
       "  'subreddit_id': 't5_2untl'},\n",
       " {'author': 'SubzeroTemps99',\n",
       "  'author_flair_background_color': None,\n",
       "  'author_flair_css_class': None,\n",
       "  'author_flair_richtext': [],\n",
       "  'author_flair_template_id': None,\n",
       "  'author_flair_text': None,\n",
       "  'author_flair_text_color': None,\n",
       "  'author_flair_type': 'text',\n",
       "  'author_fullname': 't2_77sz6ii',\n",
       "  'author_patreon_flair': False,\n",
       "  'body': \"Wait a minute, I've seen a player using Recon that had an outfit where he has a mask on with his hair in a manbun, and he's got a sword like Takeo on his hip. I don't even know what it's called though. The outfit\",\n",
       "  'created_utc': 1553045416,\n",
       "  'gildings': {'gid_1': 0, 'gid_2': 0, 'gid_3': 0},\n",
       "  'id': 'eixd6k1',\n",
       "  'link_id': 't3_b34gic',\n",
       "  'no_follow': True,\n",
       "  'parent_id': 't1_eix484r',\n",
       "  'permalink': '/r/Blackops4/comments/b34gic/whats_up_with_the_lack_of_unique_outfits_in_this/eixd6k1/',\n",
       "  'retrieved_on': 1553045417,\n",
       "  'score': 1,\n",
       "  'send_replies': True,\n",
       "  'stickied': False,\n",
       "  'subreddit': 'Blackops4',\n",
       "  'subreddit_id': 't5_2untl'},\n",
       " {'author': 'Ares2321',\n",
       "  'author_flair_background_color': None,\n",
       "  'author_flair_css_class': None,\n",
       "  'author_flair_richtext': [],\n",
       "  'author_flair_template_id': None,\n",
       "  'author_flair_text': None,\n",
       "  'author_flair_text_color': None,\n",
       "  'author_flair_type': 'text',\n",
       "  'author_fullname': 't2_1m0d4sdk',\n",
       "  'author_patreon_flair': False,\n",
       "  'body': 'They also need to put the Galil in zombies like wtf',\n",
       "  'created_utc': 1553045390,\n",
       "  'gildings': {'gid_1': 0, 'gid_2': 0, 'gid_3': 0},\n",
       "  'id': 'eixd5at',\n",
       "  'link_id': 't3_b342ng',\n",
       "  'no_follow': True,\n",
       "  'parent_id': 't3_b342ng',\n",
       "  'permalink': '/r/Blackops4/comments/b342ng/why_cant_we_put_attachments_on_this_gorgeous/eixd5at/',\n",
       "  'retrieved_on': 1553045391,\n",
       "  'score': 1,\n",
       "  'send_replies': True,\n",
       "  'stickied': False,\n",
       "  'subreddit': 'Blackops4',\n",
       "  'subreddit_id': 't5_2untl'},\n",
       " {'author': 'ColdCaseQuiet',\n",
       "  'author_flair_background_color': None,\n",
       "  'author_flair_css_class': None,\n",
       "  'author_flair_richtext': [],\n",
       "  'author_flair_template_id': None,\n",
       "  'author_flair_text': None,\n",
       "  'author_flair_text_color': None,\n",
       "  'author_flair_type': 'text',\n",
       "  'author_fullname': 't2_1kztoqns',\n",
       "  'author_patreon_flair': False,\n",
       "  'body': 'Just shut up and take my money treyarch!!! I pay them $100 dollars for a scorestreak battle royal. Scorestreaks is my favprite thong about COD.',\n",
       "  'created_utc': 1553045382,\n",
       "  'gildings': {'gid_1': 0, 'gid_2': 0, 'gid_3': 0},\n",
       "  'id': 'eixd4wm',\n",
       "  'link_id': 't3_b351mk',\n",
       "  'no_follow': True,\n",
       "  'parent_id': 't1_eix9rqz',\n",
       "  'permalink': '/r/Blackops4/comments/b351mk/seems_fitting_for_some_people_in_this_sub/eixd4wm/',\n",
       "  'retrieved_on': 1553045383,\n",
       "  'score': 1,\n",
       "  'send_replies': True,\n",
       "  'stickied': False,\n",
       "  'subreddit': 'Blackops4',\n",
       "  'subreddit_id': 't5_2untl'},\n",
       " {'author': 'FilthyCasualGG',\n",
       "  'author_flair_background_color': None,\n",
       "  'author_flair_css_class': None,\n",
       "  'author_flair_richtext': [],\n",
       "  'author_flair_template_id': None,\n",
       "  'author_flair_text': None,\n",
       "  'author_flair_text_color': None,\n",
       "  'author_flair_type': 'text',\n",
       "  'author_fullname': 't2_kmiow',\n",
       "  'author_patreon_flair': False,\n",
       "  'body': 'This is factually incorrect. You can earn Reznov, Mason, Woods, Menendez, and more. These include quests with in-game goals.',\n",
       "  'created_utc': 1553045361,\n",
       "  'gildings': {'gid_1': 0, 'gid_2': 0, 'gid_3': 0},\n",
       "  'id': 'eixd3sl',\n",
       "  'link_id': 't3_b2zwfh',\n",
       "  'no_follow': True,\n",
       "  'parent_id': 't1_eix8447',\n",
       "  'permalink': '/r/Blackops4/comments/b2zwfh/the_replacer_is_here_to_win_play_as_the_replacer/eixd3sl/',\n",
       "  'retrieved_on': 1553045363,\n",
       "  'score': 1,\n",
       "  'send_replies': True,\n",
       "  'stickied': False,\n",
       "  'subreddit': 'Blackops4',\n",
       "  'subreddit_id': 't5_2untl'},\n",
       " {'author': 'Ares2321',\n",
       "  'author_flair_background_color': None,\n",
       "  'author_flair_css_class': None,\n",
       "  'author_flair_richtext': [],\n",
       "  'author_flair_template_id': None,\n",
       "  'author_flair_text': None,\n",
       "  'author_flair_text_color': None,\n",
       "  'author_flair_type': 'text',\n",
       "  'author_fullname': 't2_1m0d4sdk',\n",
       "  'author_patreon_flair': False,\n",
       "  'body': 'Would be so awesome \\n\\n',\n",
       "  'created_utc': 1553045358,\n",
       "  'gildings': {'gid_1': 0, 'gid_2': 0, 'gid_3': 0},\n",
       "  'id': 'eixd3mn',\n",
       "  'link_id': 't3_b342ng',\n",
       "  'no_follow': True,\n",
       "  'parent_id': 't1_eixcoub',\n",
       "  'permalink': '/r/Blackops4/comments/b342ng/why_cant_we_put_attachments_on_this_gorgeous/eixd3mn/',\n",
       "  'retrieved_on': 1553045359,\n",
       "  'score': 1,\n",
       "  'send_replies': True,\n",
       "  'stickied': False,\n",
       "  'subreddit': 'Blackops4',\n",
       "  'subreddit_id': 't5_2untl'},\n",
       " {'author': 'tenaciousB123',\n",
       "  'author_flair_background_color': None,\n",
       "  'author_flair_css_class': None,\n",
       "  'author_flair_richtext': [],\n",
       "  'author_flair_template_id': None,\n",
       "  'author_flair_text': None,\n",
       "  'author_flair_text_color': None,\n",
       "  'author_flair_type': 'text',\n",
       "  'author_fullname': 't2_h8qbx',\n",
       "  'author_patreon_flair': False,\n",
       "  'body': 'Just genuinely curious, do you have copy of the contract between Activision and Treyarch or the employment contracts between Treyarch and their employees? How do you know where the money goes?',\n",
       "  'created_utc': 1553045316,\n",
       "  'gildings': {'gid_1': 0, 'gid_2': 0, 'gid_3': 0},\n",
       "  'id': 'eixd1ia',\n",
       "  'link_id': 't3_b30kzw',\n",
       "  'no_follow': True,\n",
       "  'parent_id': 't1_eix8p6n',\n",
       "  'permalink': '/r/Blackops4/comments/b30kzw/please_do_not_buy_the_replacer_a_message_from/eixd1ia/',\n",
       "  'retrieved_on': 1553045317,\n",
       "  'score': 1,\n",
       "  'send_replies': True,\n",
       "  'stickied': False,\n",
       "  'subreddit': 'Blackops4',\n",
       "  'subreddit_id': 't5_2untl'},\n",
       " {'author': 'KuutenV3',\n",
       "  'author_flair_background_color': None,\n",
       "  'author_flair_css_class': None,\n",
       "  'author_flair_richtext': [],\n",
       "  'author_flair_template_id': None,\n",
       "  'author_flair_text': None,\n",
       "  'author_flair_text_color': None,\n",
       "  'author_flair_type': 'text',\n",
       "  'author_fullname': 't2_1qz2cr4d',\n",
       "  'author_patreon_flair': False,\n",
       "  'body': \"Its a shame they can't put a little extra money into the franchise somehow to try to fix the issues of ping. It makes playing with other players on the other side of the country just miserable when even ninety ping puts you at such a disadvantage. We can only hope that games later on get more server locations or something.\",\n",
       "  'created_utc': 1553045241,\n",
       "  'gildings': {'gid_1': 0, 'gid_2': 0, 'gid_3': 0},\n",
       "  'id': 'eixcxon',\n",
       "  'link_id': 't3_b34m5o',\n",
       "  'no_follow': True,\n",
       "  'parent_id': 't3_b34m5o',\n",
       "  'permalink': '/r/Blackops4/comments/b34m5o/the_hit_registration_is_still_a_problem/eixcxon/',\n",
       "  'retrieved_on': 1553045243,\n",
       "  'score': 1,\n",
       "  'send_replies': True,\n",
       "  'stickied': False,\n",
       "  'subreddit': 'Blackops4',\n",
       "  'subreddit_id': 't5_2untl'}]"
      ]
     },
     "execution_count": 10,
     "metadata": {},
     "output_type": "execute_result"
    }
   ],
   "source": [
    "response.json()['data']"
   ]
  },
  {
   "cell_type": "markdown",
   "metadata": {},
   "source": [
    "Keys of interest are:\n",
    "- author\n",
    "- body\n",
    "- created_utc\n",
    "- link_id\n",
    "- parent_id\n",
    "- permalink\n",
    "- subreddit\n",
    "- subreddit_id"
   ]
  },
  {
   "cell_type": "code",
   "execution_count": 11,
   "metadata": {},
   "outputs": [],
   "source": [
    "col_list = ['author',\n",
    "            'body',\n",
    "            'subreddit',\n",
    "            'subreddit_id',\n",
    "            'created_utc',\n",
    "            'retrieved_on',\n",
    "            'link_id',\n",
    "            'parent_id',\n",
    "            'permalink',\n",
    "            ]"
   ]
  },
  {
   "cell_type": "markdown",
   "metadata": {},
   "source": [
    " ## Querying Reddit and saving raw data in .json format:"
   ]
  },
  {
   "cell_type": "markdown",
   "metadata": {},
   "source": [
    "Writing a function for creating a logfile and formatting file names with a unique timestamp."
   ]
  },
  {
   "cell_type": "code",
   "execution_count": 12,
   "metadata": {},
   "outputs": [],
   "source": [
    "def filename_format_log(file_path, \n",
    "                        logfile = '../assets/file_log.txt', \n",
    "                        now = round(time.time()), \n",
    "                        file_description = None): \n",
    "   \n",
    "    try:\n",
    "        ext = re.search('(?<!^)(?<!\\.)\\.(?!\\.)', file_path).start() \n",
    "    except:\n",
    "        raise NameError('Please enter a relative path with a file extension.') \n",
    "    \n",
    "    stamp = re.search('(?<!^)(?<!\\.)[a-z]+_[a-z]+(?=\\.)', file_path).start()\n",
    "    formatted_name = f'{file_path[:stamp]}{now}_{file_path[stamp:]}'  \n",
    "    if not file_description:\n",
    "        file_description = f'Pull: {time.asctime(time.gmtime(now))}'\n",
    "    with open(logfile, 'a+') as f:\n",
    "        f.write(f'{formatted_name}: {file_description}\\n')\n",
    "    return formatted_name, now, file_description"
   ]
  },
  {
   "cell_type": "markdown",
   "metadata": {},
   "source": [
    "Writing a function for collecting comments and parsing into a dataframe with the features of interest, saving out the raw data for each pull. Request loop inspired: [(Source)](https://www.reddit.com/r/pushshift/comments/89pxra/pushshift_api_with_large_amounts_of_data/)."
   ]
  },
  {
   "cell_type": "code",
   "execution_count": null,
   "metadata": {},
   "outputs": [],
   "source": [
    "def getPushshiftData(sub=None, before=None, after=None, ids=None, getSubmissions=True, getComments=False):\n",
    "    suffix=''\n",
    "    searchType = 'submission'\n",
    "    if getComments or not getSubmissions:\n",
    "        searchType='comment'\n",
    "    if (before is not None):\n",
    "        suffix += '&before='+str(before)\n",
    "    if (after is not None):\n",
    "        suffix += '&after='+str(after)\n",
    "    if (sub is not None):\n",
    "        suffix += '&subreddit='+sub\n",
    "    if (ids is not None):\n",
    "        suffix += '&ids='+','.join(ids)\n",
    "\n",
    "    url = 'https://api.pushshift.io/reddit/search/'+searchType+'?sort=desc&size=1500'+suffix\n",
    "    print('loading '+url)\n",
    "    r = requests.get(url)\n",
    "    data = json.loads(r.content)\n",
    "    if len(data['data']) > 0:\n",
    "        prev_end_date = data['data'][-1]['created_utc']\n",
    "    else:\n",
    "        prev_end_date = None\n",
    "    return (data, prev_end_date)"
   ]
  },
  {
   "cell_type": "code",
   "execution_count": 16,
   "metadata": {},
   "outputs": [],
   "source": [
    "def reddit_query(subreddits, n_samples=1500, searchType='comment', before=None, after=None):\n",
    "    url = f'https://api.pushshift.io/reddit/search/'\n",
    "    last_comment = round(time.time())\n",
    "    comment_list = []\n",
    "    \n",
    "    run = 1\n",
    "    while len(comment_list) < n_samples:\n",
    "        \n",
    "        try:\n",
    "            print(f'Starting query {run}')\n",
    "            \n",
    "            params = {'searchType':searchType,\n",
    "              'subreddit':subreddits,\n",
    "              'sort':'desc',\n",
    "              'size':1000,\n",
    "              'before':last_comment-1,\n",
    "              'after':after,\n",
    "             }\n",
    "                \n",
    "            response = requests.get(url, params = params)\n",
    "            posts = response.json()['data']\n",
    "            \n",
    "            if len(posts) == 0:\n",
    "                last_comment = last_comment\n",
    "            else:\n",
    "                last_comment = posts[-1]['created_utc']\n",
    "                comment_list.extend(posts)\n",
    "                timestamp = posts[-1]['created_utc']\n",
    "                time.sleep(1) \n",
    "                run += 1\n",
    "        except:\n",
    "            if response.status_code != 200:\n",
    "                return f'Check status. Error code: {response.status_code}'\n",
    "            else:\n",
    "                return 'Error. Pull not completed.'\n",
    "    \n",
    "    formatted_name, now, file_description = filename_format_log(file_path =f'../data/raw_{searchType}s.json', now=timestamp)\n",
    "    with open(formatted_name, 'w+') as f:\n",
    "        json.dump(comment_list, f)\n",
    "    \n",
    "    print(f'Saved and completed query and returned {len(comment_list)} {searchType}s.')\n",
    "    print(f'Reddit text is ready for processing.')\n",
    "    return print(f'Last timestamp was {timestamp}.')"
   ]
  },
  {
   "cell_type": "markdown",
   "metadata": {},
   "source": [
    "Using the query function to collect 15 comments from the conservative subreddit."
   ]
  },
  {
   "cell_type": "code",
   "execution_count": 17,
   "metadata": {},
   "outputs": [
    {
     "name": "stdout",
     "output_type": "stream",
     "text": [
      "Starting query 1\n",
      "Saved and completed query and returned 1000 comments.\n",
      "Reddit text is ready for processing.\n",
      "Last timestamp was 1553699454.\n"
     ]
    }
   ],
   "source": [
    "reddit_query(subreddits='conservative',\n",
    "             n_samples=15,\n",
    "             searchType='comment')"
   ]
  },
  {
   "cell_type": "code",
   "execution_count": 18,
   "metadata": {},
   "outputs": [],
   "source": [
    "with open(f'../data/1553699454_raw_comments.json', 'r') as f:\n",
    "    cons_sample_list = json.load(f)"
   ]
  },
  {
   "cell_type": "code",
   "execution_count": 19,
   "metadata": {},
   "outputs": [
    {
     "data": {
      "text/plain": [
       "1000"
      ]
     },
     "execution_count": 19,
     "metadata": {},
     "output_type": "execute_result"
    }
   ],
   "source": [
    "len(cons_sample_list)"
   ]
  },
  {
   "cell_type": "code",
   "execution_count": 20,
   "metadata": {},
   "outputs": [
    {
     "data": {
      "text/plain": [
       "{'author': 'EVG2666',\n",
       " 'author_flair_background_color': '',\n",
       " 'author_flair_css_class': None,\n",
       " 'author_flair_richtext': [{'e': 'text', 't': 'Conservative'}],\n",
       " 'author_flair_template_id': None,\n",
       " 'author_flair_text': 'Conservative',\n",
       " 'author_flair_text_color': 'dark',\n",
       " 'author_flair_type': 'richtext',\n",
       " 'author_fullname': 't2_20w4ohq9',\n",
       " 'author_patreon_flair': False,\n",
       " 'body': 'The average Liberal is a mindless NPC. Even professors who should know better are so gullible. They believe everything they see on CNN. No critical thinking',\n",
       " 'created_utc': 1553728358,\n",
       " 'gildings': {'gid_1': 0, 'gid_2': 0, 'gid_3': 0},\n",
       " 'id': 'ejj7b7y',\n",
       " 'link_id': 't3_b67wys',\n",
       " 'no_follow': True,\n",
       " 'parent_id': 't3_b67wys',\n",
       " 'permalink': '/r/Conservative/comments/b67wys/republicans_more_informed_than_democrats/ejj7b7y/',\n",
       " 'retrieved_on': 1553728360,\n",
       " 'score': 1,\n",
       " 'send_replies': True,\n",
       " 'stickied': False,\n",
       " 'subreddit': 'Conservative',\n",
       " 'subreddit_id': 't5_2qh6p'}"
      ]
     },
     "execution_count": 20,
     "metadata": {},
     "output_type": "execute_result"
    }
   ],
   "source": [
    "cons_sample_list[0]"
   ]
  },
  {
   "cell_type": "markdown",
   "metadata": {},
   "source": [
    "Parsing the json file into a dataframe containing the features of interest."
   ]
  },
  {
   "cell_type": "code",
   "execution_count": 21,
   "metadata": {},
   "outputs": [],
   "source": [
    "def reddit_parse(sample):\n",
    "    \n",
    "    col_list = ['author',\n",
    "                'body',\n",
    "                'subreddit',\n",
    "                'subreddit_id',\n",
    "                'created_utc',\n",
    "                'link_id',\n",
    "                'parent_id',\n",
    "                'permalink',\n",
    "                ]\n",
    "    \n",
    "    comments_df = pd.DataFrame(sample)\n",
    "    comments_df = comments_df[col_list]\n",
    "    \n",
    "    comments_df.rename(columns={'subreddit':'libertarian'}, inplace=True)\n",
    "    comments_df['libertarian'] = comments_df['libertarian'].map({'Conservative':0, 'Libertarian':1})\n",
    "    \n",
    "    col_order = ['author',\n",
    "                 'body',\n",
    "                 'libertarian',\n",
    "                 'created_utc',\n",
    "                 'subreddit_id',\n",
    "                 'parent_id',\n",
    "                 'link_id',\n",
    "                 'permalink',\n",
    "                ]\n",
    "\n",
    "    return comments_df[col_order]"
   ]
  },
  {
   "cell_type": "markdown",
   "metadata": {},
   "source": [
    "Reviewing the shape of the dataframe to ensure correct transformation"
   ]
  },
  {
   "cell_type": "code",
   "execution_count": 24,
   "metadata": {},
   "outputs": [],
   "source": [
    "cons_comments_df = reddit_parse(cons_sample_list)"
   ]
  },
  {
   "cell_type": "code",
   "execution_count": null,
   "metadata": {},
   "outputs": [],
   "source": []
  },
  {
   "cell_type": "code",
   "execution_count": 25,
   "metadata": {},
   "outputs": [
    {
     "data": {
      "text/plain": [
       "(1000, 8)"
      ]
     },
     "execution_count": 25,
     "metadata": {},
     "output_type": "execute_result"
    }
   ],
   "source": [
    "cons_comments_df.shape"
   ]
  },
  {
   "cell_type": "markdown",
   "metadata": {},
   "source": [
    "Shape corresponds with expected values. Reviewing the head of the dataframe to ensure data was correctly labeled. "
   ]
  },
  {
   "cell_type": "code",
   "execution_count": 26,
   "metadata": {},
   "outputs": [
    {
     "data": {
      "text/html": [
       "<div>\n",
       "<style scoped>\n",
       "    .dataframe tbody tr th:only-of-type {\n",
       "        vertical-align: middle;\n",
       "    }\n",
       "\n",
       "    .dataframe tbody tr th {\n",
       "        vertical-align: top;\n",
       "    }\n",
       "\n",
       "    .dataframe thead th {\n",
       "        text-align: right;\n",
       "    }\n",
       "</style>\n",
       "<table border=\"1\" class=\"dataframe\">\n",
       "  <thead>\n",
       "    <tr style=\"text-align: right;\">\n",
       "      <th></th>\n",
       "      <th>author</th>\n",
       "      <th>body</th>\n",
       "      <th>libertarian</th>\n",
       "      <th>created_utc</th>\n",
       "      <th>subreddit_id</th>\n",
       "      <th>parent_id</th>\n",
       "      <th>link_id</th>\n",
       "      <th>permalink</th>\n",
       "    </tr>\n",
       "  </thead>\n",
       "  <tbody>\n",
       "    <tr>\n",
       "      <th>0</th>\n",
       "      <td>EVG2666</td>\n",
       "      <td>The average Liberal is a mindless NPC. Even pr...</td>\n",
       "      <td>0</td>\n",
       "      <td>1553728358</td>\n",
       "      <td>t5_2qh6p</td>\n",
       "      <td>t3_b67wys</td>\n",
       "      <td>t3_b67wys</td>\n",
       "      <td>/r/Conservative/comments/b67wys/republicans_mo...</td>\n",
       "    </tr>\n",
       "    <tr>\n",
       "      <th>1</th>\n",
       "      <td>1iJack23</td>\n",
       "      <td>so that means he can be charged with the crime...</td>\n",
       "      <td>0</td>\n",
       "      <td>1553728316</td>\n",
       "      <td>t5_2qh6p</td>\n",
       "      <td>t3_b68ugv</td>\n",
       "      <td>t3_b68ugv</td>\n",
       "      <td>/r/Conservative/comments/b68ugv/as_if_it_never...</td>\n",
       "    </tr>\n",
       "    <tr>\n",
       "      <th>2</th>\n",
       "      <td>[deleted]</td>\n",
       "      <td>[removed]</td>\n",
       "      <td>0</td>\n",
       "      <td>1553728300</td>\n",
       "      <td>t5_2qh6p</td>\n",
       "      <td>t3_b650hr</td>\n",
       "      <td>t3_b650hr</td>\n",
       "      <td>/r/Conservative/comments/b650hr/funny_how_it_i...</td>\n",
       "    </tr>\n",
       "    <tr>\n",
       "      <th>3</th>\n",
       "      <td>[deleted]</td>\n",
       "      <td>[removed]</td>\n",
       "      <td>0</td>\n",
       "      <td>1553728227</td>\n",
       "      <td>t5_2qh6p</td>\n",
       "      <td>t1_eji7af8</td>\n",
       "      <td>t3_b66klc</td>\n",
       "      <td>/r/Conservative/comments/b66klc/ohio_defunds_p...</td>\n",
       "    </tr>\n",
       "    <tr>\n",
       "      <th>4</th>\n",
       "      <td>mdgolfpro</td>\n",
       "      <td>Mueller's report is bi-partisan and objective....</td>\n",
       "      <td>0</td>\n",
       "      <td>1553728203</td>\n",
       "      <td>t5_2qh6p</td>\n",
       "      <td>t3_b650hr</td>\n",
       "      <td>t3_b650hr</td>\n",
       "      <td>/r/Conservative/comments/b650hr/funny_how_it_i...</td>\n",
       "    </tr>\n",
       "  </tbody>\n",
       "</table>\n",
       "</div>"
      ],
      "text/plain": [
       "      author                                               body  libertarian  \\\n",
       "0    EVG2666  The average Liberal is a mindless NPC. Even pr...            0   \n",
       "1   1iJack23  so that means he can be charged with the crime...            0   \n",
       "2  [deleted]                                          [removed]            0   \n",
       "3  [deleted]                                          [removed]            0   \n",
       "4  mdgolfpro  Mueller's report is bi-partisan and objective....            0   \n",
       "\n",
       "   created_utc subreddit_id   parent_id    link_id  \\\n",
       "0   1553728358     t5_2qh6p   t3_b67wys  t3_b67wys   \n",
       "1   1553728316     t5_2qh6p   t3_b68ugv  t3_b68ugv   \n",
       "2   1553728300     t5_2qh6p   t3_b650hr  t3_b650hr   \n",
       "3   1553728227     t5_2qh6p  t1_eji7af8  t3_b66klc   \n",
       "4   1553728203     t5_2qh6p   t3_b650hr  t3_b650hr   \n",
       "\n",
       "                                           permalink  \n",
       "0  /r/Conservative/comments/b67wys/republicans_mo...  \n",
       "1  /r/Conservative/comments/b68ugv/as_if_it_never...  \n",
       "2  /r/Conservative/comments/b650hr/funny_how_it_i...  \n",
       "3  /r/Conservative/comments/b66klc/ohio_defunds_p...  \n",
       "4  /r/Conservative/comments/b650hr/funny_how_it_i...  "
      ]
     },
     "execution_count": 26,
     "metadata": {},
     "output_type": "execute_result"
    }
   ],
   "source": [
    "cons_comments_df.head()"
   ]
  },
  {
   "cell_type": "code",
   "execution_count": null,
   "metadata": {},
   "outputs": [],
   "source": []
  }
 ],
 "metadata": {
  "kernelspec": {
   "display_name": "Python 3",
   "language": "python",
   "name": "python3"
  },
  "language_info": {
   "codemirror_mode": {
    "name": "ipython",
    "version": 3
   },
   "file_extension": ".py",
   "mimetype": "text/x-python",
   "name": "python",
   "nbconvert_exporter": "python",
   "pygments_lexer": "ipython3",
   "version": "3.7.2"
  }
 },
 "nbformat": 4,
 "nbformat_minor": 2
}
