{
 "cells": [
  {
   "cell_type": "code",
   "execution_count": null,
   "metadata": {},
   "outputs": [],
   "source": []
  },
  {
   "cell_type": "code",
   "execution_count": 47,
   "metadata": {},
   "outputs": [],
   "source": [
    "def getPushshiftData(sub=None, before=None, after=None, ids=None, getSubmissions=True, getComments=False, name = 'blackops'):\n",
    "    suffix=''\n",
    "    searchType = 'submission'\n",
    "    if getComments or not getSubmissions:\n",
    "        searchType='comment'\n",
    "    if (before is not None):\n",
    "        suffix += '&before='+str(before)\n",
    "    if (after is not None):\n",
    "        suffix += '&after='+str(after)\n",
    "    if (sub is not None):\n",
    "        suffix += '&subreddit='+sub\n",
    "    if (ids is not None):\n",
    "        suffix += '&ids='+','.join(ids)\n",
    "\n",
    "    url = 'https://api.pushshift.io/reddit/search/'+searchType+'?sort=desc&size=1500'+suffix\n",
    "    print('loading '+url)\n",
    "    r = requests.get(url)\n",
    "    data = json.loads(r.content)\n",
    "    if len(data['data']) > 0:\n",
    "        prev_end_date = data['data'][-1]['created_utc']\n",
    "    else:\n",
    "        prev_end_date = None\n",
    "    \n",
    "    formatted_name, file_description = filename_format_log(file_path =f'../data/raw_{name}.json')\n",
    "    with open(formatted_name, 'w+') as f:\n",
    "        json.dump(data, f)\n",
    "    return (data, prev_end_date)\n",
    "    \n",
    "    print(f'Saved and completed query and returned {len(data)} {name}s.')\n",
    "    print(f'Yelp text is ready for processing.')\n",
    "    return print(f'Last timestamp was {round(time.time())}.')\n",
    "    "
   ]
  },
  {
   "cell_type": "code",
   "execution_count": 61,
   "metadata": {},
   "outputs": [
    {
     "name": "stdout",
     "output_type": "stream",
     "text": [
      "loading https://api.pushshift.io/reddit/search/comment?sort=desc&size=1500&before=192d&after=193d&subreddit=blackops4\n",
      "loading https://api.pushshift.io/reddit/search/comment?sort=desc&size=1500&before=1539623709&after=193d&subreddit=blackops4\n"
     ]
    },
    {
     "ename": "NameError",
     "evalue": "name 'name' is not defined",
     "output_type": "error",
     "traceback": [
      "\u001b[0;31m---------------------------------------------------------------------------\u001b[0m",
      "\u001b[0;31mNameError\u001b[0m                                 Traceback (most recent call last)",
      "\u001b[0;32m<ipython-input-61-49a8d9a027c5>\u001b[0m in \u001b[0;36m<module>\u001b[0;34m\u001b[0m\n\u001b[1;32m      5\u001b[0m     \u001b[0;32mif\u001b[0m \u001b[0mprev_end_date\u001b[0m \u001b[0;32mis\u001b[0m \u001b[0;32mnot\u001b[0m \u001b[0;32mNone\u001b[0m\u001b[0;34m:\u001b[0m\u001b[0;34m\u001b[0m\u001b[0;34m\u001b[0m\u001b[0m\n\u001b[1;32m      6\u001b[0m         \u001b[0mcomments\u001b[0m\u001b[0;34m.\u001b[0m\u001b[0mextend\u001b[0m\u001b[0;34m(\u001b[0m\u001b[0mcomments_tmp\u001b[0m\u001b[0;34m[\u001b[0m\u001b[0;34m'data'\u001b[0m\u001b[0;34m]\u001b[0m\u001b[0;34m)\u001b[0m\u001b[0;34m\u001b[0m\u001b[0;34m\u001b[0m\u001b[0m\n\u001b[0;32m----> 7\u001b[0;31m     \u001b[0mformatted_name\u001b[0m\u001b[0;34m,\u001b[0m \u001b[0mfile_description\u001b[0m \u001b[0;34m=\u001b[0m \u001b[0mfilename_format_log\u001b[0m\u001b[0;34m(\u001b[0m\u001b[0mfile_path\u001b[0m \u001b[0;34m=\u001b[0m\u001b[0;34mf'../data/raw_{name}.json'\u001b[0m\u001b[0;34m)\u001b[0m\u001b[0;34m\u001b[0m\u001b[0;34m\u001b[0m\u001b[0m\n\u001b[0m\u001b[1;32m      8\u001b[0m     \u001b[0;32mwith\u001b[0m \u001b[0mopen\u001b[0m\u001b[0;34m(\u001b[0m\u001b[0mformatted_name\u001b[0m\u001b[0;34m,\u001b[0m \u001b[0;34m'w+'\u001b[0m\u001b[0;34m)\u001b[0m \u001b[0;32mas\u001b[0m \u001b[0mf\u001b[0m\u001b[0;34m:\u001b[0m\u001b[0;34m\u001b[0m\u001b[0;34m\u001b[0m\u001b[0m\n\u001b[1;32m      9\u001b[0m         \u001b[0mjson\u001b[0m\u001b[0;34m.\u001b[0m\u001b[0mdump\u001b[0m\u001b[0;34m(\u001b[0m\u001b[0mcomments\u001b[0m\u001b[0;34m,\u001b[0m \u001b[0mf\u001b[0m\u001b[0;34m)\u001b[0m\u001b[0;34m\u001b[0m\u001b[0;34m\u001b[0m\u001b[0m\n",
      "\u001b[0;31mNameError\u001b[0m: name 'name' is not defined"
     ]
    }
   ],
   "source": [
    "(comments_tmp, prev_end_date) = getPushshiftData(sub='blackops4', before = '192d', after='193d', getComments=True)\n",
    "comments = comments_tmp['data']\n",
    "while prev_end_date is not None:\n",
    "    (comments_tmp, prev_end_date) = getPushshiftData(sub='blackops4', before=prev_end_date-1, after='193d', getComments=True)\n",
    "    if prev_end_date is not None:\n",
    "        comments.extend(comments_tmp['data'])"
   ]
  }
 ],
 "metadata": {
  "kernelspec": {
   "display_name": "Python 3",
   "language": "python",
   "name": "python3"
  },
  "language_info": {
   "codemirror_mode": {
    "name": "ipython",
    "version": 3
   },
   "file_extension": ".py",
   "mimetype": "text/x-python",
   "name": "python",
   "nbconvert_exporter": "python",
   "pygments_lexer": "ipython3",
   "version": "3.7.2"
  }
 },
 "nbformat": 4,
 "nbformat_minor": 2
}
