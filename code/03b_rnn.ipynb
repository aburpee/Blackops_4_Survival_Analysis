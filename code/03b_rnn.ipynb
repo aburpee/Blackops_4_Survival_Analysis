{
 "cells": [
  {
   "cell_type": "markdown",
   "metadata": {},
   "source": [
    "# Notebook 3b: Modeling with Recurrent Neural Networks\n",
    "\n",
    "For patch updates, I will be using a Reccurent Neural Network to predict when future patches will come out. Neural Networks are black box models, though, so I will not be able to interpret why they are or aren't working. I expect, through trends in sentiment, comment count, and other meta data, as well as usage of my own self vectorized words, that it will predict decently. In an effort to figure out the features that work best, I will be using all of the meta data I created and gathered, the words I vectorized myself, as well as components created using Principal Component Analysis on the 2000 countvectorized features. \n",
    "\n",
    "If the RNN does work as planned, this model can be used as a guide for game companies to track user feedback online in between patches and guide patch updates with respect to how users are feeling about certain aspects of the game at a given time. If there are consistent complaints regarding certain game modes, characters, perks, weapons, etc., the company can focus on fixing these before implementing new things. \n"
   ]
  },
  {
   "cell_type": "code",
   "execution_count": 266,
   "metadata": {},
   "outputs": [],
   "source": [
    "import pandas as pd\n",
    "import numpy as np\n",
    "import matplotlib.pyplot as plt\n",
    "from vaderSentiment.vaderSentiment import SentimentIntensityAnalyzer\n",
    "from sklearn.preprocessing import StandardScaler\n",
    "from sklearn.model_selection import train_test_split\n",
    "from sklearn.metrics import accuracy_score\n",
    "from keras.models import Sequential\n",
    "from keras.layers import Dense, Dropout, GRU, LSTM\n",
    "from keras.optimizers import Adam\n",
    "from keras.preprocessing.sequence import TimeseriesGenerator\n",
    "import keras\n",
    "%matplotlib inline"
   ]
  },
  {
   "cell_type": "code",
   "execution_count": 267,
   "metadata": {},
   "outputs": [],
   "source": [
    "df_daily = pd.read_csv('../data/df_daily.csv', index_col = 'date')"
   ]
  },
  {
   "cell_type": "code",
   "execution_count": 268,
   "metadata": {},
   "outputs": [],
   "source": [
    "df_most_common_words = pd.read_csv('../data/most_common_words_cvec.csv')"
   ]
  },
  {
   "cell_type": "code",
   "execution_count": 269,
   "metadata": {},
   "outputs": [],
   "source": [
    "df_most_common_words.drop('Unnamed: 0', axis = 1, inplace = True)"
   ]
  },
  {
   "cell_type": "markdown",
   "metadata": {},
   "source": [
    "Setting my vectorized index to the dates each word occurred on. "
   ]
  },
  {
   "cell_type": "code",
   "execution_count": 270,
   "metadata": {},
   "outputs": [],
   "source": [
    "df_most_common_words.index = df_daily.index"
   ]
  },
  {
   "cell_type": "code",
   "execution_count": 271,
   "metadata": {},
   "outputs": [],
   "source": [
    "df_daily.index = pd.to_datetime(df_daily.index)"
   ]
  },
  {
   "cell_type": "markdown",
   "metadata": {},
   "source": [
    "## RNN with OP Words"
   ]
  },
  {
   "cell_type": "markdown",
   "metadata": {},
   "source": [
    "Setting my X and y."
   ]
  },
  {
   "cell_type": "code",
   "execution_count": 272,
   "metadata": {},
   "outputs": [
    {
     "data": {
      "text/plain": [
       "0.0    0.91133\n",
       "1.0    0.08867\n",
       "Name: patch_update, dtype: float64"
      ]
     },
     "execution_count": 272,
     "metadata": {},
     "output_type": "execute_result"
    }
   ],
   "source": [
    "df_daily.patch_update.value_counts(normalize = True)"
   ]
  },
  {
   "cell_type": "code",
   "execution_count": 273,
   "metadata": {},
   "outputs": [
    {
     "data": {
      "text/html": [
       "<div>\n",
       "<style scoped>\n",
       "    .dataframe tbody tr th:only-of-type {\n",
       "        vertical-align: middle;\n",
       "    }\n",
       "\n",
       "    .dataframe tbody tr th {\n",
       "        vertical-align: top;\n",
       "    }\n",
       "\n",
       "    .dataframe thead th {\n",
       "        text-align: right;\n",
       "    }\n",
       "</style>\n",
       "<table border=\"1\" class=\"dataframe\">\n",
       "  <thead>\n",
       "    <tr style=\"text-align: right;\">\n",
       "      <th></th>\n",
       "      <th>score</th>\n",
       "      <th>compound</th>\n",
       "      <th>character_count</th>\n",
       "      <th>word_count</th>\n",
       "      <th>interaction_score_compound</th>\n",
       "      <th>count_comments</th>\n",
       "      <th>op</th>\n",
       "      <th>nerf</th>\n",
       "      <th>perk</th>\n",
       "      <th>over</th>\n",
       "      <th>...</th>\n",
       "      <th>quit</th>\n",
       "      <th>auto</th>\n",
       "      <th>noob</th>\n",
       "      <th>range</th>\n",
       "      <th>rate</th>\n",
       "      <th>fire</th>\n",
       "      <th>compound_sum</th>\n",
       "      <th>unique_authors</th>\n",
       "      <th>interaction_sum</th>\n",
       "      <th>comment_count</th>\n",
       "    </tr>\n",
       "    <tr>\n",
       "      <th>date</th>\n",
       "      <th></th>\n",
       "      <th></th>\n",
       "      <th></th>\n",
       "      <th></th>\n",
       "      <th></th>\n",
       "      <th></th>\n",
       "      <th></th>\n",
       "      <th></th>\n",
       "      <th></th>\n",
       "      <th></th>\n",
       "      <th></th>\n",
       "      <th></th>\n",
       "      <th></th>\n",
       "      <th></th>\n",
       "      <th></th>\n",
       "      <th></th>\n",
       "      <th></th>\n",
       "      <th></th>\n",
       "      <th></th>\n",
       "      <th></th>\n",
       "      <th></th>\n",
       "    </tr>\n",
       "  </thead>\n",
       "  <tbody>\n",
       "    <tr>\n",
       "      <th>2018-10-11</th>\n",
       "      <td>44081</td>\n",
       "      <td>0.179693</td>\n",
       "      <td>1358543.0</td>\n",
       "      <td>256354</td>\n",
       "      <td>0.603192</td>\n",
       "      <td>11418</td>\n",
       "      <td>572.0</td>\n",
       "      <td>23.0</td>\n",
       "      <td>28.0</td>\n",
       "      <td>408.0</td>\n",
       "      <td>...</td>\n",
       "      <td>61.0</td>\n",
       "      <td>39.0</td>\n",
       "      <td>29.0</td>\n",
       "      <td>37.0</td>\n",
       "      <td>143.0</td>\n",
       "      <td>59.0</td>\n",
       "      <td>2051.7369</td>\n",
       "      <td>4237</td>\n",
       "      <td>6887.2453</td>\n",
       "      <td>11418</td>\n",
       "    </tr>\n",
       "    <tr>\n",
       "      <th>2018-10-12</th>\n",
       "      <td>70759</td>\n",
       "      <td>0.143451</td>\n",
       "      <td>2415905.0</td>\n",
       "      <td>454034</td>\n",
       "      <td>0.511025</td>\n",
       "      <td>19114</td>\n",
       "      <td>1294.0</td>\n",
       "      <td>68.0</td>\n",
       "      <td>128.0</td>\n",
       "      <td>675.0</td>\n",
       "      <td>...</td>\n",
       "      <td>146.0</td>\n",
       "      <td>79.0</td>\n",
       "      <td>29.0</td>\n",
       "      <td>167.0</td>\n",
       "      <td>341.0</td>\n",
       "      <td>173.0</td>\n",
       "      <td>2741.9244</td>\n",
       "      <td>8202</td>\n",
       "      <td>9767.7377</td>\n",
       "      <td>19114</td>\n",
       "    </tr>\n",
       "    <tr>\n",
       "      <th>2018-10-13</th>\n",
       "      <td>66467</td>\n",
       "      <td>0.095393</td>\n",
       "      <td>2288630.0</td>\n",
       "      <td>431604</td>\n",
       "      <td>0.229019</td>\n",
       "      <td>15688</td>\n",
       "      <td>1148.0</td>\n",
       "      <td>140.0</td>\n",
       "      <td>126.0</td>\n",
       "      <td>652.0</td>\n",
       "      <td>...</td>\n",
       "      <td>147.0</td>\n",
       "      <td>99.0</td>\n",
       "      <td>33.0</td>\n",
       "      <td>352.0</td>\n",
       "      <td>348.0</td>\n",
       "      <td>225.0</td>\n",
       "      <td>1496.5304</td>\n",
       "      <td>7089</td>\n",
       "      <td>3592.8498</td>\n",
       "      <td>15688</td>\n",
       "    </tr>\n",
       "    <tr>\n",
       "      <th>2018-10-14</th>\n",
       "      <td>65811</td>\n",
       "      <td>0.078420</td>\n",
       "      <td>2568833.0</td>\n",
       "      <td>484629</td>\n",
       "      <td>0.171104</td>\n",
       "      <td>17227</td>\n",
       "      <td>1308.0</td>\n",
       "      <td>181.0</td>\n",
       "      <td>133.0</td>\n",
       "      <td>743.0</td>\n",
       "      <td>...</td>\n",
       "      <td>165.0</td>\n",
       "      <td>90.0</td>\n",
       "      <td>49.0</td>\n",
       "      <td>390.0</td>\n",
       "      <td>427.0</td>\n",
       "      <td>359.0</td>\n",
       "      <td>1350.9338</td>\n",
       "      <td>7771</td>\n",
       "      <td>2947.6086</td>\n",
       "      <td>17227</td>\n",
       "    </tr>\n",
       "    <tr>\n",
       "      <th>2018-10-15</th>\n",
       "      <td>79944</td>\n",
       "      <td>0.079358</td>\n",
       "      <td>3053849.0</td>\n",
       "      <td>575691</td>\n",
       "      <td>0.115871</td>\n",
       "      <td>19823</td>\n",
       "      <td>1524.0</td>\n",
       "      <td>174.0</td>\n",
       "      <td>203.0</td>\n",
       "      <td>898.0</td>\n",
       "      <td>...</td>\n",
       "      <td>200.0</td>\n",
       "      <td>120.0</td>\n",
       "      <td>55.0</td>\n",
       "      <td>448.0</td>\n",
       "      <td>507.0</td>\n",
       "      <td>462.0</td>\n",
       "      <td>1573.1210</td>\n",
       "      <td>8220</td>\n",
       "      <td>2296.9086</td>\n",
       "      <td>19823</td>\n",
       "    </tr>\n",
       "  </tbody>\n",
       "</table>\n",
       "<p>5 rows × 34 columns</p>\n",
       "</div>"
      ],
      "text/plain": [
       "            score  compound  character_count  word_count  \\\n",
       "date                                                       \n",
       "2018-10-11  44081  0.179693        1358543.0      256354   \n",
       "2018-10-12  70759  0.143451        2415905.0      454034   \n",
       "2018-10-13  66467  0.095393        2288630.0      431604   \n",
       "2018-10-14  65811  0.078420        2568833.0      484629   \n",
       "2018-10-15  79944  0.079358        3053849.0      575691   \n",
       "\n",
       "            interaction_score_compound  count_comments      op   nerf   perk  \\\n",
       "date                                                                           \n",
       "2018-10-11                    0.603192           11418   572.0   23.0   28.0   \n",
       "2018-10-12                    0.511025           19114  1294.0   68.0  128.0   \n",
       "2018-10-13                    0.229019           15688  1148.0  140.0  126.0   \n",
       "2018-10-14                    0.171104           17227  1308.0  181.0  133.0   \n",
       "2018-10-15                    0.115871           19823  1524.0  174.0  203.0   \n",
       "\n",
       "             over  ...   quit   auto  noob  range   rate   fire  compound_sum  \\\n",
       "date               ...                                                          \n",
       "2018-10-11  408.0  ...   61.0   39.0  29.0   37.0  143.0   59.0     2051.7369   \n",
       "2018-10-12  675.0  ...  146.0   79.0  29.0  167.0  341.0  173.0     2741.9244   \n",
       "2018-10-13  652.0  ...  147.0   99.0  33.0  352.0  348.0  225.0     1496.5304   \n",
       "2018-10-14  743.0  ...  165.0   90.0  49.0  390.0  427.0  359.0     1350.9338   \n",
       "2018-10-15  898.0  ...  200.0  120.0  55.0  448.0  507.0  462.0     1573.1210   \n",
       "\n",
       "            unique_authors  interaction_sum  comment_count  \n",
       "date                                                        \n",
       "2018-10-11            4237        6887.2453          11418  \n",
       "2018-10-12            8202        9767.7377          19114  \n",
       "2018-10-13            7089        3592.8498          15688  \n",
       "2018-10-14            7771        2947.6086          17227  \n",
       "2018-10-15            8220        2296.9086          19823  \n",
       "\n",
       "[5 rows x 34 columns]"
      ]
     },
     "execution_count": 273,
     "metadata": {},
     "output_type": "execute_result"
    }
   ],
   "source": [
    "X = df_daily.drop(columns = ['patch_update', 'created_utc', 'body'])\n",
    "X.head()"
   ]
  },
  {
   "cell_type": "code",
   "execution_count": 274,
   "metadata": {},
   "outputs": [],
   "source": [
    "y = df_daily['patch_update']"
   ]
  },
  {
   "cell_type": "markdown",
   "metadata": {},
   "source": [
    "Train test splitting my data so I can train my model and check how well it works on the validation set. I will be setting 'shuffle' to False because I am using timeseries data and want my split to be after 75% of the dataset, not a random 75% of the dataset. "
   ]
  },
  {
   "cell_type": "markdown",
   "metadata": {},
   "source": [
    "Setting my y variable to a categorical numpy array. "
   ]
  },
  {
   "cell_type": "code",
   "execution_count": 275,
   "metadata": {},
   "outputs": [],
   "source": [
    "#y = keras.utils.to_categorical(y, num_classes=None, dtype='float32')"
   ]
  },
  {
   "cell_type": "code",
   "execution_count": 276,
   "metadata": {},
   "outputs": [],
   "source": [
    "X_train, X_test, y_train, y_test = train_test_split(X,\n",
    "                                                    y,\n",
    "                                                    shuffle = False,\n",
    "                                                    random_state = 13)"
   ]
  },
  {
   "cell_type": "markdown",
   "metadata": {},
   "source": [
    "Scaling my data. It is necessary for my RNN model. "
   ]
  },
  {
   "cell_type": "code",
   "execution_count": 277,
   "metadata": {},
   "outputs": [
    {
     "name": "stderr",
     "output_type": "stream",
     "text": [
      "/Users/adamburpee/anaconda3/lib/python3.7/site-packages/sklearn/preprocessing/data.py:645: DataConversionWarning: Data with input dtype int64, float64 were all converted to float64 by StandardScaler.\n",
      "  return self.partial_fit(X, y)\n",
      "/Users/adamburpee/anaconda3/lib/python3.7/site-packages/sklearn/base.py:464: DataConversionWarning: Data with input dtype int64, float64 were all converted to float64 by StandardScaler.\n",
      "  return self.fit(X, **fit_params).transform(X)\n",
      "/Users/adamburpee/anaconda3/lib/python3.7/site-packages/ipykernel_launcher.py:3: DataConversionWarning: Data with input dtype int64, float64 were all converted to float64 by StandardScaler.\n",
      "  This is separate from the ipykernel package so we can avoid doing imports until\n"
     ]
    }
   ],
   "source": [
    "ss = StandardScaler()\n",
    "X_train_sc = ss.fit_transform(X_train)\n",
    "X_test_sc = ss.transform(X_test)"
   ]
  },
  {
   "cell_type": "markdown",
   "metadata": {},
   "source": [
    "Setting my train and test sequences. I played around with the length and batch size and this seems to be the combination that works the best. I am setting my testing batch size to 50 because there aren't 100 samples in the testing set. "
   ]
  },
  {
   "cell_type": "code",
   "execution_count": 278,
   "metadata": {},
   "outputs": [],
   "source": [
    "train_sequences = TimeseriesGenerator(X_train_sc,\n",
    "                                      y_train,\n",
    "                                      length = 7,\n",
    "                                      batch_size = 100)"
   ]
  },
  {
   "cell_type": "code",
   "execution_count": 279,
   "metadata": {},
   "outputs": [],
   "source": [
    "test_sequences = TimeseriesGenerator(X_test_sc, \n",
    "                                     y_test,\n",
    "                                     length = 7,\n",
    "                                     batch_size = 50)"
   ]
  },
  {
   "cell_type": "code",
   "execution_count": 280,
   "metadata": {},
   "outputs": [
    {
     "data": {
      "text/plain": [
       "(152, 34)"
      ]
     },
     "execution_count": 280,
     "metadata": {},
     "output_type": "execute_result"
    }
   ],
   "source": [
    "X_train.shape"
   ]
  },
  {
   "cell_type": "markdown",
   "metadata": {},
   "source": [
    "Instantiating my model."
   ]
  },
  {
   "cell_type": "code",
   "execution_count": 281,
   "metadata": {},
   "outputs": [],
   "source": [
    "model = Sequential()\n"
   ]
  },
  {
   "cell_type": "markdown",
   "metadata": {},
   "source": [
    "I am using an input GRU layer, with 4 hidden layers, one of which is a dropout layer. I messed around with different different node numbers, and these seemed to work well. The standard is to use powers of 2, but I found that 36 on my first hidden layer worked well. I will be using relu activation for my hidden layers, and a sigmoid activation for my output. This will be standard throughout the notebook."
   ]
  },
  {
   "cell_type": "code",
   "execution_count": 282,
   "metadata": {},
   "outputs": [],
   "source": [
    "model.add(GRU(32,\n",
    "              input_shape = (7,34),\n",
    "              return_sequences = True))\n",
    "\n",
    "model.add(GRU(36,\n",
    "              return_sequences = False))\n",
    "\n",
    "# model.add(GRU(18,\n",
    "#               return_sequences = False))\n",
    "\n",
    "model.add(Dense(16,\n",
    "                activation = 'relu'))\n",
    "\n",
    "model.add(Dropout(0.5))\n",
    "\n",
    "model.add(Dense(16,\n",
    "                activation = 'relu'))\n",
    "\n",
    "#model.add(Dropout(0.5))\n",
    "\n",
    "model.add(Dense(1,\n",
    "                activation = 'sigmoid'))"
   ]
  },
  {
   "cell_type": "markdown",
   "metadata": {},
   "source": [
    "Compiling my model with a binary_crossentropy loss function because I am dealing with binary classification. "
   ]
  },
  {
   "cell_type": "code",
   "execution_count": 283,
   "metadata": {},
   "outputs": [],
   "source": [
    "model.compile(loss = 'binary_crossentropy',\n",
    "#               optimizer = 'sgd',\n",
    "              optimizer = Adam(lr = .0006),\n",
    "              metrics = ['accuracy'])"
   ]
  },
  {
   "cell_type": "markdown",
   "metadata": {},
   "source": [
    "Fitting and generating my results. I will be focusing on accuracy, as I am most concerned with optimizing when my predictions are correct. I am not focused on false positives or false negatives for this analysis. "
   ]
  },
  {
   "cell_type": "code",
   "execution_count": 284,
   "metadata": {},
   "outputs": [
    {
     "name": "stdout",
     "output_type": "stream",
     "text": [
      "Epoch 1/25\n",
      "2/2 [==============================] - 8s 4s/step - loss: 0.6559 - acc: 0.7600 - val_loss: 0.6093 - val_acc: 0.8636\n",
      "Epoch 2/25\n",
      "2/2 [==============================] - 0s 18ms/step - loss: 0.6367 - acc: 0.7978 - val_loss: 0.5833 - val_acc: 0.8636\n",
      "Epoch 3/25\n",
      "2/2 [==============================] - 0s 62ms/step - loss: 0.6143 - acc: 0.8204 - val_loss: 0.5565 - val_acc: 0.8636\n",
      "Epoch 4/25\n",
      "2/2 [==============================] - 0s 48ms/step - loss: 0.5821 - acc: 0.8582 - val_loss: 0.5314 - val_acc: 0.8636\n",
      "Epoch 5/25\n",
      "2/2 [==============================] - 0s 50ms/step - loss: 0.5555 - acc: 0.8623 - val_loss: 0.5077 - val_acc: 0.8636\n",
      "Epoch 6/25\n",
      "2/2 [==============================] - 0s 53ms/step - loss: 0.5458 - acc: 0.9017 - val_loss: 0.4831 - val_acc: 0.8636\n",
      "Epoch 7/25\n",
      "2/2 [==============================] - 0s 57ms/step - loss: 0.5372 - acc: 0.8961 - val_loss: 0.4637 - val_acc: 0.8636\n",
      "Epoch 8/25\n",
      "2/2 [==============================] - 0s 52ms/step - loss: 0.5141 - acc: 0.9074 - val_loss: 0.4477 - val_acc: 0.8636\n",
      "Epoch 9/25\n",
      "2/2 [==============================] - 0s 50ms/step - loss: 0.4628 - acc: 0.9186 - val_loss: 0.4331 - val_acc: 0.8636\n",
      "Epoch 10/25\n",
      "2/2 [==============================] - 0s 53ms/step - loss: 0.4612 - acc: 0.9074 - val_loss: 0.4208 - val_acc: 0.8636\n",
      "Epoch 11/25\n",
      "2/2 [==============================] - 0s 49ms/step - loss: 0.4429 - acc: 0.8961 - val_loss: 0.4122 - val_acc: 0.8636\n",
      "Epoch 12/25\n",
      "2/2 [==============================] - 0s 52ms/step - loss: 0.4218 - acc: 0.9243 - val_loss: 0.4058 - val_acc: 0.8636\n",
      "Epoch 13/25\n",
      "2/2 [==============================] - 0s 51ms/step - loss: 0.4751 - acc: 0.9243 - val_loss: 0.4021 - val_acc: 0.8636\n",
      "Epoch 14/25\n",
      "2/2 [==============================] - 0s 53ms/step - loss: 0.4015 - acc: 0.9299 - val_loss: 0.4002 - val_acc: 0.8636\n",
      "Epoch 15/25\n",
      "2/2 [==============================] - 0s 51ms/step - loss: 0.4233 - acc: 0.9299 - val_loss: 0.4000 - val_acc: 0.8636\n",
      "Epoch 16/25\n",
      "2/2 [==============================] - 0s 52ms/step - loss: 0.3922 - acc: 0.9355 - val_loss: 0.4014 - val_acc: 0.8636\n",
      "Epoch 17/25\n",
      "2/2 [==============================] - 0s 53ms/step - loss: 0.3991 - acc: 0.9299 - val_loss: 0.4041 - val_acc: 0.8636\n",
      "Epoch 18/25\n",
      "2/2 [==============================] - 0s 56ms/step - loss: 0.4682 - acc: 0.9299 - val_loss: 0.4074 - val_acc: 0.8636\n",
      "Epoch 19/25\n",
      "2/2 [==============================] - 0s 50ms/step - loss: 0.3794 - acc: 0.9355 - val_loss: 0.4116 - val_acc: 0.8636\n",
      "Epoch 20/25\n",
      "2/2 [==============================] - 0s 49ms/step - loss: 0.3323 - acc: 0.9355 - val_loss: 0.4168 - val_acc: 0.8636\n",
      "Epoch 21/25\n",
      "2/2 [==============================] - 0s 53ms/step - loss: 0.3671 - acc: 0.9355 - val_loss: 0.4223 - val_acc: 0.8636\n",
      "Epoch 22/25\n",
      "2/2 [==============================] - 0s 51ms/step - loss: 0.3683 - acc: 0.9355 - val_loss: 0.4278 - val_acc: 0.8636\n",
      "Epoch 23/25\n",
      "2/2 [==============================] - 0s 55ms/step - loss: 0.3625 - acc: 0.9355 - val_loss: 0.4336 - val_acc: 0.8636\n",
      "Epoch 24/25\n",
      "2/2 [==============================] - 0s 50ms/step - loss: 0.3719 - acc: 0.9355 - val_loss: 0.4391 - val_acc: 0.8636\n",
      "Epoch 25/25\n",
      "2/2 [==============================] - 0s 52ms/step - loss: 0.3362 - acc: 0.9355 - val_loss: 0.4445 - val_acc: 0.8636\n"
     ]
    }
   ],
   "source": [
    "history = model.fit_generator(train_sequences,\n",
    "                              epochs = 25,\n",
    "                              validation_data = test_sequences,\n",
    "                              verbose = 1)"
   ]
  },
  {
   "cell_type": "markdown",
   "metadata": {},
   "source": [
    "Examining the ratio of target class to non target class in the training and testing sets to compare my accuracy against. "
   ]
  },
  {
   "cell_type": "code",
   "execution_count": 285,
   "metadata": {},
   "outputs": [
    {
     "data": {
      "text/plain": [
       "0.0    0.843137\n",
       "1.0    0.156863\n",
       "Name: patch_update, dtype: float64"
      ]
     },
     "execution_count": 285,
     "metadata": {},
     "output_type": "execute_result"
    }
   ],
   "source": [
    "y_test.value_counts(normalize = True)"
   ]
  },
  {
   "cell_type": "code",
   "execution_count": 286,
   "metadata": {},
   "outputs": [
    {
     "data": {
      "text/plain": [
       "0.0    0.934211\n",
       "1.0    0.065789\n",
       "Name: patch_update, dtype: float64"
      ]
     },
     "execution_count": 286,
     "metadata": {},
     "output_type": "execute_result"
    }
   ],
   "source": [
    "y_train.value_counts(normalize = True)"
   ]
  },
  {
   "cell_type": "markdown",
   "metadata": {},
   "source": [
    "This model is predicting patch days based on data like comment count, number of unique commenters, mean sentiment score, word count, character count, etc. \n",
    "\n",
    "Looking at the final epoch in my RNN model, we can see that the training loss settles around 47% and the validation loss settles around 40%. The more important metric, for the purpose of this project, is the accuracy, though. I want to know all of the positive results out of all of the results. In my training data, my model's accuracy sits right at the baseline 93.4%, while my validation accuracy improves upon the baseline by 2%, which is important to note that it isn't just predicting the distribution of the zero class. The improvement is marginal, and I am inclined to accept that this is a null result, meaning there isn't enough signal in my data to correctly predict patch dates based on meta data on reddit. The class imbalance may be too severe for the model to find any features of importance in the patch date rows. "
   ]
  },
  {
   "cell_type": "code",
   "execution_count": 287,
   "metadata": {},
   "outputs": [],
   "source": [
    "# plt.figure(figsize = (20,10))\n",
    "# plt.title('Train and Test Loss RNN', fontsize = 30)\n",
    "# plt.plot(history.history['loss'], label = 'Training Loss', c = 'C0')\n",
    "# plt.plot(history.history['val_loss'], label = 'Test Loss', c = 'C1')\n",
    "# plt.xlabel('Epochs', fontsize = 25)\n",
    "# plt.ylabel('Loss', fontsize = 25)\n",
    "# plt.xticks(fontsize = 20)\n",
    "# plt.yticks(fontsize = 20)\n",
    "# plt.legend();"
   ]
  },
  {
   "cell_type": "markdown",
   "metadata": {},
   "source": [
    "Plotting out the Accuracy graph. "
   ]
  },
  {
   "cell_type": "code",
   "execution_count": 288,
   "metadata": {},
   "outputs": [
    {
     "data": {
      "image/png": "[encoded data removed]",
      "text/plain": [
       "<Figure size 1440x720 with 1 Axes>"
      ]
     },
     "metadata": {
      "needs_background": "light"
     },
     "output_type": "display_data"
    }
   ],
   "source": [
    "plt.figure(figsize = (20,10))\n",
    "plt.title('Train and Test Accuracy RNN', fontsize = 30)\n",
    "plt.plot(history.history['acc'], label = 'Train Accuracy', c = 'C0')\n",
    "plt.plot(history.history['val_acc'], label = 'Test Accuracy', c = '#E983BD')\n",
    "plt.xlabel('Epochs', fontsize = 25)\n",
    "plt.ylabel('Accuracy', fontsize = 25)\n",
    "plt.xticks(fontsize = 20)\n",
    "plt.yticks(fontsize = 20)\n",
    "plt.legend(fontsize = 20);"
   ]
  },
  {
   "cell_type": "markdown",
   "metadata": {},
   "source": [
    "We can see that the testing accuracy hits its peak almost immediately, while the training accuracy hits a local maximum, then dips, reaches its maximum, and then settles right around 94%. "
   ]
  },
  {
   "cell_type": "code",
   "execution_count": 289,
   "metadata": {},
   "outputs": [
    {
     "data": {
      "text/plain": [
       "[<matplotlib.lines.Line2D at 0x1a2f11dcf8>]"
      ]
     },
     "execution_count": 289,
     "metadata": {},
     "output_type": "execute_result"
    },
    {
     "data": {
      "image/png": "[encoded data removed]",
      "text/plain": [
       "<Figure size 432x288 with 1 Axes>"
      ]
     },
     "metadata": {
      "needs_background": "light"
     },
     "output_type": "display_data"
    }
   ],
   "source": [
    "plt.plot(model.predict_generator(train_sequences)[:,0])"
   ]
  },
  {
   "cell_type": "markdown",
   "metadata": {},
   "source": [
    "Looking at the predictive probabilities, we can see that they never reach .5, which means it never predicts that a patch will be released. It gets close, but ultimately there isn't enough signal to push it past the 50% probability mark. The strongest signal is up until 60 days, when it drops off significantly and the model begins to break down. "
   ]
  },
  {
   "cell_type": "code",
   "execution_count": 290,
   "metadata": {},
   "outputs": [
    {
     "data": {
      "image/png": "[encoded data removed]",
      "text/plain": [
       "<Figure size 432x288 with 1 Axes>"
      ]
     },
     "metadata": {
      "needs_background": "light"
     },
     "output_type": "display_data"
    }
   ],
   "source": [
    "plt.title('Predictive Probabilities of the Target Class', fontsize = 20)\n",
    "plt.xlabel('Days', fontsize = 10)\n",
    "plt.ylabel('Probability', fontsize = 10)\n",
    "plt.plot(model.predict_generator(test_sequences)[:,0])\n",
    "plt.savefig('../plots/predictive_probabilities_rnn')"
   ]
  },
  {
   "cell_type": "markdown",
   "metadata": {},
   "source": [
    "Looking at the predictive probabilities of the validation set, we see that they never pass .4, which means there is no way it is predicting a patch release, as it never passes 50%. This is a frustrating realization that there really isn't enough signal in the dataset to produce anything but a null result. "
   ]
  },
  {
   "cell_type": "code",
   "execution_count": 291,
   "metadata": {},
   "outputs": [
    {
     "data": {
      "text/plain": [
       "array([0.05969679, 0.05948058, 0.0612618 , 0.06032544, 0.0588153 ,\n",
       "       0.05635974, 0.05535999, 0.05517122, 0.05611095, 0.05819571,\n",
       "       0.05816895, 0.06047001, 0.05756786, 0.05541807, 0.05461794,\n",
       "       0.05482566, 0.05527771, 0.05488196, 0.05416727, 0.05309647,\n",
       "       0.05253941, 0.05254892, 0.05322841, 0.05409935, 0.05331025,\n",
       "       0.05334052, 0.05330551, 0.05348998, 0.05429769, 0.054407  ,\n",
       "       0.05633199, 0.053864  , 0.05295694, 0.05250579, 0.05241349,\n",
       "       0.05710581, 0.05808187, 0.06407392, 0.05977532, 0.05665714,\n",
       "       0.05536965, 0.05417676, 0.05821732, 0.0676359 ], dtype=float32)"
      ]
     },
     "execution_count": 291,
     "metadata": {},
     "output_type": "execute_result"
    }
   ],
   "source": [
    "model.predict_generator(test_sequences)[:,0]"
   ]
  },
  {
   "cell_type": "markdown",
   "metadata": {},
   "source": [
    "Above we can see the probabilities of the test_sequence. Most of them sit between .37 and .39, but none of them pass the threshold. "
   ]
  },
  {
   "cell_type": "markdown",
   "metadata": {},
   "source": [
    "## RNN without OP Words"
   ]
  },
  {
   "cell_type": "code",
   "execution_count": 292,
   "metadata": {},
   "outputs": [],
   "source": [
    "op_list = [' op', 'nerf', 'perk', \n",
    "           'over', 'weak', 'too', \n",
    "           'hax', 'pass', 'rage', \n",
    "           'spray', 'power', 'buff', \n",
    "           'o p', 'strong', 'snipe', \n",
    "           'impossible', 'hack', 'need', \n",
    "           'quit', 'auto', 'noob',\n",
    "           'range', 'rate', 'fire']"
   ]
  },
  {
   "cell_type": "code",
   "execution_count": 293,
   "metadata": {},
   "outputs": [
    {
     "data": {
      "text/html": [
       "<div>\n",
       "<style scoped>\n",
       "    .dataframe tbody tr th:only-of-type {\n",
       "        vertical-align: middle;\n",
       "    }\n",
       "\n",
       "    .dataframe tbody tr th {\n",
       "        vertical-align: top;\n",
       "    }\n",
       "\n",
       "    .dataframe thead th {\n",
       "        text-align: right;\n",
       "    }\n",
       "</style>\n",
       "<table border=\"1\" class=\"dataframe\">\n",
       "  <thead>\n",
       "    <tr style=\"text-align: right;\">\n",
       "      <th></th>\n",
       "      <th>score</th>\n",
       "      <th>compound</th>\n",
       "      <th>character_count</th>\n",
       "      <th>word_count</th>\n",
       "      <th>interaction_score_compound</th>\n",
       "      <th>compound_sum</th>\n",
       "      <th>unique_authors</th>\n",
       "      <th>interaction_sum</th>\n",
       "      <th>comment_count</th>\n",
       "    </tr>\n",
       "    <tr>\n",
       "      <th>date</th>\n",
       "      <th></th>\n",
       "      <th></th>\n",
       "      <th></th>\n",
       "      <th></th>\n",
       "      <th></th>\n",
       "      <th></th>\n",
       "      <th></th>\n",
       "      <th></th>\n",
       "      <th></th>\n",
       "    </tr>\n",
       "  </thead>\n",
       "  <tbody>\n",
       "    <tr>\n",
       "      <th>2018-10-11</th>\n",
       "      <td>44081</td>\n",
       "      <td>0.179693</td>\n",
       "      <td>1358543.0</td>\n",
       "      <td>256354</td>\n",
       "      <td>0.603192</td>\n",
       "      <td>2051.7369</td>\n",
       "      <td>4237</td>\n",
       "      <td>6887.2453</td>\n",
       "      <td>11418</td>\n",
       "    </tr>\n",
       "    <tr>\n",
       "      <th>2018-10-12</th>\n",
       "      <td>70759</td>\n",
       "      <td>0.143451</td>\n",
       "      <td>2415905.0</td>\n",
       "      <td>454034</td>\n",
       "      <td>0.511025</td>\n",
       "      <td>2741.9244</td>\n",
       "      <td>8202</td>\n",
       "      <td>9767.7377</td>\n",
       "      <td>19114</td>\n",
       "    </tr>\n",
       "    <tr>\n",
       "      <th>2018-10-13</th>\n",
       "      <td>66467</td>\n",
       "      <td>0.095393</td>\n",
       "      <td>2288630.0</td>\n",
       "      <td>431604</td>\n",
       "      <td>0.229019</td>\n",
       "      <td>1496.5304</td>\n",
       "      <td>7089</td>\n",
       "      <td>3592.8498</td>\n",
       "      <td>15688</td>\n",
       "    </tr>\n",
       "    <tr>\n",
       "      <th>2018-10-14</th>\n",
       "      <td>65811</td>\n",
       "      <td>0.078420</td>\n",
       "      <td>2568833.0</td>\n",
       "      <td>484629</td>\n",
       "      <td>0.171104</td>\n",
       "      <td>1350.9338</td>\n",
       "      <td>7771</td>\n",
       "      <td>2947.6086</td>\n",
       "      <td>17227</td>\n",
       "    </tr>\n",
       "    <tr>\n",
       "      <th>2018-10-15</th>\n",
       "      <td>79944</td>\n",
       "      <td>0.079358</td>\n",
       "      <td>3053849.0</td>\n",
       "      <td>575691</td>\n",
       "      <td>0.115871</td>\n",
       "      <td>1573.1210</td>\n",
       "      <td>8220</td>\n",
       "      <td>2296.9086</td>\n",
       "      <td>19823</td>\n",
       "    </tr>\n",
       "  </tbody>\n",
       "</table>\n",
       "</div>"
      ],
      "text/plain": [
       "            score  compound  character_count  word_count  \\\n",
       "date                                                       \n",
       "2018-10-11  44081  0.179693        1358543.0      256354   \n",
       "2018-10-12  70759  0.143451        2415905.0      454034   \n",
       "2018-10-13  66467  0.095393        2288630.0      431604   \n",
       "2018-10-14  65811  0.078420        2568833.0      484629   \n",
       "2018-10-15  79944  0.079358        3053849.0      575691   \n",
       "\n",
       "            interaction_score_compound  compound_sum  unique_authors  \\\n",
       "date                                                                   \n",
       "2018-10-11                    0.603192     2051.7369            4237   \n",
       "2018-10-12                    0.511025     2741.9244            8202   \n",
       "2018-10-13                    0.229019     1496.5304            7089   \n",
       "2018-10-14                    0.171104     1350.9338            7771   \n",
       "2018-10-15                    0.115871     1573.1210            8220   \n",
       "\n",
       "            interaction_sum  comment_count  \n",
       "date                                        \n",
       "2018-10-11        6887.2453          11418  \n",
       "2018-10-12        9767.7377          19114  \n",
       "2018-10-13        3592.8498          15688  \n",
       "2018-10-14        2947.6086          17227  \n",
       "2018-10-15        2296.9086          19823  "
      ]
     },
     "execution_count": 293,
     "metadata": {},
     "output_type": "execute_result"
    }
   ],
   "source": [
    "X = df_daily.drop(columns = ['patch_update', 'created_utc',' op', 'nerf', 'perk', \n",
    "                             'over', 'weak', 'too', \n",
    "                             'hax', 'pass', 'rage', \n",
    "                             'spray', 'power', 'buff', \n",
    "                             'o p', 'strong', 'snipe', \n",
    "                             'impossible', 'hack', 'need', \n",
    "                             'quit', 'auto', 'noob',\n",
    "                             'range', 'rate', 'fire', 'count_comments', 'body'\n",
    "                             ])\n",
    "X.head()"
   ]
  },
  {
   "cell_type": "code",
   "execution_count": 294,
   "metadata": {},
   "outputs": [],
   "source": [
    "y = df_daily['patch_update']"
   ]
  },
  {
   "cell_type": "code",
   "execution_count": 295,
   "metadata": {},
   "outputs": [],
   "source": [
    "X_train, X_test, y_train, y_test = train_test_split(X,\n",
    "                                                    y,\n",
    "                                                    shuffle = False,\n",
    "                                                    random_state = 13)"
   ]
  },
  {
   "cell_type": "code",
   "execution_count": 296,
   "metadata": {},
   "outputs": [
    {
     "name": "stderr",
     "output_type": "stream",
     "text": [
      "/Users/adamburpee/anaconda3/lib/python3.7/site-packages/sklearn/preprocessing/data.py:645: DataConversionWarning: Data with input dtype int64, float64 were all converted to float64 by StandardScaler.\n",
      "  return self.partial_fit(X, y)\n",
      "/Users/adamburpee/anaconda3/lib/python3.7/site-packages/sklearn/base.py:464: DataConversionWarning: Data with input dtype int64, float64 were all converted to float64 by StandardScaler.\n",
      "  return self.fit(X, **fit_params).transform(X)\n",
      "/Users/adamburpee/anaconda3/lib/python3.7/site-packages/ipykernel_launcher.py:3: DataConversionWarning: Data with input dtype int64, float64 were all converted to float64 by StandardScaler.\n",
      "  This is separate from the ipykernel package so we can avoid doing imports until\n"
     ]
    }
   ],
   "source": [
    "ss = StandardScaler()\n",
    "X_train_sc = ss.fit_transform(X_train)\n",
    "X_test_sc = ss.transform(X_test)"
   ]
  },
  {
   "cell_type": "code",
   "execution_count": 297,
   "metadata": {},
   "outputs": [],
   "source": [
    "train_sequences = TimeseriesGenerator(X_train_sc,\n",
    "                                      y_train,\n",
    "                                      length = 1,\n",
    "                                      batch_size = 25)"
   ]
  },
  {
   "cell_type": "code",
   "execution_count": 298,
   "metadata": {},
   "outputs": [],
   "source": [
    "test_sequences = TimeseriesGenerator(X_test_sc, \n",
    "                                     y_test,\n",
    "                                     length = 1,\n",
    "                                     batch_size = 25)"
   ]
  },
  {
   "cell_type": "code",
   "execution_count": 299,
   "metadata": {},
   "outputs": [
    {
     "data": {
      "text/plain": [
       "(152, 9)"
      ]
     },
     "execution_count": 299,
     "metadata": {},
     "output_type": "execute_result"
    }
   ],
   "source": [
    "X_train.shape"
   ]
  },
  {
   "cell_type": "code",
   "execution_count": 300,
   "metadata": {},
   "outputs": [],
   "source": [
    "model = Sequential()\n"
   ]
  },
  {
   "cell_type": "code",
   "execution_count": 301,
   "metadata": {},
   "outputs": [],
   "source": [
    "model.add(GRU(32,\n",
    "              input_shape = (1,9),\n",
    "              return_sequences = True))\n",
    "\n",
    "model.add(GRU(36,\n",
    "              return_sequences = False))\n",
    "\n",
    "# model.add(GRU(18,\n",
    "#               return_sequences = False))\n",
    "\n",
    "model.add(Dense(16,\n",
    "                activation = 'relu'))\n",
    "\n",
    "model.add(Dropout(0.5))\n",
    "\n",
    "model.add(Dense(16,\n",
    "                activation = 'relu'))\n",
    "\n",
    "#model.add(Dropout(0.5))\n",
    "\n",
    "model.add(Dense(1,\n",
    "                activation = 'sigmoid'))"
   ]
  },
  {
   "cell_type": "code",
   "execution_count": 302,
   "metadata": {},
   "outputs": [],
   "source": [
    "model.compile(loss = 'binary_crossentropy',\n",
    "#               optimizer = 'sgd',\n",
    "              optimizer = Adam(lr = .0006),\n",
    "              metrics = ['accuracy'])"
   ]
  },
  {
   "cell_type": "code",
   "execution_count": 303,
   "metadata": {},
   "outputs": [
    {
     "name": "stdout",
     "output_type": "stream",
     "text": [
      "Epoch 1/20\n",
      "7/7 [==============================] - 7s 951ms/step - loss: 0.7104 - acc: 0.2040 - val_loss: 0.6953 - val_acc: 0.2400\n",
      "Epoch 2/20\n",
      "7/7 [==============================] - 0s 5ms/step - loss: 0.6944 - acc: 0.5862 - val_loss: 0.6834 - val_acc: 0.8600\n",
      "Epoch 3/20\n",
      "7/7 [==============================] - 0s 17ms/step - loss: 0.6840 - acc: 0.8485 - val_loss: 0.6772 - val_acc: 0.8600\n",
      "Epoch 4/20\n",
      "7/7 [==============================] - 0s 15ms/step - loss: 0.6731 - acc: 0.8893 - val_loss: 0.6713 - val_acc: 0.8600\n",
      "Epoch 5/20\n",
      "7/7 [==============================] - 0s 14ms/step - loss: 0.6623 - acc: 0.9359 - val_loss: 0.6657 - val_acc: 0.8600\n",
      "Epoch 6/20\n",
      "7/7 [==============================] - 0s 15ms/step - loss: 0.6510 - acc: 0.9417 - val_loss: 0.6594 - val_acc: 0.8600\n",
      "Epoch 7/20\n",
      "7/7 [==============================] - 0s 14ms/step - loss: 0.6428 - acc: 0.9417 - val_loss: 0.6533 - val_acc: 0.8600\n",
      "Epoch 8/20\n",
      "7/7 [==============================] - 0s 15ms/step - loss: 0.6336 - acc: 0.9417 - val_loss: 0.6451 - val_acc: 0.8600\n",
      "Epoch 9/20\n",
      "7/7 [==============================] - 0s 15ms/step - loss: 0.6211 - acc: 0.9417 - val_loss: 0.6368 - val_acc: 0.8600\n",
      "Epoch 10/20\n",
      "7/7 [==============================] - 0s 15ms/step - loss: 0.6102 - acc: 0.9417 - val_loss: 0.6273 - val_acc: 0.8600\n",
      "Epoch 11/20\n",
      "7/7 [==============================] - 0s 14ms/step - loss: 0.5957 - acc: 0.9417 - val_loss: 0.6130 - val_acc: 0.8600\n",
      "Epoch 12/20\n",
      "7/7 [==============================] - 0s 15ms/step - loss: 0.5769 - acc: 0.9417 - val_loss: 0.5982 - val_acc: 0.8600\n",
      "Epoch 13/20\n",
      "7/7 [==============================] - 0s 15ms/step - loss: 0.5622 - acc: 0.9417 - val_loss: 0.5831 - val_acc: 0.8600\n",
      "Epoch 14/20\n",
      "7/7 [==============================] - 0s 15ms/step - loss: 0.5374 - acc: 0.9417 - val_loss: 0.5617 - val_acc: 0.8600\n",
      "Epoch 15/20\n",
      "7/7 [==============================] - 0s 15ms/step - loss: 0.5190 - acc: 0.9417 - val_loss: 0.5374 - val_acc: 0.8600\n",
      "Epoch 16/20\n",
      "7/7 [==============================] - 0s 15ms/step - loss: 0.4823 - acc: 0.9417 - val_loss: 0.5145 - val_acc: 0.8600\n",
      "Epoch 17/20\n",
      "7/7 [==============================] - 0s 14ms/step - loss: 0.4756 - acc: 0.9417 - val_loss: 0.4914 - val_acc: 0.8600\n",
      "Epoch 18/20\n",
      "7/7 [==============================] - 0s 15ms/step - loss: 0.4550 - acc: 0.9417 - val_loss: 0.4675 - val_acc: 0.8600\n",
      "Epoch 19/20\n",
      "7/7 [==============================] - 0s 15ms/step - loss: 0.4319 - acc: 0.9417 - val_loss: 0.4476 - val_acc: 0.8600\n",
      "Epoch 20/20\n",
      "7/7 [==============================] - 0s 16ms/step - loss: 0.4280 - acc: 0.9417 - val_loss: 0.4309 - val_acc: 0.8600\n"
     ]
    }
   ],
   "source": [
    "history = model.fit_generator(train_sequences,\n",
    "                              epochs = 20,\n",
    "                              validation_data = test_sequences,\n",
    "                              verbose = 1)"
   ]
  },
  {
   "cell_type": "markdown",
   "metadata": {},
   "source": [
    "Plotting the Accuracy of my RNN model in predicting Patch Dates."
   ]
  },
  {
   "cell_type": "code",
   "execution_count": 304,
   "metadata": {},
   "outputs": [
    {
     "data": {
      "image/png": "[encoded data removed]",
      "text/plain": [
       "<Figure size 1440x720 with 1 Axes>"
      ]
     },
     "metadata": {
      "needs_background": "light"
     },
     "output_type": "display_data"
    }
   ],
   "source": [
    "plt.figure(figsize = (20,10))\n",
    "plt.title('Train and Test Accuracy RNN', fontsize = 30)\n",
    "plt.plot(history.history['acc'], label = 'Train Accuracy', c = 'C0')\n",
    "plt.plot(history.history['val_acc'], label = 'Test Accuracy', c = '#E983BD')\n",
    "plt.xlabel('Epochs', fontsize = 25)\n",
    "plt.ylabel('Accuracy', fontsize = 25)\n",
    "plt.xticks(fontsize = 20)\n",
    "plt.yticks(fontsize = 20)\n",
    "plt.legend();"
   ]
  },
  {
   "cell_type": "code",
   "execution_count": 305,
   "metadata": {},
   "outputs": [
    {
     "data": {
      "text/plain": [
       "0.0    0.934211\n",
       "1.0    0.065789\n",
       "Name: patch_update, dtype: float64"
      ]
     },
     "execution_count": 305,
     "metadata": {},
     "output_type": "execute_result"
    }
   ],
   "source": [
    "y_train.value_counts(normalize= True)"
   ]
  },
  {
   "cell_type": "code",
   "execution_count": 306,
   "metadata": {},
   "outputs": [
    {
     "data": {
      "text/plain": [
       "0.0    0.843137\n",
       "1.0    0.156863\n",
       "Name: patch_update, dtype: float64"
      ]
     },
     "execution_count": 306,
     "metadata": {},
     "output_type": "execute_result"
    }
   ],
   "source": [
    "y_test.value_counts(normalize = True)"
   ]
  },
  {
   "cell_type": "markdown",
   "metadata": {},
   "source": [
    "This RNN model utilized just the reddit meta data, comment count, word count, character count, score, sentiment, etc. and scored about the same in terms of accuracy as the model that utilized specific words that I picked. It scored 86% accuracy on the validation set and 94% accuracy on the training set. \n",
    "\n",
    "It turns out that the words I picked, or any specific word usage, may not have a direct impact on the model's accuracy. This may be due to a few things. As seen in the previous notebook, the frequency of words I picked dropped off as the dataset approached the present day, so their weight in the overall dataset may not be as strong as I previously thought. Additionally, spikes in specific words may happen randomly, dependent on the user base on any given day, as opposed to the meta data that follows pretty consistent trends. \n",
    "\n",
    "I will run another RNN on a PCA-ed dataset of all of the 2000 words my countvectorizer produced."
   ]
  },
  {
   "cell_type": "code",
   "execution_count": 307,
   "metadata": {},
   "outputs": [
    {
     "data": {
      "text/plain": [
       "[<matplotlib.lines.Line2D at 0x1a3d1a0d68>]"
      ]
     },
     "execution_count": 307,
     "metadata": {},
     "output_type": "execute_result"
    },
    {
     "data": {
      "image/png": "[encoded data removed]",
      "text/plain": [
       "<Figure size 432x288 with 1 Axes>"
      ]
     },
     "metadata": {
      "needs_background": "light"
     },
     "output_type": "display_data"
    }
   ],
   "source": [
    "plt.plot(model.predict_generator(test_sequences)[:,0])"
   ]
  },
  {
   "cell_type": "code",
   "execution_count": 308,
   "metadata": {},
   "outputs": [
    {
     "data": {
      "text/plain": [
       "array([0.2540355 , 0.24784774, 0.24336669, 0.23674151, 0.21969157,\n",
       "       0.22616115, 0.2374666 , 0.24863684, 0.23870513, 0.22671369,\n",
       "       0.24458331, 0.23218107, 0.20446771, 0.22476569, 0.27777296,\n",
       "       0.23746967, 0.27347377, 0.2155726 , 0.22847626, 0.2299596 ,\n",
       "       0.2875073 , 0.27152884, 0.25730333, 0.21561772, 0.24553429,\n",
       "       0.25145537, 0.24401733, 0.24952817, 0.24650726, 0.22551033,\n",
       "       0.2618701 , 0.2459265 , 0.26874816, 0.20987621, 0.27878928,\n",
       "       0.21752438, 0.20238078, 0.24490437, 0.26132137, 0.22456267,\n",
       "       0.24629325, 0.30961925, 0.26956928, 0.19224134, 0.2342386 ,\n",
       "       0.25348404, 0.2222648 , 0.26160222, 0.3357051 , 0.20625064],\n",
       "      dtype=float32)"
      ]
     },
     "execution_count": 308,
     "metadata": {},
     "output_type": "execute_result"
    }
   ],
   "source": [
    "model.predict_generator(test_sequences)[:,0]"
   ]
  },
  {
   "cell_type": "markdown",
   "metadata": {},
   "source": [
    "Looking at the probabilities above, we can see that they get right up to 40%, but still don't pass the 50% threshold, which means they won't ever predict that a patch is beign released. This is a similar result to the model with the OP words."
   ]
  },
  {
   "cell_type": "markdown",
   "metadata": {},
   "source": [
    "## RNN with PCA on CVEC"
   ]
  },
  {
   "cell_type": "code",
   "execution_count": 309,
   "metadata": {},
   "outputs": [],
   "source": [
    "X = df_daily.drop([' op', 'nerf', 'perk', \n",
    "                  'over', 'weak', 'too', \n",
    "                  'hax', 'pass', 'rage', \n",
    "                  'spray', 'power', 'buff', \n",
    "                  'o p', 'strong', 'snipe', \n",
    "                  'impossible', 'hack', 'need', \n",
    "                  'quit', 'auto', 'noob',\n",
    "                  'range', 'rate', 'fire', \n",
    "                  'count_comments', 'patch_update',\n",
    "                  'created_utc', 'body'\n",
    "                             ], axis = 1)"
   ]
  },
  {
   "cell_type": "markdown",
   "metadata": {},
   "source": [
    "Merging my cvec df with my daily df."
   ]
  },
  {
   "cell_type": "code",
   "execution_count": 310,
   "metadata": {},
   "outputs": [],
   "source": [
    "X = X.merge(df_most_common_words, left_index=True, right_index = True)"
   ]
  },
  {
   "cell_type": "code",
   "execution_count": 311,
   "metadata": {},
   "outputs": [],
   "source": [
    "y = df_daily['patch_update']"
   ]
  },
  {
   "cell_type": "code",
   "execution_count": 312,
   "metadata": {},
   "outputs": [],
   "source": [
    "from sklearn.decomposition import PCA"
   ]
  },
  {
   "cell_type": "code",
   "execution_count": 313,
   "metadata": {},
   "outputs": [],
   "source": [
    "X_train, X_test, y_train, y_test = train_test_split(X,\n",
    "                                                    y,\n",
    "                                                    shuffle = False,\n",
    "                                                    )"
   ]
  },
  {
   "cell_type": "markdown",
   "metadata": {},
   "source": [
    "Scaling my training and test sets."
   ]
  },
  {
   "cell_type": "code",
   "execution_count": 314,
   "metadata": {},
   "outputs": [
    {
     "name": "stderr",
     "output_type": "stream",
     "text": [
      "/Users/adamburpee/anaconda3/lib/python3.7/site-packages/sklearn/preprocessing/data.py:645: DataConversionWarning: Data with input dtype int64, float64 were all converted to float64 by StandardScaler.\n",
      "  return self.partial_fit(X, y)\n",
      "/Users/adamburpee/anaconda3/lib/python3.7/site-packages/sklearn/base.py:464: DataConversionWarning: Data with input dtype int64, float64 were all converted to float64 by StandardScaler.\n",
      "  return self.fit(X, **fit_params).transform(X)\n",
      "/Users/adamburpee/anaconda3/lib/python3.7/site-packages/ipykernel_launcher.py:3: DataConversionWarning: Data with input dtype int64, float64 were all converted to float64 by StandardScaler.\n",
      "  This is separate from the ipykernel package so we can avoid doing imports until\n"
     ]
    }
   ],
   "source": [
    "ss = StandardScaler()\n",
    "X_train_sc = ss.fit_transform(X_train)\n",
    "X_test_sc = ss.transform(X_test)"
   ]
  },
  {
   "cell_type": "markdown",
   "metadata": {},
   "source": [
    "Instantiating my PCA with 20 components. "
   ]
  },
  {
   "cell_type": "code",
   "execution_count": 315,
   "metadata": {},
   "outputs": [
    {
     "data": {
      "text/plain": [
       "PCA(copy=True, iterated_power='auto', n_components=20, random_state=None,\n",
       "  svd_solver='auto', tol=0.0, whiten=False)"
      ]
     },
     "execution_count": 315,
     "metadata": {},
     "output_type": "execute_result"
    }
   ],
   "source": [
    "pca = PCA(n_components = 20)\n",
    "pca.fit(X_train_sc)"
   ]
  },
  {
   "cell_type": "markdown",
   "metadata": {},
   "source": [
    "Examining my components. "
   ]
  },
  {
   "cell_type": "code",
   "execution_count": 316,
   "metadata": {},
   "outputs": [
    {
     "data": {
      "text/plain": [
       "array([[ 2.48889042e-02, -1.21578467e-02,  3.33989351e-02, ...,\n",
       "         7.16924883e-03,  5.96347359e-03,  2.08621250e-02],\n",
       "       [-3.24632764e-02,  1.01476466e-02,  7.25422593e-04, ...,\n",
       "         1.10703358e-02,  3.13092979e-02, -1.28230609e-02],\n",
       "       [ 4.34693545e-02,  7.40173138e-02,  7.42322208e-04, ...,\n",
       "         2.72471148e-02,  3.62246344e-02,  5.41216013e-02],\n",
       "       ...,\n",
       "       [-2.12846661e-02, -6.01036085e-03,  2.28873849e-03, ...,\n",
       "         8.42855560e-03,  1.16001601e-02, -4.03454294e-02],\n",
       "       [ 1.44052526e-02, -5.11412487e-03, -1.78509609e-05, ...,\n",
       "        -2.94556550e-03, -1.28928109e-02,  2.97345761e-02],\n",
       "       [-9.37229899e-03, -1.28756745e-02, -1.38149689e-03, ...,\n",
       "        -2.28678969e-02,  1.20970897e-02,  3.55754266e-02]])"
      ]
     },
     "execution_count": 316,
     "metadata": {},
     "output_type": "execute_result"
    }
   ],
   "source": [
    "pca.components_"
   ]
  },
  {
   "cell_type": "code",
   "execution_count": 317,
   "metadata": {},
   "outputs": [
    {
     "data": {
      "text/plain": [
       "array([0.44483628, 0.05915914, 0.03132038, 0.01886472, 0.01236938,\n",
       "       0.01148676, 0.01104043, 0.0099533 , 0.00976506, 0.00905802,\n",
       "       0.00801758, 0.00752132, 0.00716631, 0.00681777, 0.00655536,\n",
       "       0.00644512, 0.00618837, 0.00598196, 0.00578216, 0.00565036])"
      ]
     },
     "execution_count": 317,
     "metadata": {},
     "output_type": "execute_result"
    }
   ],
   "source": [
    "var_exp = pca.explained_variance_ratio_\n",
    "var_exp"
   ]
  },
  {
   "cell_type": "markdown",
   "metadata": {},
   "source": [
    "As seen above, close to zero variance is explained by most of my components. The first component is the only one that explains a good amount of variance, at 44%. "
   ]
  },
  {
   "cell_type": "markdown",
   "metadata": {},
   "source": [
    "Setting up my new components that I will use in the model. "
   ]
  },
  {
   "cell_type": "code",
   "execution_count": 318,
   "metadata": {},
   "outputs": [],
   "source": [
    "Z_train = pca.transform(X_train_sc)"
   ]
  },
  {
   "cell_type": "code",
   "execution_count": 319,
   "metadata": {},
   "outputs": [],
   "source": [
    "Z_test = pca.transform(X_test_sc)"
   ]
  },
  {
   "cell_type": "code",
   "execution_count": 320,
   "metadata": {},
   "outputs": [],
   "source": [
    "train_sequences = TimeseriesGenerator(Z_train,\n",
    "                                      y_train,\n",
    "                                      length = 7,\n",
    "                                      batch_size = 50)"
   ]
  },
  {
   "cell_type": "code",
   "execution_count": 321,
   "metadata": {},
   "outputs": [],
   "source": [
    "test_sequences = TimeseriesGenerator(Z_test, \n",
    "                                     y_test,\n",
    "                                     length = 7,\n",
    "                                     batch_size = 50)"
   ]
  },
  {
   "cell_type": "code",
   "execution_count": 322,
   "metadata": {},
   "outputs": [
    {
     "data": {
      "text/plain": [
       "(152, 20)"
      ]
     },
     "execution_count": 322,
     "metadata": {},
     "output_type": "execute_result"
    }
   ],
   "source": [
    "Z_train.shape"
   ]
  },
  {
   "cell_type": "code",
   "execution_count": 323,
   "metadata": {},
   "outputs": [],
   "source": [
    "model = Sequential()\n"
   ]
  },
  {
   "cell_type": "code",
   "execution_count": 324,
   "metadata": {},
   "outputs": [],
   "source": [
    "model.add(GRU(32,\n",
    "              input_shape = (7,20),\n",
    "              return_sequences = True))\n",
    "\n",
    "model.add(LSTM(36,\n",
    "              return_sequences = True))\n",
    "\n",
    "model.add(GRU(18,\n",
    "              return_sequences = False))\n",
    "\n",
    "model.add(Dense(16,\n",
    "                activation = 'relu'))\n",
    "\n",
    "\n",
    "\n",
    "model.add(Dropout(0.5))\n",
    "\n",
    "model.add(Dense(16,\n",
    "                activation = 'relu'))\n",
    "\n",
    "#model.add(Dropout(0.5))\n",
    "\n",
    "model.add(Dense(1,\n",
    "                activation = 'sigmoid'))"
   ]
  },
  {
   "cell_type": "code",
   "execution_count": 325,
   "metadata": {},
   "outputs": [],
   "source": [
    "model.compile(loss = 'binary_crossentropy',\n",
    "#               optimizer = 'sgd',\n",
    "              optimizer = Adam(lr = .0006),\n",
    "              metrics = ['accuracy'])"
   ]
  },
  {
   "cell_type": "code",
   "execution_count": 326,
   "metadata": {},
   "outputs": [
    {
     "name": "stdout",
     "output_type": "stream",
     "text": [
      "Epoch 1/30\n",
      "3/3 [==============================] - 7s 2s/step - loss: 0.6656 - acc: 0.6017 - val_loss: 0.6600 - val_acc: 0.8636\n",
      "Epoch 2/30\n",
      "3/3 [==============================] - 0s 20ms/step - loss: 0.6496 - acc: 0.7120 - val_loss: 0.6412 - val_acc: 0.8636\n",
      "Epoch 3/30\n",
      "3/3 [==============================] - 0s 43ms/step - loss: 0.6213 - acc: 0.8151 - val_loss: 0.6217 - val_acc: 0.8636\n",
      "Epoch 4/30\n",
      "3/3 [==============================] - 0s 32ms/step - loss: 0.6020 - acc: 0.8773 - val_loss: 0.6041 - val_acc: 0.8636\n",
      "Epoch 5/30\n",
      "3/3 [==============================] - 0s 36ms/step - loss: 0.5773 - acc: 0.9031 - val_loss: 0.5887 - val_acc: 0.8636\n",
      "Epoch 6/30\n",
      "3/3 [==============================] - 0s 34ms/step - loss: 0.5648 - acc: 0.9115 - val_loss: 0.5711 - val_acc: 0.8636\n",
      "Epoch 7/30\n",
      "3/3 [==============================] - 0s 36ms/step - loss: 0.5467 - acc: 0.9316 - val_loss: 0.5524 - val_acc: 0.8636\n",
      "Epoch 8/30\n",
      "3/3 [==============================] - 0s 35ms/step - loss: 0.5058 - acc: 0.9316 - val_loss: 0.5343 - val_acc: 0.8636\n",
      "Epoch 9/30\n",
      "3/3 [==============================] - 0s 33ms/step - loss: 0.5272 - acc: 0.9316 - val_loss: 0.5150 - val_acc: 0.8636\n",
      "Epoch 10/30\n",
      "3/3 [==============================] - 0s 34ms/step - loss: 0.4692 - acc: 0.9316 - val_loss: 0.4958 - val_acc: 0.8636\n",
      "Epoch 11/30\n",
      "3/3 [==============================] - 0s 33ms/step - loss: 0.4545 - acc: 0.9316 - val_loss: 0.4775 - val_acc: 0.8636\n",
      "Epoch 12/30\n",
      "3/3 [==============================] - 0s 35ms/step - loss: 0.4390 - acc: 0.9316 - val_loss: 0.4604 - val_acc: 0.8636\n",
      "Epoch 13/30\n",
      "3/3 [==============================] - 0s 38ms/step - loss: 0.4381 - acc: 0.9316 - val_loss: 0.4456 - val_acc: 0.8636\n",
      "Epoch 14/30\n",
      "3/3 [==============================] - 0s 36ms/step - loss: 0.3913 - acc: 0.9316 - val_loss: 0.4319 - val_acc: 0.8636\n",
      "Epoch 15/30\n",
      "3/3 [==============================] - 0s 32ms/step - loss: 0.4040 - acc: 0.9316 - val_loss: 0.4196 - val_acc: 0.8636\n",
      "Epoch 16/30\n",
      "3/3 [==============================] - 0s 35ms/step - loss: 0.3411 - acc: 0.9316 - val_loss: 0.4089 - val_acc: 0.8636\n",
      "Epoch 17/30\n",
      "3/3 [==============================] - 0s 35ms/step - loss: 0.3205 - acc: 0.9316 - val_loss: 0.4012 - val_acc: 0.8636\n",
      "Epoch 18/30\n",
      "3/3 [==============================] - 0s 33ms/step - loss: 0.3478 - acc: 0.9316 - val_loss: 0.3987 - val_acc: 0.8636\n",
      "Epoch 19/30\n",
      "3/3 [==============================] - 0s 34ms/step - loss: 0.3125 - acc: 0.9316 - val_loss: 0.4002 - val_acc: 0.8636\n",
      "Epoch 20/30\n",
      "3/3 [==============================] - 0s 35ms/step - loss: 0.2764 - acc: 0.9316 - val_loss: 0.4054 - val_acc: 0.8636\n",
      "Epoch 21/30\n",
      "3/3 [==============================] - 0s 34ms/step - loss: 0.2826 - acc: 0.9316 - val_loss: 0.4138 - val_acc: 0.8636\n",
      "Epoch 22/30\n",
      "3/3 [==============================] - 0s 34ms/step - loss: 0.2890 - acc: 0.9316 - val_loss: 0.4235 - val_acc: 0.8636\n",
      "Epoch 23/30\n",
      "3/3 [==============================] - 0s 36ms/step - loss: 0.2907 - acc: 0.9316 - val_loss: 0.4340 - val_acc: 0.8636\n",
      "Epoch 24/30\n",
      "3/3 [==============================] - 0s 34ms/step - loss: 0.2909 - acc: 0.9316 - val_loss: 0.4442 - val_acc: 0.8636\n",
      "Epoch 25/30\n",
      "3/3 [==============================] - 0s 35ms/step - loss: 0.2539 - acc: 0.9316 - val_loss: 0.4533 - val_acc: 0.8636\n",
      "Epoch 26/30\n",
      "3/3 [==============================] - 0s 35ms/step - loss: 0.2991 - acc: 0.9316 - val_loss: 0.4614 - val_acc: 0.8636\n",
      "Epoch 27/30\n",
      "3/3 [==============================] - 0s 33ms/step - loss: 0.2698 - acc: 0.9316 - val_loss: 0.4687 - val_acc: 0.8636\n",
      "Epoch 28/30\n",
      "3/3 [==============================] - 0s 35ms/step - loss: 0.2584 - acc: 0.9316 - val_loss: 0.4753 - val_acc: 0.8636\n",
      "Epoch 29/30\n",
      "3/3 [==============================] - 0s 34ms/step - loss: 0.2750 - acc: 0.9316 - val_loss: 0.4812 - val_acc: 0.8636\n",
      "Epoch 30/30\n",
      "3/3 [==============================] - 0s 35ms/step - loss: 0.2686 - acc: 0.9316 - val_loss: 0.4862 - val_acc: 0.8636\n"
     ]
    }
   ],
   "source": [
    "history = model.fit_generator(train_sequences,\n",
    "                              epochs = 30,\n",
    "                              validation_data = test_sequences,\n",
    "                              verbose = 1)"
   ]
  },
  {
   "cell_type": "markdown",
   "metadata": {},
   "source": [
    "Plotting the Accuracy of my RNN model in predicting Patch Dates."
   ]
  },
  {
   "cell_type": "code",
   "execution_count": 327,
   "metadata": {},
   "outputs": [
    {
     "data": {
      "image/png": "[encoded data removed]",
      "text/plain": [
       "<Figure size 1440x720 with 1 Axes>"
      ]
     },
     "metadata": {
      "needs_background": "light"
     },
     "output_type": "display_data"
    }
   ],
   "source": [
    "plt.figure(figsize = (20,10))\n",
    "plt.title('Train and Test Accuracy RNN', fontsize = 30)\n",
    "plt.plot(history.history['acc'], label = 'Train Accuracy', c = 'C0')\n",
    "plt.plot(history.history['val_acc'], label = 'Test Accuracy', c = '#E983BD')\n",
    "plt.xlabel('Epochs', fontsize = 25)\n",
    "plt.ylabel('Accuracy', fontsize = 25)\n",
    "plt.xticks(fontsize = 20)\n",
    "plt.yticks(fontsize = 20)\n",
    "plt.legend();\n",
    "plt.savefig('../plots/rnn_train_test_accuracy')"
   ]
  },
  {
   "cell_type": "markdown",
   "metadata": {},
   "source": [
    "As we can see above, the accuracy scored by my PCA components is about the same as the accuracy of my dataset with my choice of words, as well as the dataset with no NLP data. I think this shows that most of the information gain in my RNN model is gathered from the meta data, such as comment count, sentiment, word count, reddit score, etc. As much as I'd like to say that I am satisfied with these results, I can't. This is showing that the individual word usage isn't playing a big part in predicting patches, which might mean that as the topics of discussion change over time, the frequency of new (or old) words don't hold much predictive power. As a whole, the meta data on its own or combined with NLP doesn't really have a lot of predictive power on patch days. "
   ]
  },
  {
   "cell_type": "code",
   "execution_count": 328,
   "metadata": {},
   "outputs": [
    {
     "data": {
      "text/plain": [
       "[<matplotlib.lines.Line2D at 0x1a5ee82e80>]"
      ]
     },
     "execution_count": 328,
     "metadata": {},
     "output_type": "execute_result"
    },
    {
     "data": {
      "image/png": "[encoded data removed]",
      "text/plain": [
       "<Figure size 432x288 with 1 Axes>"
      ]
     },
     "metadata": {
      "needs_background": "light"
     },
     "output_type": "display_data"
    }
   ],
   "source": [
    "plt.plot(model.predict_generator(test_sequences)[:,0])\n"
   ]
  },
  {
   "cell_type": "code",
   "execution_count": 329,
   "metadata": {},
   "outputs": [
    {
     "data": {
      "text/plain": [
       "array([0.03540704, 0.03555009, 0.03487486, 0.03472501, 0.03491819,\n",
       "       0.035146  , 0.03509554, 0.03542179, 0.03640628, 0.03647122,\n",
       "       0.03665701, 0.03611559, 0.03561172, 0.03498438, 0.03458765,\n",
       "       0.03437793, 0.03472376, 0.03522947, 0.03548396, 0.03532597,\n",
       "       0.03530949, 0.03556085, 0.03576279, 0.03602755, 0.03616247,\n",
       "       0.03635079, 0.03625816, 0.03608617, 0.03583387, 0.03578001,\n",
       "       0.03569841, 0.03564048, 0.03577036, 0.03578851, 0.03593338,\n",
       "       0.0359447 , 0.03605077, 0.03614452, 0.03626257, 0.03601041,\n",
       "       0.03592788, 0.03578866, 0.03598395, 0.03613291], dtype=float32)"
      ]
     },
     "execution_count": 329,
     "metadata": {},
     "output_type": "execute_result"
    }
   ],
   "source": [
    "model.predict_generator(test_sequences)[:,0]"
   ]
  },
  {
   "cell_type": "markdown",
   "metadata": {},
   "source": [
    "As we can see above, the highest probability is .09, which is nowhere close to 50%, suggesting that my components aren't gathering a lot of signal. "
   ]
  },
  {
   "cell_type": "markdown",
   "metadata": {},
   "source": [
    "# Conclusion and Next Steps\n",
    "\n",
    "Contrary to my initial assumption that the RNN model would be able to pick up signal and predict patch dates with some certainty and accuracy, it did not. I attempted RNN with three different variations of the same dataset, one with my OP list, one without my OP list and just the reddit meta data and binned data that I created, and one on which I ran Principal Component Analysis to extract features instead of remove them.  There are a few reasons that I think have had a significant effect on my project as a whole. \n",
    "\n",
    "1. I pulled a ton of data, 2 million comments. However, after grouping by date, my dataset shrunk to 203 rows, with only 18 targets, which is less than 10%. This turned out to be quite a small dataset to be working with. Using aggregate data did not work as well as I had hoped. \n",
    "\n",
    "I think for this to be a fruitful examination of user sentiment, I will have to collect data over a much longer time period, or collect data on all of the light fixes as well, and include those as targets. Smaller fixes are common but not well documented, which makes it difficult to find all of them. The actual numbered patches that are significant and take time to download are the ones that are well documented. \n",
    "\n",
    "2. Reddit use is not directly related to videogame use. Users could pop up online on reddit for a day or two and spread their hate or love for the game without that sentiment having an impact on whether or not they play the game. \n",
    "\n",
    "Personally,  I've complained about the game and shared negative sentiment, but that didn't stop me from turning my playstation back on and continuing to play for 4 hours straight. \n",
    "\n",
    "3. Trying to find words that are strictly associated with negative sentiment proved to be difficult. The comments ranged from 3 to 2000 words, and finding the sentiment of the overall comment may not have worked as well as I had hoped. I attempted to search for keywords that I associated with things people complain about the game, but as user activity decreases on reddit and updates are made to the game, those comments go down. \n",
    "\n",
    "When I vectorized without setting the max features, my unique words were up to the number of words in the English language, due to typos, jargon, and general internet speak. While 2000 is a lot of words, I think it definitely would have been beneficial to be able to use the full corpus. \n",
    "\n",
    "With all of this in mind, I don't think videogame companies, specifically Activision in this case, should take user feedback into account when developing patches. The overall sentiment of users is so fleeting that no matter what the change, there will be people that despise it and people that love it. That being said, there are aspects of the game that 'break', and when things like that come up, I think Activision should pay attention to those comments. The measurement for success or satisfaction should not be in the hands of the online community. Similar to yelp, there are so few people that actually play AND participate in online feedback that it may be futile to try to observe user feedback. \n",
    "\n",
    "In the next notebook I explore will user churn from reddit, and how sentiment plays a part in that."
   ]
  }
 ],
 "metadata": {
  "kernelspec": {
   "display_name": "Python 3",
   "language": "python",
   "name": "python3"
  },
  "language_info": {
   "codemirror_mode": {
    "name": "ipython",
    "version": 3
   },
   "file_extension": ".py",
   "mimetype": "text/x-python",
   "name": "python",
   "nbconvert_exporter": "python",
   "pygments_lexer": "ipython3",
   "version": "3.7.2"
  }
 },
 "nbformat": 4,
 "nbformat_minor": 2
}
