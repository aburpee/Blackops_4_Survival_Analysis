{
 "cells": [
  {
   "cell_type": "markdown",
   "metadata": {},
   "source": [
    "# Notebook 3c: User Churn\n",
    "\n",
    "In this notebook I will be exploring user churn from reddit. This may not be really strongly correlated to user churn of the game itself, but it may show some trends in how people interact with each other and with the game online. \n",
    "\n",
    "Churn is when a customer, player, user, etc decides to discontinue his or her relationship with the company, game, forum, etc. In this notebook, I will create a target column that says whether or not a certain person has 'churned' in order to calculate the likelihood of someone churning given their overall sentiment, the number of times they've commented, and other meta data. I came up with my own filter for when someone churns, since that data is not readily available. \n",
    "\n",
    "Churn is important for businesses in general, but for this, I am examining churn as a result of patches being unsatisfactory, as the two most certainly have some correlation. "
   ]
  },
  {
   "cell_type": "code",
   "execution_count": 321,
   "metadata": {},
   "outputs": [],
   "source": [
    "import pandas as pd\n",
    "import numpy as np\n",
    "from xgboost import XGBClassifier\n",
    "from xgboost import plot_tree\n",
    "import matplotlib.pyplot as plt\n",
    "from sklearn.model_selection import train_test_split\n",
    "from sklearn.metrics import accuracy_score\n",
    "from sklearn.metrics import confusion_matrix\n",
    "from lifelines import CoxPHFitter\n",
    "from lifelines import KaplanMeierFitter\n",
    "%matplotlib inline"
   ]
  },
  {
   "cell_type": "code",
   "execution_count": 322,
   "metadata": {},
   "outputs": [],
   "source": [
    "df_users = pd.read_csv('../data/df_users.csv', index_col = 'author')"
   ]
  },
  {
   "cell_type": "code",
   "execution_count": 323,
   "metadata": {},
   "outputs": [],
   "source": [
    "df_users['duration'] = df_users['duration'].apply(lambda x : x[:3])"
   ]
  },
  {
   "cell_type": "code",
   "execution_count": 324,
   "metadata": {},
   "outputs": [],
   "source": [
    "df_daily = pd.read_csv('../data/df_daily.csv', index_col = 'date')"
   ]
  },
  {
   "cell_type": "code",
   "execution_count": 369,
   "metadata": {},
   "outputs": [],
   "source": [
    "df_daily.index = pd.to_datetime(df_daily.index)"
   ]
  },
  {
   "cell_type": "code",
   "execution_count": 325,
   "metadata": {},
   "outputs": [
    {
     "data": {
      "text/html": [
       "<div>\n",
       "<style scoped>\n",
       "    .dataframe tbody tr th:only-of-type {\n",
       "        vertical-align: middle;\n",
       "    }\n",
       "\n",
       "    .dataframe tbody tr th {\n",
       "        vertical-align: top;\n",
       "    }\n",
       "\n",
       "    .dataframe thead th {\n",
       "        text-align: right;\n",
       "    }\n",
       "</style>\n",
       "<table border=\"1\" class=\"dataframe\">\n",
       "  <thead>\n",
       "    <tr style=\"text-align: right;\">\n",
       "      <th></th>\n",
       "      <th>created_utc</th>\n",
       "      <th>score</th>\n",
       "      <th>compound</th>\n",
       "      <th>character_count</th>\n",
       "      <th>word_count</th>\n",
       "      <th>interaction_score_compound</th>\n",
       "      <th>count_comments</th>\n",
       "      <th>patch_update</th>\n",
       "      <th>op</th>\n",
       "      <th>nerf</th>\n",
       "      <th>...</th>\n",
       "      <th>auto</th>\n",
       "      <th>noob</th>\n",
       "      <th>range</th>\n",
       "      <th>rate</th>\n",
       "      <th>fire</th>\n",
       "      <th>compound_sum</th>\n",
       "      <th>unique_authors</th>\n",
       "      <th>interaction_sum</th>\n",
       "      <th>comment_count</th>\n",
       "      <th>body</th>\n",
       "    </tr>\n",
       "    <tr>\n",
       "      <th>date</th>\n",
       "      <th></th>\n",
       "      <th></th>\n",
       "      <th></th>\n",
       "      <th></th>\n",
       "      <th></th>\n",
       "      <th></th>\n",
       "      <th></th>\n",
       "      <th></th>\n",
       "      <th></th>\n",
       "      <th></th>\n",
       "      <th></th>\n",
       "      <th></th>\n",
       "      <th></th>\n",
       "      <th></th>\n",
       "      <th></th>\n",
       "      <th></th>\n",
       "      <th></th>\n",
       "      <th></th>\n",
       "      <th></th>\n",
       "      <th></th>\n",
       "      <th></th>\n",
       "    </tr>\n",
       "  </thead>\n",
       "  <tbody>\n",
       "    <tr>\n",
       "      <th>2019-04-27</th>\n",
       "      <td>2770336896291</td>\n",
       "      <td>5031</td>\n",
       "      <td>0.076103</td>\n",
       "      <td>282671.0</td>\n",
       "      <td>53563</td>\n",
       "      <td>0.141100</td>\n",
       "      <td>1780</td>\n",
       "      <td>0.0</td>\n",
       "      <td>167.0</td>\n",
       "      <td>41.0</td>\n",
       "      <td>...</td>\n",
       "      <td>12.0</td>\n",
       "      <td>5.0</td>\n",
       "      <td>46.0</td>\n",
       "      <td>55.0</td>\n",
       "      <td>31.0</td>\n",
       "      <td>135.4626</td>\n",
       "      <td>903</td>\n",
       "      <td>251.1578</td>\n",
       "      <td>1780</td>\n",
       "      <td>too bad there s no in game leaderboards to sho...</td>\n",
       "    </tr>\n",
       "    <tr>\n",
       "      <th>2019-04-28</th>\n",
       "      <td>2084098985285</td>\n",
       "      <td>4100</td>\n",
       "      <td>0.113243</td>\n",
       "      <td>218085.0</td>\n",
       "      <td>41270</td>\n",
       "      <td>0.534931</td>\n",
       "      <td>1339</td>\n",
       "      <td>0.0</td>\n",
       "      <td>103.0</td>\n",
       "      <td>9.0</td>\n",
       "      <td>...</td>\n",
       "      <td>4.0</td>\n",
       "      <td>8.0</td>\n",
       "      <td>25.0</td>\n",
       "      <td>37.0</td>\n",
       "      <td>23.0</td>\n",
       "      <td>151.6327</td>\n",
       "      <td>644</td>\n",
       "      <td>716.2728</td>\n",
       "      <td>1339</td>\n",
       "      <td>yes  let s make the game free to play too whil...</td>\n",
       "    </tr>\n",
       "    <tr>\n",
       "      <th>2019-04-29</th>\n",
       "      <td>3780866670544</td>\n",
       "      <td>10264</td>\n",
       "      <td>0.132022</td>\n",
       "      <td>370348.0</td>\n",
       "      <td>69910</td>\n",
       "      <td>1.129545</td>\n",
       "      <td>2429</td>\n",
       "      <td>0.0</td>\n",
       "      <td>220.0</td>\n",
       "      <td>4.0</td>\n",
       "      <td>...</td>\n",
       "      <td>11.0</td>\n",
       "      <td>7.0</td>\n",
       "      <td>46.0</td>\n",
       "      <td>89.0</td>\n",
       "      <td>32.0</td>\n",
       "      <td>320.6813</td>\n",
       "      <td>1019</td>\n",
       "      <td>2743.6640</td>\n",
       "      <td>2429</td>\n",
       "      <td>in iw  they were just a small cosmetic item ad...</td>\n",
       "    </tr>\n",
       "    <tr>\n",
       "      <th>2019-04-30</th>\n",
       "      <td>6453829629874</td>\n",
       "      <td>19492</td>\n",
       "      <td>0.064943</td>\n",
       "      <td>626022.0</td>\n",
       "      <td>117751</td>\n",
       "      <td>-0.351741</td>\n",
       "      <td>4146</td>\n",
       "      <td>1.0</td>\n",
       "      <td>433.0</td>\n",
       "      <td>39.0</td>\n",
       "      <td>...</td>\n",
       "      <td>16.0</td>\n",
       "      <td>19.0</td>\n",
       "      <td>81.0</td>\n",
       "      <td>156.0</td>\n",
       "      <td>64.0</td>\n",
       "      <td>269.2556</td>\n",
       "      <td>1763</td>\n",
       "      <td>-1458.3172</td>\n",
       "      <td>4146</td>\n",
       "      <td>i m not even joking when i say this  i ve quit...</td>\n",
       "    </tr>\n",
       "    <tr>\n",
       "      <th>2019-05-01</th>\n",
       "      <td>7445776214860</td>\n",
       "      <td>4783</td>\n",
       "      <td>0.073185</td>\n",
       "      <td>929949.0</td>\n",
       "      <td>173838</td>\n",
       "      <td>0.073185</td>\n",
       "      <td>4783</td>\n",
       "      <td>0.0</td>\n",
       "      <td>548.0</td>\n",
       "      <td>48.0</td>\n",
       "      <td>...</td>\n",
       "      <td>9.0</td>\n",
       "      <td>10.0</td>\n",
       "      <td>73.0</td>\n",
       "      <td>228.0</td>\n",
       "      <td>75.0</td>\n",
       "      <td>350.0440</td>\n",
       "      <td>2004</td>\n",
       "      <td>350.0440</td>\n",
       "      <td>4783</td>\n",
       "      <td>so they re just gonna ignore the sparrow bug y...</td>\n",
       "    </tr>\n",
       "  </tbody>\n",
       "</table>\n",
       "<p>5 rows × 37 columns</p>\n",
       "</div>"
      ],
      "text/plain": [
       "              created_utc  score  compound  character_count  word_count  \\\n",
       "date                                                                      \n",
       "2019-04-27  2770336896291   5031  0.076103         282671.0       53563   \n",
       "2019-04-28  2084098985285   4100  0.113243         218085.0       41270   \n",
       "2019-04-29  3780866670544  10264  0.132022         370348.0       69910   \n",
       "2019-04-30  6453829629874  19492  0.064943         626022.0      117751   \n",
       "2019-05-01  7445776214860   4783  0.073185         929949.0      173838   \n",
       "\n",
       "            interaction_score_compound  count_comments  patch_update     op  \\\n",
       "date                                                                          \n",
       "2019-04-27                    0.141100            1780           0.0  167.0   \n",
       "2019-04-28                    0.534931            1339           0.0  103.0   \n",
       "2019-04-29                    1.129545            2429           0.0  220.0   \n",
       "2019-04-30                   -0.351741            4146           1.0  433.0   \n",
       "2019-05-01                    0.073185            4783           0.0  548.0   \n",
       "\n",
       "            nerf  ...  auto  noob  range   rate  fire  compound_sum  \\\n",
       "date              ...                                                 \n",
       "2019-04-27  41.0  ...  12.0   5.0   46.0   55.0  31.0      135.4626   \n",
       "2019-04-28   9.0  ...   4.0   8.0   25.0   37.0  23.0      151.6327   \n",
       "2019-04-29   4.0  ...  11.0   7.0   46.0   89.0  32.0      320.6813   \n",
       "2019-04-30  39.0  ...  16.0  19.0   81.0  156.0  64.0      269.2556   \n",
       "2019-05-01  48.0  ...   9.0  10.0   73.0  228.0  75.0      350.0440   \n",
       "\n",
       "            unique_authors  interaction_sum  comment_count  \\\n",
       "date                                                         \n",
       "2019-04-27             903         251.1578           1780   \n",
       "2019-04-28             644         716.2728           1339   \n",
       "2019-04-29            1019        2743.6640           2429   \n",
       "2019-04-30            1763       -1458.3172           4146   \n",
       "2019-05-01            2004         350.0440           4783   \n",
       "\n",
       "                                                         body  \n",
       "date                                                           \n",
       "2019-04-27  too bad there s no in game leaderboards to sho...  \n",
       "2019-04-28  yes  let s make the game free to play too whil...  \n",
       "2019-04-29  in iw  they were just a small cosmetic item ad...  \n",
       "2019-04-30  i m not even joking when i say this  i ve quit...  \n",
       "2019-05-01  so they re just gonna ignore the sparrow bug y...  \n",
       "\n",
       "[5 rows x 37 columns]"
      ]
     },
     "execution_count": 325,
     "metadata": {},
     "output_type": "execute_result"
    }
   ],
   "source": [
    "df_daily.tail()"
   ]
  },
  {
   "cell_type": "code",
   "execution_count": 326,
   "metadata": {},
   "outputs": [],
   "source": [
    "import re"
   ]
  },
  {
   "cell_type": "markdown",
   "metadata": {},
   "source": [
    "Using my regex function to remove all non number characters from the duration column so that I can turn it into an integer. "
   ]
  },
  {
   "cell_type": "code",
   "execution_count": 327,
   "metadata": {},
   "outputs": [],
   "source": [
    "def regex_func(x):\n",
    "    variable = (re.sub(r\"([a-zA-Z ])\", \n",
    "                       \"\", \n",
    "                       x))\n",
    "    return variable"
   ]
  },
  {
   "cell_type": "code",
   "execution_count": 328,
   "metadata": {},
   "outputs": [],
   "source": [
    "df_users['duration'] = df_users['duration'].apply(regex_func)"
   ]
  },
  {
   "cell_type": "code",
   "execution_count": 329,
   "metadata": {},
   "outputs": [],
   "source": [
    "df_users['duration'] = df_users.duration.values.astype('int64')"
   ]
  },
  {
   "cell_type": "code",
   "execution_count": 330,
   "metadata": {},
   "outputs": [
    {
     "data": {
      "text/html": [
       "<div>\n",
       "<style scoped>\n",
       "    .dataframe tbody tr th:only-of-type {\n",
       "        vertical-align: middle;\n",
       "    }\n",
       "\n",
       "    .dataframe tbody tr th {\n",
       "        vertical-align: top;\n",
       "    }\n",
       "\n",
       "    .dataframe thead th {\n",
       "        text-align: right;\n",
       "    }\n",
       "</style>\n",
       "<table border=\"1\" class=\"dataframe\">\n",
       "  <thead>\n",
       "    <tr style=\"text-align: right;\">\n",
       "      <th></th>\n",
       "      <th>count_comments</th>\n",
       "      <th>compound_mean</th>\n",
       "      <th>compound_sum</th>\n",
       "      <th>mean_score</th>\n",
       "      <th>sum_score</th>\n",
       "      <th>mean_interaction</th>\n",
       "      <th>start_date</th>\n",
       "      <th>end_date</th>\n",
       "      <th>duration</th>\n",
       "      <th>mean_word_count</th>\n",
       "      <th>mean_char_count</th>\n",
       "    </tr>\n",
       "    <tr>\n",
       "      <th>author</th>\n",
       "      <th></th>\n",
       "      <th></th>\n",
       "      <th></th>\n",
       "      <th></th>\n",
       "      <th></th>\n",
       "      <th></th>\n",
       "      <th></th>\n",
       "      <th></th>\n",
       "      <th></th>\n",
       "      <th></th>\n",
       "      <th></th>\n",
       "    </tr>\n",
       "  </thead>\n",
       "  <tbody>\n",
       "    <tr>\n",
       "      <th>-------_---</th>\n",
       "      <td>2</td>\n",
       "      <td>0.038450</td>\n",
       "      <td>0.0769</td>\n",
       "      <td>1.000000</td>\n",
       "      <td>2</td>\n",
       "      <td>0.038450</td>\n",
       "      <td>2019-01-06</td>\n",
       "      <td>2019-01-17</td>\n",
       "      <td>11</td>\n",
       "      <td>8.000000</td>\n",
       "      <td>39.000000</td>\n",
       "    </tr>\n",
       "    <tr>\n",
       "      <th>----_</th>\n",
       "      <td>3</td>\n",
       "      <td>0.549133</td>\n",
       "      <td>1.6474</td>\n",
       "      <td>67.333333</td>\n",
       "      <td>202</td>\n",
       "      <td>31.727433</td>\n",
       "      <td>2018-10-22</td>\n",
       "      <td>2018-10-22</td>\n",
       "      <td>0</td>\n",
       "      <td>14.333333</td>\n",
       "      <td>68.000000</td>\n",
       "    </tr>\n",
       "    <tr>\n",
       "      <th>---Alexander---</th>\n",
       "      <td>107</td>\n",
       "      <td>0.152577</td>\n",
       "      <td>16.3257</td>\n",
       "      <td>1.121495</td>\n",
       "      <td>120</td>\n",
       "      <td>0.172803</td>\n",
       "      <td>2018-12-16</td>\n",
       "      <td>2019-04-23</td>\n",
       "      <td>128</td>\n",
       "      <td>19.878505</td>\n",
       "      <td>108.121495</td>\n",
       "    </tr>\n",
       "    <tr>\n",
       "      <th>---KC---</th>\n",
       "      <td>1</td>\n",
       "      <td>-0.401900</td>\n",
       "      <td>-0.4019</td>\n",
       "      <td>1.000000</td>\n",
       "      <td>1</td>\n",
       "      <td>-0.401900</td>\n",
       "      <td>2019-03-15</td>\n",
       "      <td>2019-03-15</td>\n",
       "      <td>0</td>\n",
       "      <td>25.000000</td>\n",
       "      <td>122.000000</td>\n",
       "    </tr>\n",
       "    <tr>\n",
       "      <th>---Kaiser</th>\n",
       "      <td>5</td>\n",
       "      <td>0.021400</td>\n",
       "      <td>0.1070</td>\n",
       "      <td>1.000000</td>\n",
       "      <td>5</td>\n",
       "      <td>0.021400</td>\n",
       "      <td>2018-11-02</td>\n",
       "      <td>2018-11-05</td>\n",
       "      <td>3</td>\n",
       "      <td>97.000000</td>\n",
       "      <td>504.800000</td>\n",
       "    </tr>\n",
       "  </tbody>\n",
       "</table>\n",
       "</div>"
      ],
      "text/plain": [
       "                 count_comments  compound_mean  compound_sum  mean_score  \\\n",
       "author                                                                     \n",
       "-------_---                   2       0.038450        0.0769    1.000000   \n",
       "----_                         3       0.549133        1.6474   67.333333   \n",
       "---Alexander---             107       0.152577       16.3257    1.121495   \n",
       "---KC---                      1      -0.401900       -0.4019    1.000000   \n",
       "---Kaiser                     5       0.021400        0.1070    1.000000   \n",
       "\n",
       "                 sum_score  mean_interaction  start_date    end_date  \\\n",
       "author                                                                 \n",
       "-------_---              2          0.038450  2019-01-06  2019-01-17   \n",
       "----_                  202         31.727433  2018-10-22  2018-10-22   \n",
       "---Alexander---        120          0.172803  2018-12-16  2019-04-23   \n",
       "---KC---                 1         -0.401900  2019-03-15  2019-03-15   \n",
       "---Kaiser                5          0.021400  2018-11-02  2018-11-05   \n",
       "\n",
       "                 duration  mean_word_count  mean_char_count  \n",
       "author                                                       \n",
       "-------_---            11         8.000000        39.000000  \n",
       "----_                   0        14.333333        68.000000  \n",
       "---Alexander---       128        19.878505       108.121495  \n",
       "---KC---                0        25.000000       122.000000  \n",
       "---Kaiser               3        97.000000       504.800000  "
      ]
     },
     "execution_count": 330,
     "metadata": {},
     "output_type": "execute_result"
    }
   ],
   "source": [
    "df_users.head()"
   ]
  },
  {
   "cell_type": "code",
   "execution_count": 331,
   "metadata": {},
   "outputs": [
    {
     "data": {
      "text/plain": [
       "(128691, 11)"
      ]
     },
     "execution_count": 331,
     "metadata": {},
     "output_type": "execute_result"
    }
   ],
   "source": [
    "df_users.shape"
   ]
  },
  {
   "cell_type": "code",
   "execution_count": 332,
   "metadata": {},
   "outputs": [
    {
     "data": {
      "text/plain": [
       "(116532, 11)"
      ]
     },
     "execution_count": 332,
     "metadata": {},
     "output_type": "execute_result"
    }
   ],
   "source": [
    "df_users[(df_users['end_date'] < '2019-03-15') | (df_users['duration'] < 20)].shape"
   ]
  },
  {
   "cell_type": "code",
   "execution_count": 333,
   "metadata": {},
   "outputs": [
    {
     "data": {
      "text/plain": [
       "8810"
      ]
     },
     "execution_count": 333,
     "metadata": {},
     "output_type": "execute_result"
    }
   ],
   "source": [
    "df_daily['unique_authors'].max() - df_daily['unique_authors'].min()"
   ]
  },
  {
   "cell_type": "code",
   "execution_count": 334,
   "metadata": {},
   "outputs": [
    {
     "data": {
      "text/plain": [
       "9429"
      ]
     },
     "execution_count": 334,
     "metadata": {},
     "output_type": "execute_result"
    }
   ],
   "source": [
    "df_daily['unique_authors'].max()"
   ]
  },
  {
   "cell_type": "code",
   "execution_count": 335,
   "metadata": {},
   "outputs": [
    {
     "data": {
      "text/plain": [
       "619"
      ]
     },
     "execution_count": 335,
     "metadata": {},
     "output_type": "execute_result"
    }
   ],
   "source": [
    "df_daily['unique_authors'].min()"
   ]
  },
  {
   "cell_type": "code",
   "execution_count": 370,
   "metadata": {},
   "outputs": [
    {
     "data": {
      "text/plain": [
       "[<matplotlib.lines.Line2D at 0x1a5d73b908>]"
      ]
     },
     "execution_count": 370,
     "metadata": {},
     "output_type": "execute_result"
    },
    {
     "data": {
      "image/png": "[encoded data removed]",
      "text/plain": [
       "<Figure size 1080x504 with 1 Axes>"
      ]
     },
     "metadata": {
      "needs_background": "light"
     },
     "output_type": "display_data"
    }
   ],
   "source": [
    "plt.figure(figsize = (15,7))\n",
    "plt.title('Unique Authors', fontsize = 30)\n",
    "plt.xticks(fontsize = 20)\n",
    "plt.yticks(fontsize = 20)\n",
    "plt.ylabel('Count', fontsize = 25)\n",
    "plt.plot(df_daily['unique_authors'])"
   ]
  },
  {
   "cell_type": "markdown",
   "metadata": {},
   "source": [
    "Just wanted to examine the loss in user participation to get a feel for how many users churned. This looks like about 80-90% of users churned in the last six months. "
   ]
  },
  {
   "cell_type": "markdown",
   "metadata": {},
   "source": [
    "Creating a column called churn with a mask that says whether or not that customer churned. For my conditinal, I picked 30 days from when my data was pulled AND less than 5 days active on the subreddit. "
   ]
  },
  {
   "cell_type": "code",
   "execution_count": 337,
   "metadata": {},
   "outputs": [],
   "source": [
    "df_users['churn'] = np.where((df_users['end_date'] < '2019-03-15') | (df_users['duration'] < 5), 1, 0)"
   ]
  },
  {
   "cell_type": "markdown",
   "metadata": {},
   "source": [
    "After creating my churn column, I am examining my class distributions. As we can see below, my classes are pretty unbalanced. With a distribution of 90% to the target class (churn) and 10% to the zero class."
   ]
  },
  {
   "cell_type": "code",
   "execution_count": 338,
   "metadata": {},
   "outputs": [
    {
     "data": {
      "text/plain": [
       "1    0.900382\n",
       "0    0.099618\n",
       "Name: churn, dtype: float64"
      ]
     },
     "execution_count": 338,
     "metadata": {},
     "output_type": "execute_result"
    }
   ],
   "source": [
    "df_users.churn.value_counts(normalize = True)"
   ]
  },
  {
   "cell_type": "markdown",
   "metadata": {},
   "source": [
    "My distribution for churned users matches that of how many people churned based on the number of unique commenters on a daily basis showed in the graph above. "
   ]
  },
  {
   "cell_type": "code",
   "execution_count": 339,
   "metadata": {},
   "outputs": [
    {
     "data": {
      "text/html": [
       "<div>\n",
       "<style scoped>\n",
       "    .dataframe tbody tr th:only-of-type {\n",
       "        vertical-align: middle;\n",
       "    }\n",
       "\n",
       "    .dataframe tbody tr th {\n",
       "        vertical-align: top;\n",
       "    }\n",
       "\n",
       "    .dataframe thead th {\n",
       "        text-align: right;\n",
       "    }\n",
       "</style>\n",
       "<table border=\"1\" class=\"dataframe\">\n",
       "  <thead>\n",
       "    <tr style=\"text-align: right;\">\n",
       "      <th></th>\n",
       "      <th>count_comments</th>\n",
       "      <th>compound_mean</th>\n",
       "      <th>compound_sum</th>\n",
       "      <th>mean_score</th>\n",
       "      <th>sum_score</th>\n",
       "      <th>mean_interaction</th>\n",
       "      <th>start_date</th>\n",
       "      <th>end_date</th>\n",
       "      <th>duration</th>\n",
       "      <th>mean_word_count</th>\n",
       "      <th>mean_char_count</th>\n",
       "      <th>churn</th>\n",
       "    </tr>\n",
       "    <tr>\n",
       "      <th>author</th>\n",
       "      <th></th>\n",
       "      <th></th>\n",
       "      <th></th>\n",
       "      <th></th>\n",
       "      <th></th>\n",
       "      <th></th>\n",
       "      <th></th>\n",
       "      <th></th>\n",
       "      <th></th>\n",
       "      <th></th>\n",
       "      <th></th>\n",
       "      <th></th>\n",
       "    </tr>\n",
       "  </thead>\n",
       "  <tbody>\n",
       "    <tr>\n",
       "      <th>-------_---</th>\n",
       "      <td>2</td>\n",
       "      <td>0.038450</td>\n",
       "      <td>0.0769</td>\n",
       "      <td>1.000000</td>\n",
       "      <td>2</td>\n",
       "      <td>0.038450</td>\n",
       "      <td>2019-01-06</td>\n",
       "      <td>2019-01-17</td>\n",
       "      <td>11</td>\n",
       "      <td>8.000000</td>\n",
       "      <td>39.000000</td>\n",
       "      <td>1</td>\n",
       "    </tr>\n",
       "    <tr>\n",
       "      <th>----_</th>\n",
       "      <td>3</td>\n",
       "      <td>0.549133</td>\n",
       "      <td>1.6474</td>\n",
       "      <td>67.333333</td>\n",
       "      <td>202</td>\n",
       "      <td>31.727433</td>\n",
       "      <td>2018-10-22</td>\n",
       "      <td>2018-10-22</td>\n",
       "      <td>0</td>\n",
       "      <td>14.333333</td>\n",
       "      <td>68.000000</td>\n",
       "      <td>1</td>\n",
       "    </tr>\n",
       "    <tr>\n",
       "      <th>---Alexander---</th>\n",
       "      <td>107</td>\n",
       "      <td>0.152577</td>\n",
       "      <td>16.3257</td>\n",
       "      <td>1.121495</td>\n",
       "      <td>120</td>\n",
       "      <td>0.172803</td>\n",
       "      <td>2018-12-16</td>\n",
       "      <td>2019-04-23</td>\n",
       "      <td>128</td>\n",
       "      <td>19.878505</td>\n",
       "      <td>108.121495</td>\n",
       "      <td>0</td>\n",
       "    </tr>\n",
       "    <tr>\n",
       "      <th>---KC---</th>\n",
       "      <td>1</td>\n",
       "      <td>-0.401900</td>\n",
       "      <td>-0.4019</td>\n",
       "      <td>1.000000</td>\n",
       "      <td>1</td>\n",
       "      <td>-0.401900</td>\n",
       "      <td>2019-03-15</td>\n",
       "      <td>2019-03-15</td>\n",
       "      <td>0</td>\n",
       "      <td>25.000000</td>\n",
       "      <td>122.000000</td>\n",
       "      <td>1</td>\n",
       "    </tr>\n",
       "    <tr>\n",
       "      <th>---Kaiser</th>\n",
       "      <td>5</td>\n",
       "      <td>0.021400</td>\n",
       "      <td>0.1070</td>\n",
       "      <td>1.000000</td>\n",
       "      <td>5</td>\n",
       "      <td>0.021400</td>\n",
       "      <td>2018-11-02</td>\n",
       "      <td>2018-11-05</td>\n",
       "      <td>3</td>\n",
       "      <td>97.000000</td>\n",
       "      <td>504.800000</td>\n",
       "      <td>1</td>\n",
       "    </tr>\n",
       "  </tbody>\n",
       "</table>\n",
       "</div>"
      ],
      "text/plain": [
       "                 count_comments  compound_mean  compound_sum  mean_score  \\\n",
       "author                                                                     \n",
       "-------_---                   2       0.038450        0.0769    1.000000   \n",
       "----_                         3       0.549133        1.6474   67.333333   \n",
       "---Alexander---             107       0.152577       16.3257    1.121495   \n",
       "---KC---                      1      -0.401900       -0.4019    1.000000   \n",
       "---Kaiser                     5       0.021400        0.1070    1.000000   \n",
       "\n",
       "                 sum_score  mean_interaction  start_date    end_date  \\\n",
       "author                                                                 \n",
       "-------_---              2          0.038450  2019-01-06  2019-01-17   \n",
       "----_                  202         31.727433  2018-10-22  2018-10-22   \n",
       "---Alexander---        120          0.172803  2018-12-16  2019-04-23   \n",
       "---KC---                 1         -0.401900  2019-03-15  2019-03-15   \n",
       "---Kaiser                5          0.021400  2018-11-02  2018-11-05   \n",
       "\n",
       "                 duration  mean_word_count  mean_char_count  churn  \n",
       "author                                                              \n",
       "-------_---            11         8.000000        39.000000      1  \n",
       "----_                   0        14.333333        68.000000      1  \n",
       "---Alexander---       128        19.878505       108.121495      0  \n",
       "---KC---                0        25.000000       122.000000      1  \n",
       "---Kaiser               3        97.000000       504.800000      1  "
      ]
     },
     "execution_count": 339,
     "metadata": {},
     "output_type": "execute_result"
    }
   ],
   "source": [
    "df_users.head()"
   ]
  },
  {
   "cell_type": "markdown",
   "metadata": {},
   "source": [
    "Creating my X and y, dropping churn, start date, and end date. "
   ]
  },
  {
   "cell_type": "code",
   "execution_count": 340,
   "metadata": {},
   "outputs": [],
   "source": [
    "X = df_users.drop(['churn', 'start_date', 'end_date'], axis = 1)\n",
    "y = df_users['churn']"
   ]
  },
  {
   "cell_type": "markdown",
   "metadata": {},
   "source": [
    "Instantiating my XGBoost classifier and fitting it. "
   ]
  },
  {
   "cell_type": "markdown",
   "metadata": {},
   "source": [
    "The following example was inspired by [this post](https://www.datascience.com/blog/churn-prediction-python)"
   ]
  },
  {
   "cell_type": "code",
   "execution_count": 341,
   "metadata": {},
   "outputs": [
    {
     "data": {
      "text/plain": [
       "XGBClassifier(base_score=0.5, booster='gbtree', colsample_bylevel=1,\n",
       "       colsample_bytree=1, gamma=0, learning_rate=0.1, max_delta_step=0,\n",
       "       max_depth=3, min_child_weight=1, missing=None, n_estimators=100,\n",
       "       n_jobs=1, nthread=None, objective='binary:logistic', random_state=0,\n",
       "       reg_alpha=0, reg_lambda=1, scale_pos_weight=1, seed=None,\n",
       "       silent=True, subsample=1)"
      ]
     },
     "execution_count": 341,
     "metadata": {},
     "output_type": "execute_result"
    }
   ],
   "source": [
    "xgb = XGBClassifier()\n",
    "xgb.fit(X, y)"
   ]
  },
  {
   "cell_type": "markdown",
   "metadata": {},
   "source": [
    "Using XGBoost plot called 'plot_tree' to plot my churn tree. "
   ]
  },
  {
   "cell_type": "code",
   "execution_count": 342,
   "metadata": {},
   "outputs": [
    {
     "data": {
      "image/png": "[encoded data removed]",
      "text/plain": [
       "<Figure size 2880x2160 with 1 Axes>"
      ]
     },
     "metadata": {
      "needs_background": "light"
     },
     "output_type": "display_data"
    },
    {
     "data": {
      "text/plain": [
       "<Figure size 432x288 with 0 Axes>"
      ]
     },
     "metadata": {},
     "output_type": "display_data"
    }
   ],
   "source": [
    "# plot single tree\n",
    "fig, ax = plt.subplots(figsize = (40,30))\n",
    "plot_tree(xgb, ax=ax)\n",
    "plt.title('Churn Tree', fontsize = 40)\n",
    "plt.show()\n",
    "plt.savefig('../plots/xgb_churn_tree')"
   ]
  },
  {
   "cell_type": "markdown",
   "metadata": {},
   "source": [
    "Essentially, this graph takes certain features, in this case the number of comments as the biggest indicator of whether or not someone has churned, and sets a condition at each step. From there, it goes down to the next split and looks at another condition, and so on. "
   ]
  },
  {
   "cell_type": "code",
   "execution_count": 343,
   "metadata": {},
   "outputs": [],
   "source": [
    "X_train, X_test, y_train, y_test = train_test_split(X,\n",
    "                                                    y,\n",
    "                                                    random_state = 13,\n",
    "                                                    stratify = y)"
   ]
  },
  {
   "cell_type": "code",
   "execution_count": 344,
   "metadata": {},
   "outputs": [
    {
     "data": {
      "text/plain": [
       "XGBClassifier(base_score=0.5, booster='gbtree', colsample_bylevel=1,\n",
       "       colsample_bytree=1, gamma=0, learning_rate=0.1, max_delta_step=0,\n",
       "       max_depth=3, min_child_weight=1, missing=None, n_estimators=100,\n",
       "       n_jobs=1, nthread=None, objective='binary:logistic', random_state=0,\n",
       "       reg_alpha=0, reg_lambda=1, scale_pos_weight=1, seed=None,\n",
       "       silent=True, subsample=1)"
      ]
     },
     "execution_count": 344,
     "metadata": {},
     "output_type": "execute_result"
    }
   ],
   "source": [
    "xgb = XGBClassifier()\n",
    "xgb.fit(X_train, y_train)"
   ]
  },
  {
   "cell_type": "code",
   "execution_count": 345,
   "metadata": {},
   "outputs": [],
   "source": [
    "preds = xgb.predict(X_test)"
   ]
  },
  {
   "cell_type": "code",
   "execution_count": 346,
   "metadata": {},
   "outputs": [
    {
     "data": {
      "text/plain": [
       "0.9474404003356852"
      ]
     },
     "execution_count": 346,
     "metadata": {},
     "output_type": "execute_result"
    }
   ],
   "source": [
    "accuracy_score(y_test, preds)"
   ]
  },
  {
   "cell_type": "markdown",
   "metadata": {},
   "source": [
    "Despite my classes being unbalanced, my xgboost model can still predict with 95% accuracy who will churn and who will not. It takes into account their duration, and from there asks different questions about their reddit score."
   ]
  },
  {
   "cell_type": "markdown",
   "metadata": {},
   "source": [
    "Setting up a confusion matrix."
   ]
  },
  {
   "cell_type": "code",
   "execution_count": 347,
   "metadata": {},
   "outputs": [],
   "source": [
    "cm = confusion_matrix(y_test, preds)"
   ]
  },
  {
   "cell_type": "code",
   "execution_count": 348,
   "metadata": {},
   "outputs": [],
   "source": [
    "cm_df = pd.DataFrame(cm, columns = ['pred_neg', 'pred_pos'], index = ['actual_neg', 'actual_pos'])"
   ]
  },
  {
   "cell_type": "code",
   "execution_count": 349,
   "metadata": {},
   "outputs": [
    {
     "data": {
      "text/html": [
       "<div>\n",
       "<style scoped>\n",
       "    .dataframe tbody tr th:only-of-type {\n",
       "        vertical-align: middle;\n",
       "    }\n",
       "\n",
       "    .dataframe tbody tr th {\n",
       "        vertical-align: top;\n",
       "    }\n",
       "\n",
       "    .dataframe thead th {\n",
       "        text-align: right;\n",
       "    }\n",
       "</style>\n",
       "<table border=\"1\" class=\"dataframe\">\n",
       "  <thead>\n",
       "    <tr style=\"text-align: right;\">\n",
       "      <th></th>\n",
       "      <th>pred_neg</th>\n",
       "      <th>pred_pos</th>\n",
       "    </tr>\n",
       "  </thead>\n",
       "  <tbody>\n",
       "    <tr>\n",
       "      <th>actual_neg</th>\n",
       "      <td>1631</td>\n",
       "      <td>1574</td>\n",
       "    </tr>\n",
       "    <tr>\n",
       "      <th>actual_pos</th>\n",
       "      <td>117</td>\n",
       "      <td>28851</td>\n",
       "    </tr>\n",
       "  </tbody>\n",
       "</table>\n",
       "</div>"
      ],
      "text/plain": [
       "            pred_neg  pred_pos\n",
       "actual_neg      1631      1574\n",
       "actual_pos       117     28851"
      ]
     },
     "execution_count": 349,
     "metadata": {},
     "output_type": "execute_result"
    }
   ],
   "source": [
    "cm_df"
   ]
  },
  {
   "cell_type": "markdown",
   "metadata": {},
   "source": [
    "Instantiating my CoxPHFitter. This will help determine how long each user is likely to stay engaged based on the rest of the features associated with them. "
   ]
  },
  {
   "cell_type": "code",
   "execution_count": 350,
   "metadata": {},
   "outputs": [],
   "source": [
    "cph = CoxPHFitter()"
   ]
  },
  {
   "cell_type": "markdown",
   "metadata": {},
   "source": [
    "Removing the start and end date from my df for X."
   ]
  },
  {
   "cell_type": "code",
   "execution_count": 351,
   "metadata": {},
   "outputs": [],
   "source": [
    "X = df_users.drop(['start_date', 'end_date'], axis = 1)"
   ]
  },
  {
   "cell_type": "markdown",
   "metadata": {},
   "source": [
    "Fitting my cox PH fitter, and setting my duration column as duration, and my churn column as my event column. From here it will calculate the likelihood of someone remaining for certain amounts of time. "
   ]
  },
  {
   "cell_type": "code",
   "execution_count": 352,
   "metadata": {},
   "outputs": [
    {
     "name": "stdout",
     "output_type": "stream",
     "text": [
      "Iteration 1: norm_delta = 0.30850, step_size = 0.9500, ll = -1272374.90450, newton_decrement = 2639.50628, seconds_since_start = 0.1\n",
      "Iteration 2: norm_delta = 0.31782, step_size = 0.9500, ll = -1269670.94168, newton_decrement = 4584.12866, seconds_since_start = 0.2\n",
      "Iteration 3: norm_delta = 0.56407, step_size = 0.9500, ll = -1263628.74172, newton_decrement = 3644.15464, seconds_since_start = 0.3\n",
      "Iteration 4: norm_delta = 0.60904, step_size = 0.9310, ll = -1259054.53597, newton_decrement = 1566.60878, seconds_since_start = 0.4\n",
      "Iteration 5: norm_delta = 0.33160, step_size = 0.9124, ll = -1257247.30372, newton_decrement = 266.58631, seconds_since_start = 0.6\n",
      "Iteration 6: norm_delta = 0.08243, step_size = 0.8941, ll = -1256962.96477, newton_decrement = 19.05151, seconds_since_start = 0.7\n",
      "Iteration 7: norm_delta = 0.02076, step_size = 1.0000, ll = -1256942.66595, newton_decrement = 2.25266, seconds_since_start = 0.7\n",
      "Iteration 8: norm_delta = 0.00624, step_size = 1.0000, ll = -1256940.10528, newton_decrement = 0.15456, seconds_since_start = 0.8\n",
      "Iteration 9: norm_delta = 0.00059, step_size = 1.0000, ll = -1256939.94240, newton_decrement = 0.00115, seconds_since_start = 0.9\n",
      "Iteration 10: norm_delta = 0.00000, step_size = 1.0000, ll = -1256939.94124, newton_decrement = 0.00000, seconds_since_start = 1.0\n",
      "Convergence completed after 10 iterations.\n"
     ]
    },
    {
     "data": {
      "text/plain": [
       "<lifelines.CoxPHFitter: fitted with 128691 observations, 12820 censored>"
      ]
     },
     "execution_count": 352,
     "metadata": {},
     "output_type": "execute_result"
    }
   ],
   "source": [
    "cph.fit(X, duration_col = 'duration', event_col = 'churn', show_progress = True)"
   ]
  },
  {
   "cell_type": "markdown",
   "metadata": {},
   "source": [
    "Before getting into different coefficients, I will explain Hazard. Hazard is essentially, the rate at which something dies, a user stops using, etc. The hazard function estimates the likelihood of survival to a certain point in time based on its survival at the previous point in time. "
   ]
  },
  {
   "cell_type": "code",
   "execution_count": 353,
   "metadata": {},
   "outputs": [
    {
     "name": "stdout",
     "output_type": "stream",
     "text": [
      "<lifelines.CoxPHFitter: fitted with 128691 observations, 12820 censored>\n",
      "      duration col = 'duration'\n",
      "         event col = 'churn'\n",
      "number of subjects = 128691\n",
      "  number of events = 115871\n",
      "    log-likelihood = -1256939.94\n",
      "  time fit was run = 2019-05-17 19:29:32 UTC\n",
      "\n",
      "---\n",
      "                  coef exp(coef)  se(coef)      z      p  -log2(p)  lower 0.95  upper 0.95\n",
      "count_comments   -0.04      0.96      0.00 -95.50 <0.005       inf       -0.04       -0.04\n",
      "compound_mean     0.09      1.09      0.01   8.18 <0.005     51.61        0.07        0.11\n",
      "compound_sum     -0.03      0.97      0.00 -15.74 <0.005    183.10       -0.03       -0.03\n",
      "mean_score       -0.00      1.00      0.00  -2.10   0.04      4.82       -0.00       -0.00\n",
      "sum_score        -0.00      1.00      0.00  -0.04   0.97      0.04       -0.00        0.00\n",
      "mean_interaction  0.00      1.00      0.00   2.29   0.02      5.49        0.00        0.00\n",
      "mean_word_count  -0.00      1.00      0.00  -3.07 <0.005      8.88       -0.00       -0.00\n",
      "mean_char_count   0.00      1.00      0.00   5.95 <0.005     28.49        0.00        0.00\n",
      "---\n",
      "Concordance = 0.86\n",
      "Log-likelihood ratio test = 30869.93 on 8 df, -log2(p)=inf\n"
     ]
    }
   ],
   "source": [
    "cph.print_summary()"
   ]
  },
  {
   "cell_type": "code",
   "execution_count": 354,
   "metadata": {},
   "outputs": [
    {
     "data": {
      "text/plain": [
       "count_comments     -0.037441\n",
       "compound_mean       0.086709\n",
       "compound_sum       -0.029744\n",
       "mean_score         -0.000964\n",
       "sum_score          -0.000003\n",
       "mean_interaction    0.001520\n",
       "mean_word_count    -0.001123\n",
       "mean_char_count     0.000355\n",
       "dtype: float64"
      ]
     },
     "execution_count": 354,
     "metadata": {},
     "output_type": "execute_result"
    }
   ],
   "source": [
    "cph.hazards_"
   ]
  },
  {
   "cell_type": "markdown",
   "metadata": {},
   "source": [
    "These are the coefficients in the hazard function for each user. So, a one unit change in each of these will result in an exp(x) increase in the baseline hazards (below). The baseline hazards are the hazards of each user. The combination of these two things will determine when a user drops off, ie when they are no longer satisfied with the game. "
   ]
  },
  {
   "cell_type": "code",
   "execution_count": 355,
   "metadata": {},
   "outputs": [
    {
     "data": {
      "text/html": [
       "<div>\n",
       "<style scoped>\n",
       "    .dataframe tbody tr th:only-of-type {\n",
       "        vertical-align: middle;\n",
       "    }\n",
       "\n",
       "    .dataframe tbody tr th {\n",
       "        vertical-align: top;\n",
       "    }\n",
       "\n",
       "    .dataframe thead th {\n",
       "        text-align: right;\n",
       "    }\n",
       "</style>\n",
       "<table border=\"1\" class=\"dataframe\">\n",
       "  <thead>\n",
       "    <tr style=\"text-align: right;\">\n",
       "      <th></th>\n",
       "      <th>baseline hazard</th>\n",
       "    </tr>\n",
       "    <tr>\n",
       "      <th>T</th>\n",
       "      <th></th>\n",
       "    </tr>\n",
       "  </thead>\n",
       "  <tbody>\n",
       "    <tr>\n",
       "      <th>0.0</th>\n",
       "      <td>0.387918</td>\n",
       "    </tr>\n",
       "    <tr>\n",
       "      <th>1.0</th>\n",
       "      <td>0.056085</td>\n",
       "    </tr>\n",
       "    <tr>\n",
       "      <th>2.0</th>\n",
       "      <td>0.028274</td>\n",
       "    </tr>\n",
       "    <tr>\n",
       "      <th>3.0</th>\n",
       "      <td>0.023609</td>\n",
       "    </tr>\n",
       "    <tr>\n",
       "      <th>4.0</th>\n",
       "      <td>0.022503</td>\n",
       "    </tr>\n",
       "    <tr>\n",
       "      <th>5.0</th>\n",
       "      <td>0.019216</td>\n",
       "    </tr>\n",
       "    <tr>\n",
       "      <th>6.0</th>\n",
       "      <td>0.018922</td>\n",
       "    </tr>\n",
       "    <tr>\n",
       "      <th>7.0</th>\n",
       "      <td>0.020696</td>\n",
       "    </tr>\n",
       "    <tr>\n",
       "      <th>8.0</th>\n",
       "      <td>0.019109</td>\n",
       "    </tr>\n",
       "    <tr>\n",
       "      <th>9.0</th>\n",
       "      <td>0.017976</td>\n",
       "    </tr>\n",
       "    <tr>\n",
       "      <th>10.0</th>\n",
       "      <td>0.015554</td>\n",
       "    </tr>\n",
       "  </tbody>\n",
       "</table>\n",
       "</div>"
      ],
      "text/plain": [
       "      baseline hazard\n",
       "T                    \n",
       "0.0          0.387918\n",
       "1.0          0.056085\n",
       "2.0          0.028274\n",
       "3.0          0.023609\n",
       "4.0          0.022503\n",
       "5.0          0.019216\n",
       "6.0          0.018922\n",
       "7.0          0.020696\n",
       "8.0          0.019109\n",
       "9.0          0.017976\n",
       "10.0         0.015554"
      ]
     },
     "execution_count": 355,
     "metadata": {},
     "output_type": "execute_result"
    }
   ],
   "source": [
    "cph.baseline_hazard_[:10]"
   ]
  },
  {
   "cell_type": "code",
   "execution_count": 356,
   "metadata": {},
   "outputs": [
    {
     "data": {
      "text/plain": [
       "-1256939.9412380967"
      ]
     },
     "execution_count": 356,
     "metadata": {},
     "output_type": "execute_result"
    }
   ],
   "source": [
    "cph._log_likelihood"
   ]
  },
  {
   "cell_type": "code",
   "execution_count": 357,
   "metadata": {},
   "outputs": [
    {
     "data": {
      "text/plain": [
       "array([[ 1.53692946e-07,  6.88548637e-07, -1.88491406e-07,\n",
       "         4.42638130e-08, -1.12802263e-08, -1.29698705e-08,\n",
       "        -2.73791036e-09,  2.08832206e-10],\n",
       "       [ 6.88548637e-07,  1.12452496e-04, -1.15267964e-05,\n",
       "         1.63166599e-07, -9.20005244e-09, -9.09975458e-07,\n",
       "         3.88500546e-08, -6.59228969e-09],\n",
       "       [-1.88491406e-07, -1.15267964e-05,  3.56945272e-06,\n",
       "         4.32672483e-09, -2.69967689e-10, -3.63356469e-09,\n",
       "        -4.89031068e-09,  1.24998755e-09],\n",
       "       [ 4.42638130e-08,  1.63166599e-07,  4.32672483e-09,\n",
       "         2.10024140e-07, -2.03130456e-08, -9.34740968e-08,\n",
       "         6.12553176e-10, -3.76783886e-11],\n",
       "       [-1.12802263e-08, -9.20005244e-09, -2.69967689e-10,\n",
       "        -2.03130456e-08,  5.09140606e-09,  6.16070820e-09,\n",
       "         5.48078149e-11, -8.83870403e-12],\n",
       "       [-1.29698705e-08, -9.09975458e-07, -3.63356469e-09,\n",
       "        -9.34740968e-08,  6.16070820e-09,  4.42276220e-07,\n",
       "        -1.28625549e-10,  2.42130454e-11],\n",
       "       [-2.73791036e-09,  3.88500546e-08, -4.89031068e-09,\n",
       "         6.12553176e-10,  5.48078149e-11, -1.28625549e-10,\n",
       "         1.33467407e-07, -2.06040065e-08],\n",
       "       [ 2.08832206e-10, -6.59228969e-09,  1.24998755e-09,\n",
       "        -3.76783886e-11, -8.83870403e-12,  2.42130454e-11,\n",
       "        -2.06040065e-08,  3.54898033e-09]])"
      ]
     },
     "execution_count": 357,
     "metadata": {},
     "output_type": "execute_result"
    }
   ],
   "source": [
    "cph.variance_matrix_"
   ]
  },
  {
   "cell_type": "markdown",
   "metadata": {},
   "source": [
    "Above, we can see the variance matrix of each coefficient, as well as the value of  maximum log likelihood.\n",
    "\n",
    "Below, we can see each user's probability of surviving a certain length of time based on the different features in the dataset. "
   ]
  },
  {
   "cell_type": "code",
   "execution_count": 358,
   "metadata": {},
   "outputs": [
    {
     "data": {
      "text/html": [
       "<div>\n",
       "<style scoped>\n",
       "    .dataframe tbody tr th:only-of-type {\n",
       "        vertical-align: middle;\n",
       "    }\n",
       "\n",
       "    .dataframe tbody tr th {\n",
       "        vertical-align: top;\n",
       "    }\n",
       "\n",
       "    .dataframe thead th {\n",
       "        text-align: right;\n",
       "    }\n",
       "</style>\n",
       "<table border=\"1\" class=\"dataframe\">\n",
       "  <thead>\n",
       "    <tr style=\"text-align: right;\">\n",
       "      <th></th>\n",
       "      <th>-------_---</th>\n",
       "      <th>----_</th>\n",
       "      <th>---Alexander---</th>\n",
       "      <th>---KC---</th>\n",
       "      <th>---Kaiser</th>\n",
       "      <th>---__-_----___-_</th>\n",
       "      <th>--Aux--</th>\n",
       "      <th>--ChrisPBacon</th>\n",
       "      <th>--Clintoris--</th>\n",
       "      <th>--CrusaderFTW</th>\n",
       "      <th>...</th>\n",
       "      <th>zzurxx</th>\n",
       "      <th>zzzHooligan</th>\n",
       "      <th>zzzMARZBARzzz</th>\n",
       "      <th>zzz_sleep_zzz</th>\n",
       "      <th>zzzanimal</th>\n",
       "      <th>zzzorn</th>\n",
       "      <th>zzzornbringer</th>\n",
       "      <th>zzzryanzzz</th>\n",
       "      <th>zzzyx3</th>\n",
       "      <th>zzzz271</th>\n",
       "    </tr>\n",
       "  </thead>\n",
       "  <tbody>\n",
       "    <tr>\n",
       "      <th>5.0</th>\n",
       "      <td>0.469152</td>\n",
       "      <td>0.487840</td>\n",
       "      <td>0.990694</td>\n",
       "      <td>0.460899</td>\n",
       "      <td>0.486608</td>\n",
       "      <td>0.998236</td>\n",
       "      <td>0.465449</td>\n",
       "      <td>0.432542</td>\n",
       "      <td>0.494417</td>\n",
       "      <td>0.536050</td>\n",
       "      <td>...</td>\n",
       "      <td>0.549418</td>\n",
       "      <td>0.568216</td>\n",
       "      <td>0.450030</td>\n",
       "      <td>0.583958</td>\n",
       "      <td>0.734095</td>\n",
       "      <td>0.671064</td>\n",
       "      <td>0.451981</td>\n",
       "      <td>0.778609</td>\n",
       "      <td>0.465088</td>\n",
       "      <td>0.480259</td>\n",
       "    </tr>\n",
       "    <tr>\n",
       "      <th>25.0</th>\n",
       "      <td>0.301705</td>\n",
       "      <td>0.320953</td>\n",
       "      <td>0.985305</td>\n",
       "      <td>0.293345</td>\n",
       "      <td>0.319671</td>\n",
       "      <td>0.997208</td>\n",
       "      <td>0.297943</td>\n",
       "      <td>0.265287</td>\n",
       "      <td>0.327831</td>\n",
       "      <td>0.372602</td>\n",
       "      <td>...</td>\n",
       "      <td>0.387420</td>\n",
       "      <td>0.408616</td>\n",
       "      <td>0.282467</td>\n",
       "      <td>0.426684</td>\n",
       "      <td>0.612974</td>\n",
       "      <td>0.531755</td>\n",
       "      <td>0.284409</td>\n",
       "      <td>0.672857</td>\n",
       "      <td>0.297578</td>\n",
       "      <td>0.313092</td>\n",
       "    </tr>\n",
       "    <tr>\n",
       "      <th>50.0</th>\n",
       "      <td>0.187470</td>\n",
       "      <td>0.204388</td>\n",
       "      <td>0.979531</td>\n",
       "      <td>0.180252</td>\n",
       "      <td>0.203248</td>\n",
       "      <td>0.996102</td>\n",
       "      <td>0.184212</td>\n",
       "      <td>0.156631</td>\n",
       "      <td>0.210533</td>\n",
       "      <td>0.251762</td>\n",
       "      <td>...</td>\n",
       "      <td>0.265860</td>\n",
       "      <td>0.286400</td>\n",
       "      <td>0.170983</td>\n",
       "      <td>0.304246</td>\n",
       "      <td>0.504705</td>\n",
       "      <td>0.413804</td>\n",
       "      <td>0.172627</td>\n",
       "      <td>0.574901</td>\n",
       "      <td>0.183896</td>\n",
       "      <td>0.197428</td>\n",
       "    </tr>\n",
       "    <tr>\n",
       "      <th>75.0</th>\n",
       "      <td>0.118548</td>\n",
       "      <td>0.132340</td>\n",
       "      <td>0.974000</td>\n",
       "      <td>0.112766</td>\n",
       "      <td>0.131401</td>\n",
       "      <td>0.995038</td>\n",
       "      <td>0.115930</td>\n",
       "      <td>0.094292</td>\n",
       "      <td>0.137429</td>\n",
       "      <td>0.172588</td>\n",
       "      <td>...</td>\n",
       "      <td>0.184991</td>\n",
       "      <td>0.203385</td>\n",
       "      <td>0.105432</td>\n",
       "      <td>0.219663</td>\n",
       "      <td>0.418547</td>\n",
       "      <td>0.325006</td>\n",
       "      <td>0.106725</td>\n",
       "      <td>0.494062</td>\n",
       "      <td>0.115678</td>\n",
       "      <td>0.126627</td>\n",
       "    </tr>\n",
       "    <tr>\n",
       "      <th>150.0</th>\n",
       "      <td>0.019353</td>\n",
       "      <td>0.023724</td>\n",
       "      <td>0.952434</td>\n",
       "      <td>0.017643</td>\n",
       "      <td>0.023413</td>\n",
       "      <td>0.990840</td>\n",
       "      <td>0.018570</td>\n",
       "      <td>0.012672</td>\n",
       "      <td>0.025439</td>\n",
       "      <td>0.038772</td>\n",
       "      <td>...</td>\n",
       "      <td>0.044083</td>\n",
       "      <td>0.052533</td>\n",
       "      <td>0.015580</td>\n",
       "      <td>0.060574</td>\n",
       "      <td>0.199640</td>\n",
       "      <td>0.125034</td>\n",
       "      <td>0.015935</td>\n",
       "      <td>0.271340</td>\n",
       "      <td>0.018495</td>\n",
       "      <td>0.021864</td>\n",
       "    </tr>\n",
       "  </tbody>\n",
       "</table>\n",
       "<p>5 rows × 128691 columns</p>\n",
       "</div>"
      ],
      "text/plain": [
       "       -------_---     ----_  ---Alexander---  ---KC---  ---Kaiser  \\\n",
       "5.0       0.469152  0.487840         0.990694  0.460899   0.486608   \n",
       "25.0      0.301705  0.320953         0.985305  0.293345   0.319671   \n",
       "50.0      0.187470  0.204388         0.979531  0.180252   0.203248   \n",
       "75.0      0.118548  0.132340         0.974000  0.112766   0.131401   \n",
       "150.0     0.019353  0.023724         0.952434  0.017643   0.023413   \n",
       "\n",
       "       ---__-_----___-_   --Aux--  --ChrisPBacon  --Clintoris--  \\\n",
       "5.0            0.998236  0.465449       0.432542       0.494417   \n",
       "25.0           0.997208  0.297943       0.265287       0.327831   \n",
       "50.0           0.996102  0.184212       0.156631       0.210533   \n",
       "75.0           0.995038  0.115930       0.094292       0.137429   \n",
       "150.0          0.990840  0.018570       0.012672       0.025439   \n",
       "\n",
       "       --CrusaderFTW  ...    zzurxx  zzzHooligan  zzzMARZBARzzz  \\\n",
       "5.0         0.536050  ...  0.549418     0.568216       0.450030   \n",
       "25.0        0.372602  ...  0.387420     0.408616       0.282467   \n",
       "50.0        0.251762  ...  0.265860     0.286400       0.170983   \n",
       "75.0        0.172588  ...  0.184991     0.203385       0.105432   \n",
       "150.0       0.038772  ...  0.044083     0.052533       0.015580   \n",
       "\n",
       "       zzz_sleep_zzz  zzzanimal    zzzorn  zzzornbringer  zzzryanzzz  \\\n",
       "5.0         0.583958   0.734095  0.671064       0.451981    0.778609   \n",
       "25.0        0.426684   0.612974  0.531755       0.284409    0.672857   \n",
       "50.0        0.304246   0.504705  0.413804       0.172627    0.574901   \n",
       "75.0        0.219663   0.418547  0.325006       0.106725    0.494062   \n",
       "150.0       0.060574   0.199640  0.125034       0.015935    0.271340   \n",
       "\n",
       "         zzzyx3   zzzz271  \n",
       "5.0    0.465088  0.480259  \n",
       "25.0   0.297578  0.313092  \n",
       "50.0   0.183896  0.197428  \n",
       "75.0   0.115678  0.126627  \n",
       "150.0  0.018495  0.021864  \n",
       "\n",
       "[5 rows x 128691 columns]"
      ]
     },
     "execution_count": 358,
     "metadata": {},
     "output_type": "execute_result"
    }
   ],
   "source": [
    "cph.predict_survival_function(X, times = [5., 25., 50., 75, 150])"
   ]
  },
  {
   "cell_type": "code",
   "execution_count": 359,
   "metadata": {},
   "outputs": [],
   "source": [
    "user_survival = cph.predict_survival_function(X)"
   ]
  },
  {
   "cell_type": "markdown",
   "metadata": {},
   "source": [
    "Below is the accuracy score of the cox ph fitter model. "
   ]
  },
  {
   "cell_type": "code",
   "execution_count": 360,
   "metadata": {},
   "outputs": [
    {
     "data": {
      "text/plain": [
       "0.8561631729260637"
      ]
     },
     "execution_count": 360,
     "metadata": {},
     "output_type": "execute_result"
    }
   ],
   "source": [
    "cph.score_"
   ]
  },
  {
   "cell_type": "code",
   "execution_count": 361,
   "metadata": {},
   "outputs": [
    {
     "data": {
      "text/html": [
       "<div>\n",
       "<style scoped>\n",
       "    .dataframe tbody tr th:only-of-type {\n",
       "        vertical-align: middle;\n",
       "    }\n",
       "\n",
       "    .dataframe tbody tr th {\n",
       "        vertical-align: top;\n",
       "    }\n",
       "\n",
       "    .dataframe thead th {\n",
       "        text-align: right;\n",
       "    }\n",
       "</style>\n",
       "<table border=\"1\" class=\"dataframe\">\n",
       "  <thead>\n",
       "    <tr style=\"text-align: right;\">\n",
       "      <th></th>\n",
       "      <th>0.5</th>\n",
       "    </tr>\n",
       "  </thead>\n",
       "  <tbody>\n",
       "    <tr>\n",
       "      <th>-------_---</th>\n",
       "      <td>3.0</td>\n",
       "    </tr>\n",
       "    <tr>\n",
       "      <th>----_</th>\n",
       "      <td>5.0</td>\n",
       "    </tr>\n",
       "    <tr>\n",
       "      <th>---Alexander---</th>\n",
       "      <td>inf</td>\n",
       "    </tr>\n",
       "    <tr>\n",
       "      <th>---KC---</th>\n",
       "      <td>3.0</td>\n",
       "    </tr>\n",
       "    <tr>\n",
       "      <th>---Kaiser</th>\n",
       "      <td>4.0</td>\n",
       "    </tr>\n",
       "    <tr>\n",
       "      <th>---__-_----___-_</th>\n",
       "      <td>inf</td>\n",
       "    </tr>\n",
       "    <tr>\n",
       "      <th>--Aux--</th>\n",
       "      <td>3.0</td>\n",
       "    </tr>\n",
       "    <tr>\n",
       "      <th>--ChrisPBacon</th>\n",
       "      <td>2.0</td>\n",
       "    </tr>\n",
       "    <tr>\n",
       "      <th>--Clintoris--</th>\n",
       "      <td>5.0</td>\n",
       "    </tr>\n",
       "    <tr>\n",
       "      <th>--CrusaderFTW</th>\n",
       "      <td>9.0</td>\n",
       "    </tr>\n",
       "    <tr>\n",
       "      <th>--Dawn--</th>\n",
       "      <td>11.0</td>\n",
       "    </tr>\n",
       "    <tr>\n",
       "      <th>--DeusVult--</th>\n",
       "      <td>8.0</td>\n",
       "    </tr>\n",
       "    <tr>\n",
       "      <th>--DreadPirateRoberts</th>\n",
       "      <td>36.0</td>\n",
       "    </tr>\n",
       "    <tr>\n",
       "      <th>--Equinox--</th>\n",
       "      <td>3.0</td>\n",
       "    </tr>\n",
       "    <tr>\n",
       "      <th>--Happy--</th>\n",
       "      <td>7.0</td>\n",
       "    </tr>\n",
       "    <tr>\n",
       "      <th>--Kenshiro--</th>\n",
       "      <td>16.0</td>\n",
       "    </tr>\n",
       "    <tr>\n",
       "      <th>--LilNut--</th>\n",
       "      <td>23.0</td>\n",
       "    </tr>\n",
       "    <tr>\n",
       "      <th>--M0ses--</th>\n",
       "      <td>3.0</td>\n",
       "    </tr>\n",
       "    <tr>\n",
       "      <th>--ME-Vgmol2-</th>\n",
       "      <td>8.0</td>\n",
       "    </tr>\n",
       "    <tr>\n",
       "      <th>--PickleRick</th>\n",
       "      <td>2.0</td>\n",
       "    </tr>\n",
       "    <tr>\n",
       "      <th>--Rave--</th>\n",
       "      <td>4.0</td>\n",
       "    </tr>\n",
       "    <tr>\n",
       "      <th>--Raz--</th>\n",
       "      <td>3.0</td>\n",
       "    </tr>\n",
       "    <tr>\n",
       "      <th>--SicParvisMagnA--</th>\n",
       "      <td>4.0</td>\n",
       "    </tr>\n",
       "    <tr>\n",
       "      <th>--UnBanable--</th>\n",
       "      <td>2.0</td>\n",
       "    </tr>\n",
       "    <tr>\n",
       "      <th>--Winchester--</th>\n",
       "      <td>3.0</td>\n",
       "    </tr>\n",
       "    <tr>\n",
       "      <th>--XxNoobSlayer69xX--</th>\n",
       "      <td>3.0</td>\n",
       "    </tr>\n",
       "    <tr>\n",
       "      <th>--__________--</th>\n",
       "      <td>3.0</td>\n",
       "    </tr>\n",
       "    <tr>\n",
       "      <th>--cooper--</th>\n",
       "      <td>24.0</td>\n",
       "    </tr>\n",
       "    <tr>\n",
       "      <th>--jdmasf_ck--</th>\n",
       "      <td>inf</td>\n",
       "    </tr>\n",
       "    <tr>\n",
       "      <th>--llll-----llll--</th>\n",
       "      <td>37.0</td>\n",
       "    </tr>\n",
       "    <tr>\n",
       "      <th>...</th>\n",
       "      <td>...</td>\n",
       "    </tr>\n",
       "    <tr>\n",
       "      <th>zylent</th>\n",
       "      <td>1.0</td>\n",
       "    </tr>\n",
       "    <tr>\n",
       "      <th>zynjnbpt</th>\n",
       "      <td>2.0</td>\n",
       "    </tr>\n",
       "    <tr>\n",
       "      <th>zynxedd</th>\n",
       "      <td>3.0</td>\n",
       "    </tr>\n",
       "    <tr>\n",
       "      <th>zynza</th>\n",
       "      <td>inf</td>\n",
       "    </tr>\n",
       "    <tr>\n",
       "      <th>zyocuh</th>\n",
       "      <td>5.0</td>\n",
       "    </tr>\n",
       "    <tr>\n",
       "      <th>zyphe84</th>\n",
       "      <td>3.0</td>\n",
       "    </tr>\n",
       "    <tr>\n",
       "      <th>zyrs86</th>\n",
       "      <td>3.0</td>\n",
       "    </tr>\n",
       "    <tr>\n",
       "      <th>zythane47</th>\n",
       "      <td>4.0</td>\n",
       "    </tr>\n",
       "    <tr>\n",
       "      <th>zyzt</th>\n",
       "      <td>2.0</td>\n",
       "    </tr>\n",
       "    <tr>\n",
       "      <th>zyzzyva17</th>\n",
       "      <td>21.0</td>\n",
       "    </tr>\n",
       "    <tr>\n",
       "      <th>zzGambit</th>\n",
       "      <td>3.0</td>\n",
       "    </tr>\n",
       "    <tr>\n",
       "      <th>zzThrain</th>\n",
       "      <td>3.0</td>\n",
       "    </tr>\n",
       "    <tr>\n",
       "      <th>zzaiinny</th>\n",
       "      <td>2.0</td>\n",
       "    </tr>\n",
       "    <tr>\n",
       "      <th>zzappe</th>\n",
       "      <td>7.0</td>\n",
       "    </tr>\n",
       "    <tr>\n",
       "      <th>zzaxle</th>\n",
       "      <td>3.0</td>\n",
       "    </tr>\n",
       "    <tr>\n",
       "      <th>zzcorrode</th>\n",
       "      <td>4.0</td>\n",
       "    </tr>\n",
       "    <tr>\n",
       "      <th>zzidogzizz</th>\n",
       "      <td>7.0</td>\n",
       "    </tr>\n",
       "    <tr>\n",
       "      <th>zzirDiz</th>\n",
       "      <td>12.0</td>\n",
       "    </tr>\n",
       "    <tr>\n",
       "      <th>zztopwku</th>\n",
       "      <td>2.0</td>\n",
       "    </tr>\n",
       "    <tr>\n",
       "      <th>zzubaru</th>\n",
       "      <td>3.0</td>\n",
       "    </tr>\n",
       "    <tr>\n",
       "      <th>zzurxx</th>\n",
       "      <td>10.0</td>\n",
       "    </tr>\n",
       "    <tr>\n",
       "      <th>zzzHooligan</th>\n",
       "      <td>12.0</td>\n",
       "    </tr>\n",
       "    <tr>\n",
       "      <th>zzzMARZBARzzz</th>\n",
       "      <td>2.0</td>\n",
       "    </tr>\n",
       "    <tr>\n",
       "      <th>zzz_sleep_zzz</th>\n",
       "      <td>14.0</td>\n",
       "    </tr>\n",
       "    <tr>\n",
       "      <th>zzzanimal</th>\n",
       "      <td>52.0</td>\n",
       "    </tr>\n",
       "    <tr>\n",
       "      <th>zzzorn</th>\n",
       "      <td>31.0</td>\n",
       "    </tr>\n",
       "    <tr>\n",
       "      <th>zzzornbringer</th>\n",
       "      <td>2.0</td>\n",
       "    </tr>\n",
       "    <tr>\n",
       "      <th>zzzryanzzz</th>\n",
       "      <td>74.0</td>\n",
       "    </tr>\n",
       "    <tr>\n",
       "      <th>zzzyx3</th>\n",
       "      <td>3.0</td>\n",
       "    </tr>\n",
       "    <tr>\n",
       "      <th>zzzz271</th>\n",
       "      <td>4.0</td>\n",
       "    </tr>\n",
       "  </tbody>\n",
       "</table>\n",
       "<p>128691 rows × 1 columns</p>\n",
       "</div>"
      ],
      "text/plain": [
       "                       0.5\n",
       "-------_---            3.0\n",
       "----_                  5.0\n",
       "---Alexander---        inf\n",
       "---KC---               3.0\n",
       "---Kaiser              4.0\n",
       "---__-_----___-_       inf\n",
       "--Aux--                3.0\n",
       "--ChrisPBacon          2.0\n",
       "--Clintoris--          5.0\n",
       "--CrusaderFTW          9.0\n",
       "--Dawn--              11.0\n",
       "--DeusVult--           8.0\n",
       "--DreadPirateRoberts  36.0\n",
       "--Equinox--            3.0\n",
       "--Happy--              7.0\n",
       "--Kenshiro--          16.0\n",
       "--LilNut--            23.0\n",
       "--M0ses--              3.0\n",
       "--ME-Vgmol2-           8.0\n",
       "--PickleRick           2.0\n",
       "--Rave--               4.0\n",
       "--Raz--                3.0\n",
       "--SicParvisMagnA--     4.0\n",
       "--UnBanable--          2.0\n",
       "--Winchester--         3.0\n",
       "--XxNoobSlayer69xX--   3.0\n",
       "--__________--         3.0\n",
       "--cooper--            24.0\n",
       "--jdmasf_ck--          inf\n",
       "--llll-----llll--     37.0\n",
       "...                    ...\n",
       "zylent                 1.0\n",
       "zynjnbpt               2.0\n",
       "zynxedd                3.0\n",
       "zynza                  inf\n",
       "zyocuh                 5.0\n",
       "zyphe84                3.0\n",
       "zyrs86                 3.0\n",
       "zythane47              4.0\n",
       "zyzt                   2.0\n",
       "zyzzyva17             21.0\n",
       "zzGambit               3.0\n",
       "zzThrain               3.0\n",
       "zzaiinny               2.0\n",
       "zzappe                 7.0\n",
       "zzaxle                 3.0\n",
       "zzcorrode              4.0\n",
       "zzidogzizz             7.0\n",
       "zzirDiz               12.0\n",
       "zztopwku               2.0\n",
       "zzubaru                3.0\n",
       "zzurxx                10.0\n",
       "zzzHooligan           12.0\n",
       "zzzMARZBARzzz          2.0\n",
       "zzz_sleep_zzz         14.0\n",
       "zzzanimal             52.0\n",
       "zzzorn                31.0\n",
       "zzzornbringer          2.0\n",
       "zzzryanzzz            74.0\n",
       "zzzyx3                 3.0\n",
       "zzzz271                4.0\n",
       "\n",
       "[128691 rows x 1 columns]"
      ]
     },
     "execution_count": 361,
     "metadata": {},
     "output_type": "execute_result"
    }
   ],
   "source": [
    "cph.predict_median(X)"
   ]
  },
  {
   "cell_type": "code",
   "execution_count": 362,
   "metadata": {},
   "outputs": [
    {
     "data": {
      "text/plain": [
       "<matplotlib.axes._subplots.AxesSubplot at 0x1a643ad550>"
      ]
     },
     "execution_count": 362,
     "metadata": {},
     "output_type": "execute_result"
    },
    {
     "data": {
      "image/png": "[encoded data removed]",
      "text/plain": [
       "<Figure size 432x288 with 1 Axes>"
      ]
     },
     "metadata": {
      "needs_background": "light"
     },
     "output_type": "display_data"
    }
   ],
   "source": [
    "cph.plot()"
   ]
  },
  {
   "cell_type": "markdown",
   "metadata": {},
   "source": [
    "The above graph is just another way to show the hazard coefficients that we talked about above. "
   ]
  },
  {
   "cell_type": "code",
   "execution_count": 363,
   "metadata": {},
   "outputs": [],
   "source": [
    "from lifelines import KaplanMeierFitter"
   ]
  },
  {
   "cell_type": "code",
   "execution_count": 364,
   "metadata": {},
   "outputs": [
    {
     "data": {
      "text/plain": [
       "<lifelines.KaplanMeierFitter: fitted with 128691 observations, 12820 censored>"
      ]
     },
     "execution_count": 364,
     "metadata": {},
     "output_type": "execute_result"
    }
   ],
   "source": [
    "kmf = KaplanMeierFitter()\n",
    "kmf.fit(df_users['duration'], df_users['churn'], label = 'Kaplan Meier Estimator')"
   ]
  },
  {
   "cell_type": "code",
   "execution_count": 365,
   "metadata": {},
   "outputs": [
    {
     "data": {
      "text/plain": [
       "Text(0.5, 1.0, 'Kaplan Meier Churn')"
      ]
     },
     "execution_count": 365,
     "metadata": {},
     "output_type": "execute_result"
    },
    {
     "data": {
      "image/png": "[encoded data removed]",
      "text/plain": [
       "<Figure size 1440x720 with 1 Axes>"
      ]
     },
     "metadata": {
      "needs_background": "light"
     },
     "output_type": "display_data"
    }
   ],
   "source": [
    "fix, ax = plt.subplots(figsize = (20,10))\n",
    "kmf.plot(ci_show = False, ax = ax)\n",
    "plt.title('Kaplan Meier Churn', fontsize = 30)"
   ]
  },
  {
   "cell_type": "markdown",
   "metadata": {},
   "source": [
    "The above graph shows the churn rate as the timeline continues. As we get further into the timeline, the churn rate decreases, as those are the users that are likely to stay longer, the devoted participants, if you will."
   ]
  },
  {
   "cell_type": "code",
   "execution_count": 366,
   "metadata": {},
   "outputs": [
    {
     "data": {
      "text/plain": [
       "author\n",
       "-------_---             0.038450\n",
       "----_                   0.549133\n",
       "---Alexander---         0.152577\n",
       "---KC---               -0.401900\n",
       "---Kaiser               0.021400\n",
       "---__-_----___-_        0.000535\n",
       "--Aux--                -0.144200\n",
       "--ChrisPBacon           0.733100\n",
       "--Clintoris--          -0.031325\n",
       "--CrusaderFTW          -0.445773\n",
       "--Dawn--                0.027267\n",
       "--DeusVult--           -0.127429\n",
       "--DreadPirateRoberts   -0.050591\n",
       "--Equinox--             0.321350\n",
       "--Happy--               0.064483\n",
       "--Kenshiro--            0.107458\n",
       "--LilNut--              0.002431\n",
       "--M0ses--              -0.230950\n",
       "--ME-Vgmol2-           -0.138271\n",
       "--PickleRick            0.492600\n",
       "--Rave--                0.278833\n",
       "--Raz--                -0.440400\n",
       "--SicParvisMagnA--     -0.307225\n",
       "--UnBanable--           0.648600\n",
       "--Winchester--         -0.259200\n",
       "--XxNoobSlayer69xX--   -0.542300\n",
       "--__________--         -0.334700\n",
       "--cooper--             -0.157344\n",
       "--jdmasf_ck--           0.041522\n",
       "--llll-----llll--       0.131415\n",
       "                          ...   \n",
       "zylent                  0.960000\n",
       "zynjnbpt                0.413700\n",
       "zynxedd                -0.648600\n",
       "zynza                   0.245673\n",
       "zyocuh                 -0.031560\n",
       "zyphe84                -0.594300\n",
       "zyrs86                  0.005950\n",
       "zythane47               0.091700\n",
       "zyzt                    0.564700\n",
       "zyzzyva17              -0.122500\n",
       "zzGambit               -0.226300\n",
       "zzThrain               -0.246400\n",
       "zzaiinny               -0.485400\n",
       "zzappe                  0.395540\n",
       "zzaxle                 -0.133600\n",
       "zzcorrode              -0.618450\n",
       "zzidogzizz              0.189040\n",
       "zzirDiz                 0.170910\n",
       "zztopwku               -0.411800\n",
       "zzubaru                 0.703900\n",
       "zzurxx                  0.138375\n",
       "zzzHooligan             0.221200\n",
       "zzzMARZBARzzz           0.335300\n",
       "zzz_sleep_zzz           0.069464\n",
       "zzzanimal               0.242570\n",
       "zzzorn                  0.593460\n",
       "zzzornbringer           0.530600\n",
       "zzzryanzzz             -0.183927\n",
       "zzzyx3                 -0.423900\n",
       "zzzz271                -0.150100\n",
       "Name: compound_mean, Length: 128691, dtype: float64"
      ]
     },
     "execution_count": 366,
     "metadata": {},
     "output_type": "execute_result"
    }
   ],
   "source": [
    "df_users['compound_mean']"
   ]
  },
  {
   "cell_type": "code",
   "execution_count": 367,
   "metadata": {},
   "outputs": [
    {
     "data": {
      "image/png": "[encoded data removed]",
      "text/plain": [
       "<Figure size 1440x720 with 1 Axes>"
      ]
     },
     "metadata": {
      "needs_background": "light"
     },
     "output_type": "display_data"
    }
   ],
   "source": [
    "fig, ax = plt.subplots(figsize = (20,10))\n",
    "cph.plot_covariate_groups('compound_mean', [-1, -.5, 0, .5, 1], cmap='coolwarm', ax = ax)\n",
    "plt.xlabel('Duration', fontsize = 25)\n",
    "plt.xticks(fontsize = 20)\n",
    "plt.title('Survival Analysis as Sentiment Changes', fontsize = 30)\n",
    "plt.yticks(fontsize = 20)\n",
    "plt.legend(fontsize = 15);\n",
    "plt.savefig('../plots/churn_rate_sentiment')"
   ]
  },
  {
   "cell_type": "markdown",
   "metadata": {},
   "source": [
    "The above graph shows the percent of people who survive a given duration, contingent on their compound mean. It shows how unit changes in the compound mean coefficient of the hazard function affect churn. Each step in the graph is a day, and each step down represents a drop in percentage of users 'surviving' so to say. The compound, or overall sentiment score, is the strongest coefficient in the hazard function.\n",
    "\n",
    "This is perhaps the most useful graph in this project. It suggests that the more positive a users sentiment, the more likely they are to stop participating online in regards to the game. What that says is that as people are more positive online, they probably don't like engaging with the negativity online, and begin to churn at a faster rate than those with more negative sentiment. This is powerful because what it tells me is that the people who like the game most stop talking about it online, but most likely continue playing the game without participating online. With patches being released, the sentiment surrounding it is most likely influenced the most by negative people who just want to complain about the game. As such, it suggests to me that predicting patch days and using the user feedback isn't necessary, as the people who play the game most will continue playing regardless, except for actual player churn, which is natural. "
   ]
  },
  {
   "cell_type": "markdown",
   "metadata": {},
   "source": [
    "# Conclusion and Next Steps\n",
    "\n",
    "Given all of the data analyzed throughout these notebooks, I think in conclusion, **I will state that I don't think video game companies, specifically Activision, should pay close attention to user feedback on other forums as guidance to what release in new patches.** While there are specific words that elicit negative sentiment around the game, for the most part, people seem pleased with the game, and the ones that aren't pleased are few and far between that have powerful and frequent voices in the community. There isn't much predictive power coming from reddit meta data or nlp data in terms of patch updates, so why pay attention to it? \n",
    "\n",
    "The words that I associate with fixes being needed are used fewer and fewer times as time goes on, suggesting that once the initial issues with the game are resolved, people stop focusing on those things and continue playing as if nothing happened. While there is natural churn from video games as people become bored and new games come out, patches haven't seemed to do much except bring back commentary on reddit momentarily. I think the one thing Activision should pay attention to is natural language processing surrounding bugs, as those are things that they can leverage the community to find. Using the community feedback to guide patches seems like a futile effort, as everyone wants something different and online gamers are fleeting in what they want. There is no reason to change the direction of the game for the few people online that have loud voices about what would make the perfect game for them. \n",
    "\n",
    "In terms of reddit community churn, we can see from this notebook that the more positive users tend to drop off earlier, meaning that if they enjoy the game, there is no reason for them to stay a part of a community that complains about the game. I suspect there is an inverse relationship between users churning from reddit and users churning from the actual game. \n",
    "\n",
    "As next steps, I would look at gathering data over a longer time period. Obviously for that, I would have to wait until the game has been out longer. Additonally, I would scrape other websites to get a more diverse sample of users. Not everyone who comments or posts videos on youtube also comment on reddit, and vice versa. I think looking at streamers and how they comment on the game and the language they use could influence more people than what a single commenter on reddit says. In addition, I would look at the most common words in between each patch and see how those relate to what was released during each patch to see if there is overlap. Another step I would like to take, but may not be able to, is to get all of the updates, including just the mostly-daily fixes and see how those influence sentiment. The patch data isn't super accessible, and the frequent update data is even more inaccessable.\n",
    "\n"
   ]
  }
 ],
 "metadata": {
  "kernelspec": {
   "display_name": "Python 3",
   "language": "python",
   "name": "python3"
  },
  "language_info": {
   "codemirror_mode": {
    "name": "ipython",
    "version": 3
   },
   "file_extension": ".py",
   "mimetype": "text/x-python",
   "name": "python",
   "nbconvert_exporter": "python",
   "pygments_lexer": "ipython3",
   "version": "3.7.2"
  }
 },
 "nbformat": 4,
 "nbformat_minor": 2
}
