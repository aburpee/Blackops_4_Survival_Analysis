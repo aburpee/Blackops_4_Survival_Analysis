{
 "cells": [
  {
   "cell_type": "markdown",
   "metadata": {},
   "source": [
    "# Using the Pushshift API\n",
    "\n",
    "Pushshift is a service that archives and indexes Reddit at regular intervals. It allows for higher-level search functionality and querying for Reddit comments and submissions, facilitating data collection for analysis and modeling. It leverages the requests library to return a json response that can then be parsed for the data of interest.\n",
    "\n",
    "Resources: \n",
    "- Pushshift Endpoints: https://pushshift.io/\n",
    "- Pushshift Documentation: https://github.com/pushshift/api\n",
    "- Pushshift Subreddit: https://www.reddit.com/r/pushshift/comments/89pxra/pushshift_api_with_large_amounts_of_data/\n"
   ]
  },
  {
   "cell_type": "code",
   "execution_count": 1,
   "metadata": {},
   "outputs": [],
   "source": [
    "import requests, time, csv, json, re\n",
    "import pandas as pd"
   ]
  },
  {
   "cell_type": "markdown",
   "metadata": {},
   "source": [
    "## Setting the base query syntax:"
   ]
  },
  {
   "cell_type": "markdown",
   "metadata": {},
   "source": [
    "Setting the query url to the pushshift api"
   ]
  },
  {
   "cell_type": "code",
   "execution_count": 2,
   "metadata": {},
   "outputs": [],
   "source": [
    "url = 'https://api.pushshift.io/reddit/search/'"
   ]
  },
  {
   "cell_type": "markdown",
   "metadata": {},
   "source": [
    "Setting the parameters for the query. A full list of parameters can be found on: https://pushshift.io/api-parameters/"
   ]
  },
  {
   "cell_type": "code",
   "execution_count": 3,
   "metadata": {},
   "outputs": [],
   "source": [
    "params = {'searchType':'submission',\n",
    "          'subreddit':'blackops4',\n",
    "          'sort':'desc',\n",
    "          'size':10,\n",
    "          'before': '10d',\n",
    "          'after': '168d'\n",
    "         }"
   ]
  },
  {
   "cell_type": "markdown",
   "metadata": {},
   "source": [
    "Making the request."
   ]
  },
  {
   "cell_type": "code",
   "execution_count": 4,
   "metadata": {},
   "outputs": [],
   "source": [
    "response = requests.get(url, params=params)"
   ]
  },
  {
   "cell_type": "markdown",
   "metadata": {},
   "source": [
    "Checking the url to make sure the query terms are correct and the server is responsive"
   ]
  },
  {
   "cell_type": "code",
   "execution_count": 5,
   "metadata": {},
   "outputs": [
    {
     "data": {
      "text/plain": [
       "200"
      ]
     },
     "execution_count": 5,
     "metadata": {},
     "output_type": "execute_result"
    }
   ],
   "source": [
    "response.status_code"
   ]
  },
  {
   "cell_type": "markdown",
   "metadata": {},
   "source": [
    "The status code returned from the server is 200, meaning the query was accepted and there aren't any connection issues. Checking length of the json file."
   ]
  },
  {
   "cell_type": "code",
   "execution_count": 6,
   "metadata": {},
   "outputs": [
    {
     "data": {
      "text/plain": [
       "10"
      ]
     },
     "execution_count": 6,
     "metadata": {},
     "output_type": "execute_result"
    }
   ],
   "source": [
    "len(response.json()['data'])"
   ]
  },
  {
   "cell_type": "markdown",
   "metadata": {},
   "source": [
    "Length is 10, as expected. Assessing the file structure for keys of interest."
   ]
  },
  {
   "cell_type": "code",
   "execution_count": 7,
   "metadata": {},
   "outputs": [
    {
     "data": {
      "text/plain": [
       "'Wed Mar 20 01:29:21 2019'"
      ]
     },
     "execution_count": 7,
     "metadata": {},
     "output_type": "execute_result"
    }
   ],
   "source": [
    "\n",
    "time.asctime(time.gmtime(1553045361))"
   ]
  },
  {
   "cell_type": "code",
   "execution_count": 8,
   "metadata": {},
   "outputs": [
    {
     "data": {
      "text/plain": [
       "[{'author': 'Jbrading',\n",
       "  'author_flair_background_color': None,\n",
       "  'author_flair_css_class': None,\n",
       "  'author_flair_richtext': [],\n",
       "  'author_flair_template_id': None,\n",
       "  'author_flair_text': None,\n",
       "  'author_flair_text_color': None,\n",
       "  'author_flair_type': 'text',\n",
       "  'author_fullname': 't2_xij3r',\n",
       "  'author_patreon_flair': False,\n",
       "  'body': 'Yeah, i had all of the multiplayer ones done minus Battery (found the war machine once before hot pursuit).. i never got Brunos challenge before alcatraz, i never went for Menendez when he was spawning in drops because i was going for Reznov &amp; that took sooooo long for me tbh.. i could never piece the games together where all 3 variables worked out haha and Woods i kinda only went for when i got bored.. knew id get it eventually lol but they definitely need to add more, i’m all about completing challenges',\n",
       "  'created_utc': 1555799601,\n",
       "  'gildings': {'gid_1': 0, 'gid_2': 0, 'gid_3': 0},\n",
       "  'id': 'eldshr7',\n",
       "  'is_submitter': True,\n",
       "  'link_id': 't3_bf8uph',\n",
       "  'no_follow': True,\n",
       "  'parent_id': 't1_eldrscf',\n",
       "  'permalink': '/r/Blackops4/comments/bf8uph/who_else_has_unlocked_all_of_the_characters_in/eldshr7/',\n",
       "  'retrieved_on': 1555799602,\n",
       "  'score': 1,\n",
       "  'send_replies': True,\n",
       "  'stickied': False,\n",
       "  'subreddit': 'Blackops4',\n",
       "  'subreddit_id': 't5_2untl',\n",
       "  'updated_utc': 1555905639},\n",
       " {'author': 'frapstar2',\n",
       "  'author_flair_background_color': None,\n",
       "  'author_flair_css_class': None,\n",
       "  'author_flair_richtext': [],\n",
       "  'author_flair_template_id': None,\n",
       "  'author_flair_text': None,\n",
       "  'author_flair_text_color': None,\n",
       "  'author_flair_type': 'text',\n",
       "  'author_fullname': 't2_xvv0o',\n",
       "  'author_patreon_flair': False,\n",
       "  'body': 'I started that the first game after I said ooh a paint can, got all my peeps saying it also',\n",
       "  'created_utc': 1555799597,\n",
       "  'gildings': {'gid_1': 0, 'gid_2': 0, 'gid_3': 0},\n",
       "  'id': 'eldshjy',\n",
       "  'is_submitter': False,\n",
       "  'link_id': 't3_bfdqui',\n",
       "  'no_follow': True,\n",
       "  'parent_id': 't1_eldenvu',\n",
       "  'permalink': '/r/Blackops4/comments/bfdqui/nice_can/eldshjy/',\n",
       "  'retrieved_on': 1555799599,\n",
       "  'score': 3,\n",
       "  'send_replies': True,\n",
       "  'stickied': False,\n",
       "  'subreddit': 'Blackops4',\n",
       "  'subreddit_id': 't5_2untl',\n",
       "  'updated_utc': 1555905636},\n",
       " {'author': 'iDeSTRuCTiiioN',\n",
       "  'author_flair_background_color': None,\n",
       "  'author_flair_css_class': None,\n",
       "  'author_flair_richtext': [],\n",
       "  'author_flair_template_id': None,\n",
       "  'author_flair_text': None,\n",
       "  'author_flair_text_color': None,\n",
       "  'author_flair_type': 'text',\n",
       "  'author_fullname': 't2_nho5u',\n",
       "  'author_patreon_flair': False,\n",
       "  'body': 'You can go back to the video and count how many bullets you missed. Cant help you with that nothing more to explain. For an SMG it does matter. No need to cry.',\n",
       "  'created_utc': 1555799597,\n",
       "  'gildings': {'gid_1': 0, 'gid_2': 0, 'gid_3': 0},\n",
       "  'id': 'eldshj7',\n",
       "  'is_submitter': False,\n",
       "  'link_id': 't3_bfhlzg',\n",
       "  'no_follow': True,\n",
       "  'parent_id': 't1_elds8ib',\n",
       "  'permalink': '/r/Blackops4/comments/bfhlzg/sometimes_you_die_unbelievably_fast_in_this_game/eldshj7/',\n",
       "  'retrieved_on': 1555799598,\n",
       "  'score': 1,\n",
       "  'send_replies': True,\n",
       "  'stickied': False,\n",
       "  'subreddit': 'Blackops4',\n",
       "  'subreddit_id': 't5_2untl',\n",
       "  'updated_utc': 1555905636},\n",
       " {'author': 'Johnnyw1990',\n",
       "  'author_flair_background_color': 'transparent',\n",
       "  'author_flair_css_class': None,\n",
       "  'author_flair_richtext': [{'a': ':Prestige6:',\n",
       "    'e': 'emoji',\n",
       "    'u': 'https://emoji.redditmedia.com/dx8g00g712421_t5_2untl/Prestige6'}],\n",
       "  'author_flair_template_id': 'c30ddb46-fee2-11e8-8e71-0eab15b4b1fa',\n",
       "  'author_flair_text': ':Prestige6:',\n",
       "  'author_flair_text_color': 'dark',\n",
       "  'author_flair_type': 'richtext',\n",
       "  'author_fullname': 't2_10spc6',\n",
       "  'author_patreon_flair': False,\n",
       "  'body': 'Genuinely can’t understand people who glitch out of bounds in this game',\n",
       "  'created_utc': 1555799541,\n",
       "  'gildings': {'gid_1': 0, 'gid_2': 0, 'gid_3': 0},\n",
       "  'id': 'eldseli',\n",
       "  'is_submitter': False,\n",
       "  'link_id': 't3_bfgai1',\n",
       "  'no_follow': True,\n",
       "  'parent_id': 't3_bfgai1',\n",
       "  'permalink': '/r/Blackops4/comments/bfgai1/another_infected_glitch_spot_on_firing_range/eldseli/',\n",
       "  'retrieved_on': 1555799542,\n",
       "  'score': 16,\n",
       "  'send_replies': True,\n",
       "  'stickied': False,\n",
       "  'subreddit': 'Blackops4',\n",
       "  'subreddit_id': 't5_2untl',\n",
       "  'updated_utc': 1555905592},\n",
       " {'author': 'NotHighEnuf',\n",
       "  'author_flair_background_color': None,\n",
       "  'author_flair_css_class': None,\n",
       "  'author_flair_richtext': [],\n",
       "  'author_flair_template_id': None,\n",
       "  'author_flair_text': None,\n",
       "  'author_flair_text_color': None,\n",
       "  'author_flair_type': 'text',\n",
       "  'author_fullname': 't2_c0xvy28',\n",
       "  'author_patreon_flair': False,\n",
       "  'body': 'Lol how did you get in trouble?',\n",
       "  'created_utc': 1555799532,\n",
       "  'gildings': {'gid_1': 0, 'gid_2': 0, 'gid_3': 0},\n",
       "  'id': 'eldse48',\n",
       "  'is_submitter': False,\n",
       "  'link_id': 't3_be9nhu',\n",
       "  'no_follow': True,\n",
       "  'parent_id': 't1_el6jx00',\n",
       "  'permalink': '/r/Blackops4/comments/be9nhu/always_shoot_till_the_last_bullet/eldse48/',\n",
       "  'retrieved_on': 1555799534,\n",
       "  'score': 1,\n",
       "  'send_replies': True,\n",
       "  'stickied': False,\n",
       "  'subreddit': 'Blackops4',\n",
       "  'subreddit_id': 't5_2untl',\n",
       "  'updated_utc': 1555905586},\n",
       " {'author': 'Jbrading',\n",
       "  'author_flair_background_color': None,\n",
       "  'author_flair_css_class': None,\n",
       "  'author_flair_richtext': [],\n",
       "  'author_flair_template_id': None,\n",
       "  'author_flair_text': None,\n",
       "  'author_flair_text_color': None,\n",
       "  'author_flair_type': 'text',\n",
       "  'author_fullname': 't2_xij3r',\n",
       "  'author_patreon_flair': False,\n",
       "  'body': 'Get a teammate, be a passenger in a heli next time hot pursuit is around &amp; lock onto vehicles haha not how i did it but that a strat i thought of after i was done.. also shooting at people with the launcher from 200+ meters is super easy if they aren’t moving.. it shoots incredibly straight',\n",
       "  'created_utc': 1555799471,\n",
       "  'gildings': {'gid_1': 0, 'gid_2': 0, 'gid_3': 0},\n",
       "  'id': 'eldsay0',\n",
       "  'is_submitter': True,\n",
       "  'link_id': 't3_bf8uph',\n",
       "  'no_follow': True,\n",
       "  'parent_id': 't1_elbvem9',\n",
       "  'permalink': '/r/Blackops4/comments/bf8uph/who_else_has_unlocked_all_of_the_characters_in/eldsay0/',\n",
       "  'retrieved_on': 1555799472,\n",
       "  'score': 1,\n",
       "  'send_replies': True,\n",
       "  'stickied': False,\n",
       "  'subreddit': 'Blackops4',\n",
       "  'subreddit_id': 't5_2untl',\n",
       "  'updated_utc': 1555905544},\n",
       " {'author': 'kris9512',\n",
       "  'author_flair_background_color': None,\n",
       "  'author_flair_css_class': None,\n",
       "  'author_flair_richtext': [],\n",
       "  'author_flair_template_id': None,\n",
       "  'author_flair_text': None,\n",
       "  'author_flair_text_color': None,\n",
       "  'author_flair_type': 'text',\n",
       "  'author_fullname': 't2_ixx5l',\n",
       "  'author_patreon_flair': False,\n",
       "  'body': \"First of all: missed 80 percent? Are you daft? Second: Long barrel and suppressor makes no difference at that range; look up basic stat videos on youtube. Thirdly, 'you will get that with experience'. Way to be patronising ya clown, the guy in the video is my friend and he has a 4.3kdr.\",\n",
       "  'created_utc': 1555799422,\n",
       "  'gildings': {'gid_1': 0, 'gid_2': 0, 'gid_3': 0},\n",
       "  'id': 'elds8ib',\n",
       "  'is_submitter': True,\n",
       "  'link_id': 't3_bfhlzg',\n",
       "  'no_follow': True,\n",
       "  'parent_id': 't1_eldrbad',\n",
       "  'permalink': '/r/Blackops4/comments/bfhlzg/sometimes_you_die_unbelievably_fast_in_this_game/elds8ib/',\n",
       "  'retrieved_on': 1555799423,\n",
       "  'score': 1,\n",
       "  'send_replies': True,\n",
       "  'stickied': False,\n",
       "  'subreddit': 'Blackops4',\n",
       "  'subreddit_id': 't5_2untl',\n",
       "  'updated_utc': 1555905514},\n",
       " {'author': 'dandan-duran',\n",
       "  'author_flair_background_color': None,\n",
       "  'author_flair_css_class': None,\n",
       "  'author_flair_richtext': [],\n",
       "  'author_flair_template_id': None,\n",
       "  'author_flair_text': None,\n",
       "  'author_flair_text_color': None,\n",
       "  'author_flair_type': 'text',\n",
       "  'author_fullname': 't2_3gs9jqgx',\n",
       "  'author_patreon_flair': False,\n",
       "  'body': 'The guy in the clip saw three dudes there and grav slammed them , how the fuck is that skill ? If he would have gotten into a gun fight out maneuvered out classed them then that would constitute as skill, using something that kills anyone within a certain radius is lazy and unskilled . Score streaks are way over powered and people use them as a crutch which is why I love zero . Using a sniper nest to end another players streak so cheap , going after them and shooting them is actual skill . You fail the difference because you are one of those loser players who abuse acorestreaks . Getting 10 kills from an attack chopper does not make you a good player .',\n",
       "  'created_utc': 1555799391,\n",
       "  'gildings': {'gid_1': 0, 'gid_2': 0, 'gid_3': 0},\n",
       "  'id': 'elds6w7',\n",
       "  'is_submitter': False,\n",
       "  'link_id': 't3_bfdm32',\n",
       "  'no_follow': True,\n",
       "  'parent_id': 't1_eldrr32',\n",
       "  'permalink': '/r/Blackops4/comments/bfdm32/love_this_game/elds6w7/',\n",
       "  'retrieved_on': 1555799392,\n",
       "  'score': 0,\n",
       "  'send_replies': True,\n",
       "  'stickied': False,\n",
       "  'subreddit': 'Blackops4',\n",
       "  'subreddit_id': 't5_2untl',\n",
       "  'updated_utc': 1555905492},\n",
       " {'author': 'Jbrading',\n",
       "  'author_flair_background_color': None,\n",
       "  'author_flair_css_class': None,\n",
       "  'author_flair_richtext': [],\n",
       "  'author_flair_template_id': None,\n",
       "  'author_flair_text': None,\n",
       "  'author_flair_text_color': None,\n",
       "  'author_flair_type': 'text',\n",
       "  'author_fullname': 't2_xij3r',\n",
       "  'author_patreon_flair': False,\n",
       "  'body': 'Yeah, i had all of the multiplayer ones done minus Battery (found the war machine once before hot pursuit).. i never got Brunos challenge before alcatraz, i never went for Menendez when he was spawning in drops because i was going for Reznov &amp; that took sooooo long for me tbh.. i could never piece the games together where all 3 variables worked out haha and Woods i kinda only went for when i got bored.. knew id get it eventually lol but they definitely need to add more, i’m all about completing challenges',\n",
       "  'created_utc': 1555799325,\n",
       "  'gildings': {'gid_1': 0, 'gid_2': 0, 'gid_3': 0},\n",
       "  'id': 'elds3hh',\n",
       "  'is_submitter': True,\n",
       "  'link_id': 't3_bf8uph',\n",
       "  'no_follow': True,\n",
       "  'parent_id': 't3_bf8uph',\n",
       "  'permalink': '/r/Blackops4/comments/bf8uph/who_else_has_unlocked_all_of_the_characters_in/elds3hh/',\n",
       "  'retrieved_on': 1555799326,\n",
       "  'score': 1,\n",
       "  'send_replies': True,\n",
       "  'stickied': False,\n",
       "  'subreddit': 'Blackops4',\n",
       "  'subreddit_id': 't5_2untl',\n",
       "  'updated_utc': 1555905449},\n",
       " {'author': 'Lux-LightM',\n",
       "  'author_flair_background_color': 'transparent',\n",
       "  'author_flair_css_class': None,\n",
       "  'author_flair_richtext': [{'a': ':Xbox:',\n",
       "    'e': 'emoji',\n",
       "    'u': 'https://emoji.redditmedia.com/d5eg1yb2gbd11_t5_2untl/Xbox'}],\n",
       "  'author_flair_template_id': 'a61bd690-94e4-11e8-a401-0e9b3825d4b8',\n",
       "  'author_flair_text': ':Xbox:',\n",
       "  'author_flair_text_color': 'dark',\n",
       "  'author_flair_type': 'richtext',\n",
       "  'author_fullname': 't2_2fnx5vbl',\n",
       "  'author_patreon_flair': False,\n",
       "  'body': 'Ay there’s no point even arguing with people this naive. Just accept that zero clearly requires way more skill than people who actually earn their own streaks. (This is Satire/sarcasm incase anyone is confused)',\n",
       "  'created_utc': 1555799262,\n",
       "  'gildings': {'gid_1': 0, 'gid_2': 0, 'gid_3': 0},\n",
       "  'id': 'elds0al',\n",
       "  'is_submitter': False,\n",
       "  'link_id': 't3_bfdm32',\n",
       "  'no_follow': True,\n",
       "  'parent_id': 't1_eldqebd',\n",
       "  'permalink': '/r/Blackops4/comments/bfdm32/love_this_game/elds0al/',\n",
       "  'retrieved_on': 1555799264,\n",
       "  'score': 2,\n",
       "  'send_replies': True,\n",
       "  'stickied': False,\n",
       "  'subreddit': 'Blackops4',\n",
       "  'subreddit_id': 't5_2untl',\n",
       "  'updated_utc': 1555905407}]"
      ]
     },
     "execution_count": 8,
     "metadata": {},
     "output_type": "execute_result"
    }
   ],
   "source": [
    "response.json()['data']"
   ]
  },
  {
   "cell_type": "markdown",
   "metadata": {},
   "source": [
    "Keys of interest are:\n",
    "- author\n",
    "- body\n",
    "- created_utc\n",
    "- link_id\n",
    "- parent_id\n",
    "- permalink\n",
    "- subreddit\n",
    "- subreddit_id"
   ]
  },
  {
   "cell_type": "code",
   "execution_count": 9,
   "metadata": {},
   "outputs": [],
   "source": [
    "col_list = ['author',\n",
    "            'body',\n",
    "            'subreddit',\n",
    "            'subreddit_id',\n",
    "            'created_utc',\n",
    "            'retrieved_on',\n",
    "            'link_id',\n",
    "            'parent_id',\n",
    "            'permalink',\n",
    "            ]"
   ]
  },
  {
   "cell_type": "markdown",
   "metadata": {},
   "source": [
    " ## Querying Reddit and saving raw data in .json format:"
   ]
  },
  {
   "cell_type": "markdown",
   "metadata": {},
   "source": [
    "Writing a function for creating a logfile and formatting file names with a unique timestamp."
   ]
  },
  {
   "cell_type": "code",
   "execution_count": 10,
   "metadata": {},
   "outputs": [],
   "source": [
    "def filename_format_log(file_path, \n",
    "                        logfile = '../assets/file_log.txt', \n",
    "                        now = round(time.time()), \n",
    "                        file_description = None): \n",
    "   \n",
    "    try:\n",
    "        ext = re.search('(?<!^)(?<!\\.)\\.(?!\\.)', file_path).start() \n",
    "    except:\n",
    "        raise NameError('Please enter a relative path with a file extension.') \n",
    "    \n",
    "    stamp = re.search('(?<!^)(?<!\\.)[a-z]+_[a-z]+(?=\\.)', file_path).start()\n",
    "    formatted_name = f'{file_path[:stamp]}{now}_{file_path[stamp:]}'  \n",
    "    if not file_description:\n",
    "        file_description = f'Pull: {time.asctime(time.gmtime(now))}'\n",
    "    with open(logfile, 'a+') as f:\n",
    "        f.write(f'{formatted_name}: {file_description}\\n')\n",
    "    return formatted_name, now, file_description"
   ]
  },
  {
   "cell_type": "markdown",
   "metadata": {},
   "source": [
    "Writing a function for collecting comments and parsing into a dataframe with the features of interest, saving out the raw data for each pull. Request loop inspired: [(Source)](https://www.reddit.com/r/pushshift/comments/89pxra/pushshift_api_with_large_amounts_of_data/)."
   ]
  },
  {
   "cell_type": "code",
   "execution_count": null,
   "metadata": {},
   "outputs": [],
   "source": [
    "# def getPushshiftData(sub=None, before=None, after=None, ids=None, getSubmissions=True, getComments=False):\n",
    "#     suffix=''\n",
    "#     searchType = 'submission'\n",
    "#     if getComments or not getSubmissions:\n",
    "#         searchType='comment'\n",
    "#     if (before is not None):\n",
    "#         suffix += '&before='+str(before)\n",
    "#     if (after is not None):\n",
    "#         suffix += '&after='+str(after)\n",
    "#     if (sub is not None):\n",
    "#         suffix += '&subreddit='+sub\n",
    "#     if (ids is not None):\n",
    "#         suffix += '&ids='+','.join(ids)\n",
    "\n",
    "#     url = 'https://api.pushshift.io/reddit/search/'+searchType+'?sort=desc&size=1500'+suffix\n",
    "#     print('loading '+url)\n",
    "#     r = requests.get(url)\n",
    "#     data = json.loads(r.content)\n",
    "#     if len(data['data']) > 0:\n",
    "#         prev_end_date = data['data'][-1]['created_utc']\n",
    "#     else:\n",
    "#         prev_end_date = None\n",
    "#     return (data, prev_end_date)"
   ]
  },
  {
   "cell_type": "code",
   "execution_count": 11,
   "metadata": {},
   "outputs": [],
   "source": [
    "def reddit_query(subreddits, n_samples=1500, searchType='comment', before=None, after=None):\n",
    "    url = f'https://api.pushshift.io/reddit/search/'\n",
    "    last_comment = round(time.time())\n",
    "    comment_list = []\n",
    "    \n",
    "    run = 1\n",
    "    while len(comment_list) < n_samples:\n",
    "        \n",
    "        try:\n",
    "            print(f'Starting query {run}')\n",
    "            \n",
    "            params = {'searchType':searchType,\n",
    "              'subreddit':subreddits,\n",
    "              'sort':'desc',\n",
    "              'size':1000,\n",
    "              'before':last_comment-1,\n",
    "              'after':after,\n",
    "             }\n",
    "                \n",
    "            response = requests.get(url, params = params)\n",
    "            posts = response.json()['data']\n",
    "            \n",
    "            if len(posts) == 0:\n",
    "                last_comment = last_comment\n",
    "            else:\n",
    "                last_comment = posts[-1]['created_utc']\n",
    "                comment_list.extend(posts)\n",
    "                timestamp = posts[-1]['created_utc']\n",
    "                time.sleep(1) \n",
    "                run += 1\n",
    "        except:\n",
    "            if response.status_code != 200:\n",
    "                return f'Check status. Error code: {response.status_code}'\n",
    "            else:\n",
    "                return 'Error. Pull not completed.'\n",
    "    \n",
    "    formatted_name, now, file_description = filename_format_log(file_path =f'../data/raw_{searchType}s.json', now=timestamp)\n",
    "    with open(formatted_name, 'w+') as f:\n",
    "        json.dump(comment_list, f)\n",
    "    \n",
    "    print(f'Saved and completed query and returned {len(comment_list)} {searchType}s.')\n",
    "    print(f'Reddit text is ready for processing.')\n",
    "    return print(f'Last timestamp was {timestamp}.')"
   ]
  },
  {
   "cell_type": "markdown",
   "metadata": {},
   "source": [
    "Using the query function to collect 15 comments from the conservative subreddit."
   ]
  },
  {
   "cell_type": "code",
   "execution_count": 13,
   "metadata": {},
   "outputs": [
    {
     "name": "stdout",
     "output_type": "stream",
     "text": [
      "Starting query 1\n",
      "Starting query 2\n",
      "Starting query 3\n",
      "Starting query 4\n",
      "Starting query 5\n",
      "Starting query 6\n",
      "Starting query 7\n",
      "Starting query 8\n",
      "Starting query 9\n",
      "Starting query 10\n",
      "Starting query 11\n",
      "Starting query 12\n",
      "Starting query 13\n",
      "Starting query 14\n",
      "Starting query 15\n",
      "Starting query 16\n",
      "Starting query 17\n",
      "Starting query 18\n",
      "Starting query 19\n",
      "Starting query 20\n",
      "Starting query 21\n",
      "Starting query 22\n",
      "Starting query 23\n",
      "Starting query 24\n",
      "Starting query 25\n",
      "Starting query 26\n",
      "Starting query 27\n",
      "Starting query 28\n",
      "Starting query 29\n",
      "Starting query 30\n",
      "Starting query 31\n",
      "Starting query 32\n",
      "Starting query 33\n",
      "Starting query 34\n",
      "Starting query 35\n",
      "Starting query 36\n",
      "Starting query 37\n",
      "Starting query 38\n",
      "Starting query 39\n",
      "Starting query 40\n",
      "Starting query 41\n",
      "Starting query 42\n",
      "Starting query 43\n",
      "Starting query 44\n",
      "Starting query 45\n",
      "Starting query 46\n",
      "Starting query 47\n",
      "Starting query 48\n",
      "Starting query 49\n",
      "Starting query 50\n",
      "Starting query 51\n",
      "Starting query 52\n",
      "Starting query 53\n",
      "Starting query 54\n",
      "Starting query 55\n",
      "Starting query 56\n",
      "Starting query 57\n",
      "Starting query 58\n",
      "Starting query 59\n",
      "Starting query 60\n",
      "Starting query 61\n",
      "Starting query 62\n",
      "Starting query 63\n",
      "Starting query 64\n",
      "Starting query 65\n",
      "Starting query 66\n",
      "Starting query 67\n",
      "Starting query 68\n",
      "Starting query 69\n",
      "Starting query 70\n",
      "Starting query 71\n",
      "Starting query 72\n",
      "Starting query 73\n",
      "Starting query 74\n",
      "Starting query 75\n",
      "Starting query 76\n",
      "Starting query 77\n",
      "Starting query 78\n",
      "Starting query 79\n",
      "Starting query 80\n",
      "Starting query 81\n",
      "Starting query 82\n",
      "Starting query 83\n",
      "Starting query 84\n",
      "Starting query 85\n",
      "Starting query 86\n",
      "Starting query 87\n",
      "Starting query 88\n",
      "Starting query 89\n",
      "Starting query 90\n",
      "Starting query 91\n",
      "Starting query 92\n",
      "Starting query 93\n",
      "Starting query 94\n",
      "Starting query 95\n",
      "Starting query 96\n",
      "Starting query 97\n",
      "Starting query 98\n",
      "Starting query 99\n",
      "Starting query 100\n",
      "Saved and completed query and returned 100000 comments.\n",
      "Reddit text is ready for processing.\n",
      "Last timestamp was 1553798901.\n"
     ]
    }
   ],
   "source": [
    "reddit_query(subreddits='blackops4',\n",
    "             n_samples=100_000,\n",
    "             searchType='comment')"
   ]
  },
  {
   "cell_type": "code",
   "execution_count": 18,
   "metadata": {},
   "outputs": [],
   "source": [
    "with open(f'../data/1553699454_raw_comments.json', 'r') as f:\n",
    "    cons_sample_list = json.load(f)"
   ]
  },
  {
   "cell_type": "code",
   "execution_count": 19,
   "metadata": {},
   "outputs": [
    {
     "data": {
      "text/plain": [
       "1000"
      ]
     },
     "execution_count": 19,
     "metadata": {},
     "output_type": "execute_result"
    }
   ],
   "source": [
    "len(cons_sample_list)"
   ]
  },
  {
   "cell_type": "code",
   "execution_count": 20,
   "metadata": {},
   "outputs": [
    {
     "data": {
      "text/plain": [
       "{'author': 'EVG2666',\n",
       " 'author_flair_background_color': '',\n",
       " 'author_flair_css_class': None,\n",
       " 'author_flair_richtext': [{'e': 'text', 't': 'Conservative'}],\n",
       " 'author_flair_template_id': None,\n",
       " 'author_flair_text': 'Conservative',\n",
       " 'author_flair_text_color': 'dark',\n",
       " 'author_flair_type': 'richtext',\n",
       " 'author_fullname': 't2_20w4ohq9',\n",
       " 'author_patreon_flair': False,\n",
       " 'body': 'The average Liberal is a mindless NPC. Even professors who should know better are so gullible. They believe everything they see on CNN. No critical thinking',\n",
       " 'created_utc': 1553728358,\n",
       " 'gildings': {'gid_1': 0, 'gid_2': 0, 'gid_3': 0},\n",
       " 'id': 'ejj7b7y',\n",
       " 'link_id': 't3_b67wys',\n",
       " 'no_follow': True,\n",
       " 'parent_id': 't3_b67wys',\n",
       " 'permalink': '/r/Conservative/comments/b67wys/republicans_more_informed_than_democrats/ejj7b7y/',\n",
       " 'retrieved_on': 1553728360,\n",
       " 'score': 1,\n",
       " 'send_replies': True,\n",
       " 'stickied': False,\n",
       " 'subreddit': 'Conservative',\n",
       " 'subreddit_id': 't5_2qh6p'}"
      ]
     },
     "execution_count": 20,
     "metadata": {},
     "output_type": "execute_result"
    }
   ],
   "source": [
    "cons_sample_list[0]"
   ]
  },
  {
   "cell_type": "markdown",
   "metadata": {},
   "source": [
    "Parsing the json file into a dataframe containing the features of interest."
   ]
  },
  {
   "cell_type": "code",
   "execution_count": 21,
   "metadata": {},
   "outputs": [],
   "source": [
    "def reddit_parse(sample):\n",
    "    \n",
    "    col_list = ['author',\n",
    "                'body',\n",
    "                'subreddit',\n",
    "                'subreddit_id',\n",
    "                'created_utc',\n",
    "                'link_id',\n",
    "                'parent_id',\n",
    "                'permalink',\n",
    "                ]\n",
    "    \n",
    "    comments_df = pd.DataFrame(sample)\n",
    "    comments_df = comments_df[col_list]\n",
    "    \n",
    "    comments_df.rename(columns={'subreddit':'libertarian'}, inplace=True)\n",
    "    comments_df['libertarian'] = comments_df['libertarian'].map({'Conservative':0, 'Libertarian':1})\n",
    "    \n",
    "    col_order = ['author',\n",
    "                 'body',\n",
    "                 'libertarian',\n",
    "                 'created_utc',\n",
    "                 'subreddit_id',\n",
    "                 'parent_id',\n",
    "                 'link_id',\n",
    "                 'permalink',\n",
    "                ]\n",
    "\n",
    "    return comments_df[col_order]"
   ]
  },
  {
   "cell_type": "markdown",
   "metadata": {},
   "source": [
    "Reviewing the shape of the dataframe to ensure correct transformation"
   ]
  },
  {
   "cell_type": "code",
   "execution_count": 24,
   "metadata": {},
   "outputs": [],
   "source": [
    "cons_comments_df = reddit_parse(cons_sample_list)"
   ]
  },
  {
   "cell_type": "code",
   "execution_count": null,
   "metadata": {},
   "outputs": [],
   "source": []
  },
  {
   "cell_type": "code",
   "execution_count": 25,
   "metadata": {},
   "outputs": [
    {
     "data": {
      "text/plain": [
       "(1000, 8)"
      ]
     },
     "execution_count": 25,
     "metadata": {},
     "output_type": "execute_result"
    }
   ],
   "source": [
    "cons_comments_df.shape"
   ]
  },
  {
   "cell_type": "markdown",
   "metadata": {},
   "source": [
    "Shape corresponds with expected values. Reviewing the head of the dataframe to ensure data was correctly labeled. "
   ]
  },
  {
   "cell_type": "code",
   "execution_count": 26,
   "metadata": {},
   "outputs": [
    {
     "data": {
      "text/html": [
       "<div>\n",
       "<style scoped>\n",
       "    .dataframe tbody tr th:only-of-type {\n",
       "        vertical-align: middle;\n",
       "    }\n",
       "\n",
       "    .dataframe tbody tr th {\n",
       "        vertical-align: top;\n",
       "    }\n",
       "\n",
       "    .dataframe thead th {\n",
       "        text-align: right;\n",
       "    }\n",
       "</style>\n",
       "<table border=\"1\" class=\"dataframe\">\n",
       "  <thead>\n",
       "    <tr style=\"text-align: right;\">\n",
       "      <th></th>\n",
       "      <th>author</th>\n",
       "      <th>body</th>\n",
       "      <th>libertarian</th>\n",
       "      <th>created_utc</th>\n",
       "      <th>subreddit_id</th>\n",
       "      <th>parent_id</th>\n",
       "      <th>link_id</th>\n",
       "      <th>permalink</th>\n",
       "    </tr>\n",
       "  </thead>\n",
       "  <tbody>\n",
       "    <tr>\n",
       "      <th>0</th>\n",
       "      <td>EVG2666</td>\n",
       "      <td>The average Liberal is a mindless NPC. Even pr...</td>\n",
       "      <td>0</td>\n",
       "      <td>1553728358</td>\n",
       "      <td>t5_2qh6p</td>\n",
       "      <td>t3_b67wys</td>\n",
       "      <td>t3_b67wys</td>\n",
       "      <td>/r/Conservative/comments/b67wys/republicans_mo...</td>\n",
       "    </tr>\n",
       "    <tr>\n",
       "      <th>1</th>\n",
       "      <td>1iJack23</td>\n",
       "      <td>so that means he can be charged with the crime...</td>\n",
       "      <td>0</td>\n",
       "      <td>1553728316</td>\n",
       "      <td>t5_2qh6p</td>\n",
       "      <td>t3_b68ugv</td>\n",
       "      <td>t3_b68ugv</td>\n",
       "      <td>/r/Conservative/comments/b68ugv/as_if_it_never...</td>\n",
       "    </tr>\n",
       "    <tr>\n",
       "      <th>2</th>\n",
       "      <td>[deleted]</td>\n",
       "      <td>[removed]</td>\n",
       "      <td>0</td>\n",
       "      <td>1553728300</td>\n",
       "      <td>t5_2qh6p</td>\n",
       "      <td>t3_b650hr</td>\n",
       "      <td>t3_b650hr</td>\n",
       "      <td>/r/Conservative/comments/b650hr/funny_how_it_i...</td>\n",
       "    </tr>\n",
       "    <tr>\n",
       "      <th>3</th>\n",
       "      <td>[deleted]</td>\n",
       "      <td>[removed]</td>\n",
       "      <td>0</td>\n",
       "      <td>1553728227</td>\n",
       "      <td>t5_2qh6p</td>\n",
       "      <td>t1_eji7af8</td>\n",
       "      <td>t3_b66klc</td>\n",
       "      <td>/r/Conservative/comments/b66klc/ohio_defunds_p...</td>\n",
       "    </tr>\n",
       "    <tr>\n",
       "      <th>4</th>\n",
       "      <td>mdgolfpro</td>\n",
       "      <td>Mueller's report is bi-partisan and objective....</td>\n",
       "      <td>0</td>\n",
       "      <td>1553728203</td>\n",
       "      <td>t5_2qh6p</td>\n",
       "      <td>t3_b650hr</td>\n",
       "      <td>t3_b650hr</td>\n",
       "      <td>/r/Conservative/comments/b650hr/funny_how_it_i...</td>\n",
       "    </tr>\n",
       "  </tbody>\n",
       "</table>\n",
       "</div>"
      ],
      "text/plain": [
       "      author                                               body  libertarian  \\\n",
       "0    EVG2666  The average Liberal is a mindless NPC. Even pr...            0   \n",
       "1   1iJack23  so that means he can be charged with the crime...            0   \n",
       "2  [deleted]                                          [removed]            0   \n",
       "3  [deleted]                                          [removed]            0   \n",
       "4  mdgolfpro  Mueller's report is bi-partisan and objective....            0   \n",
       "\n",
       "   created_utc subreddit_id   parent_id    link_id  \\\n",
       "0   1553728358     t5_2qh6p   t3_b67wys  t3_b67wys   \n",
       "1   1553728316     t5_2qh6p   t3_b68ugv  t3_b68ugv   \n",
       "2   1553728300     t5_2qh6p   t3_b650hr  t3_b650hr   \n",
       "3   1553728227     t5_2qh6p  t1_eji7af8  t3_b66klc   \n",
       "4   1553728203     t5_2qh6p   t3_b650hr  t3_b650hr   \n",
       "\n",
       "                                           permalink  \n",
       "0  /r/Conservative/comments/b67wys/republicans_mo...  \n",
       "1  /r/Conservative/comments/b68ugv/as_if_it_never...  \n",
       "2  /r/Conservative/comments/b650hr/funny_how_it_i...  \n",
       "3  /r/Conservative/comments/b66klc/ohio_defunds_p...  \n",
       "4  /r/Conservative/comments/b650hr/funny_how_it_i...  "
      ]
     },
     "execution_count": 26,
     "metadata": {},
     "output_type": "execute_result"
    }
   ],
   "source": [
    "cons_comments_df.head()"
   ]
  },
  {
   "cell_type": "code",
   "execution_count": null,
   "metadata": {},
   "outputs": [],
   "source": []
  }
 ],
 "metadata": {
  "kernelspec": {
   "display_name": "Python 3",
   "language": "python",
   "name": "python3"
  },
  "language_info": {
   "codemirror_mode": {
    "name": "ipython",
    "version": 3
   },
   "file_extension": ".py",
   "mimetype": "text/x-python",
   "name": "python",
   "nbconvert_exporter": "python",
   "pygments_lexer": "ipython3",
   "version": "3.7.2"
  }
 },
 "nbformat": 4,
 "nbformat_minor": 2
}
